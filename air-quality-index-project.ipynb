{
 "cells": [
  {
   "cell_type": "markdown",
   "metadata": {},
   "source": [
    "# Project on :- Air quality Index Prediction"
   ]
  },
  {
   "cell_type": "markdown",
   "metadata": {},
   "source": [
    "# Team 2"
   ]
  },
  {
   "cell_type": "markdown",
   "metadata": {},
   "source": [
    "* Ankit Lakra   MA22M002\n",
    "* Prince        MA22M012\n",
    "* Sourav Jana   MA22M022\n",
    "* Rohan Jaiswal MA22M026"
   ]
  },
  {
   "cell_type": "markdown",
   "metadata": {},
   "source": [
    "* Importing Pandas from library , it is use read csv file."
   ]
  },
  {
   "cell_type": "code",
   "execution_count": 34,
   "metadata": {},
   "outputs": [],
   "source": [
    "import sys\n",
    "\n",
    "if not sys.warnoptions:\n",
    "    import warnings\n",
    "    warnings.simplefilter(\"ignore\")"
   ]
  },
  {
   "cell_type": "code",
   "execution_count": 35,
   "metadata": {
    "_cell_guid": "b1076dfc-b9ad-4769-8c92-a6c4dae69d19",
    "_uuid": "8f2839f25d086af736a60e9eeb907d3b93b6e0e5",
    "execution": {
     "iopub.execute_input": "2023-03-28T12:26:10.411602Z",
     "iopub.status.busy": "2023-03-28T12:26:10.410738Z",
     "iopub.status.idle": "2023-03-28T12:26:10.441138Z",
     "shell.execute_reply": "2023-03-28T12:26:10.440139Z",
     "shell.execute_reply.started": "2023-03-28T12:26:10.411555Z"
    }
   },
   "outputs": [],
   "source": [
    "import pandas  as pd\n",
    "import numpy as np\n",
    "import seaborn as sns\n",
    "import matplotlib.pyplot as plt"
   ]
  },
  {
   "cell_type": "markdown",
   "metadata": {
    "execution": {
     "iopub.execute_input": "2023-03-28T12:35:55.357770Z",
     "iopub.status.busy": "2023-03-28T12:35:55.357318Z",
     "iopub.status.idle": "2023-03-28T12:35:55.387996Z",
     "shell.execute_reply": "2023-03-28T12:35:55.387035Z",
     "shell.execute_reply.started": "2023-03-28T12:35:55.357729Z"
    }
   },
   "source": [
    "## Dataset\n"
   ]
  },
  {
   "cell_type": "code",
   "execution_count": 36,
   "metadata": {},
   "outputs": [],
   "source": [
    "df = pd.read_csv('mumbai_1.csv')"
   ]
  },
  {
   "cell_type": "code",
   "execution_count": 37,
   "metadata": {
    "execution": {
     "iopub.execute_input": "2023-03-28T12:36:12.522635Z",
     "iopub.status.busy": "2023-03-28T12:36:12.521377Z",
     "iopub.status.idle": "2023-03-28T12:36:12.560834Z",
     "shell.execute_reply": "2023-03-28T12:36:12.559854Z",
     "shell.execute_reply.started": "2023-03-28T12:36:12.522574Z"
    }
   },
   "outputs": [
    {
     "data": {
      "text/html": [
       "<div>\n",
       "<style scoped>\n",
       "    .dataframe tbody tr th:only-of-type {\n",
       "        vertical-align: middle;\n",
       "    }\n",
       "\n",
       "    .dataframe tbody tr th {\n",
       "        vertical-align: top;\n",
       "    }\n",
       "\n",
       "    .dataframe thead th {\n",
       "        text-align: right;\n",
       "    }\n",
       "</style>\n",
       "<table border=\"1\" class=\"dataframe\">\n",
       "  <thead>\n",
       "    <tr style=\"text-align: right;\">\n",
       "      <th></th>\n",
       "      <th>Date</th>\n",
       "      <th>PM2.5</th>\n",
       "      <th>PM10</th>\n",
       "      <th>NO2</th>\n",
       "      <th>SO2</th>\n",
       "      <th>CO</th>\n",
       "      <th>Ozone</th>\n",
       "      <th>NH3</th>\n",
       "    </tr>\n",
       "  </thead>\n",
       "  <tbody>\n",
       "    <tr>\n",
       "      <th>0</th>\n",
       "      <td>25-06-2019</td>\n",
       "      <td>12.5700</td>\n",
       "      <td>43.8300</td>\n",
       "      <td>8.0100</td>\n",
       "      <td>9.4900</td>\n",
       "      <td>None</td>\n",
       "      <td>25.0100</td>\n",
       "      <td>4.9400</td>\n",
       "    </tr>\n",
       "    <tr>\n",
       "      <th>1</th>\n",
       "      <td>26-06-2019</td>\n",
       "      <td>9.1600</td>\n",
       "      <td>34.1100</td>\n",
       "      <td>3.1600</td>\n",
       "      <td>9.5100</td>\n",
       "      <td>0.3600</td>\n",
       "      <td>30.5100</td>\n",
       "      <td>6.8200</td>\n",
       "    </tr>\n",
       "    <tr>\n",
       "      <th>2</th>\n",
       "      <td>27-06-2019</td>\n",
       "      <td>6.7100</td>\n",
       "      <td>29.4400</td>\n",
       "      <td>None</td>\n",
       "      <td>9.4200</td>\n",
       "      <td>0.2200</td>\n",
       "      <td>26.7500</td>\n",
       "      <td>None</td>\n",
       "    </tr>\n",
       "    <tr>\n",
       "      <th>3</th>\n",
       "      <td>28-06-2019</td>\n",
       "      <td>2.9000</td>\n",
       "      <td>18.6100</td>\n",
       "      <td>3.3200</td>\n",
       "      <td>9.4900</td>\n",
       "      <td>0.1800</td>\n",
       "      <td>26.2600</td>\n",
       "      <td>5.9800</td>\n",
       "    </tr>\n",
       "    <tr>\n",
       "      <th>4</th>\n",
       "      <td>29-06-2019</td>\n",
       "      <td>4.0800</td>\n",
       "      <td>28.5600</td>\n",
       "      <td>4.0300</td>\n",
       "      <td>9.5200</td>\n",
       "      <td>0.0300</td>\n",
       "      <td>30.3000</td>\n",
       "      <td>2.5000</td>\n",
       "    </tr>\n",
       "    <tr>\n",
       "      <th>...</th>\n",
       "      <td>...</td>\n",
       "      <td>...</td>\n",
       "      <td>...</td>\n",
       "      <td>...</td>\n",
       "      <td>...</td>\n",
       "      <td>...</td>\n",
       "      <td>...</td>\n",
       "      <td>...</td>\n",
       "    </tr>\n",
       "    <tr>\n",
       "      <th>1335</th>\n",
       "      <td>19-02-2023</td>\n",
       "      <td>83.3000</td>\n",
       "      <td>183.1700</td>\n",
       "      <td>None</td>\n",
       "      <td>30.5700</td>\n",
       "      <td>1.4600</td>\n",
       "      <td>11.1200</td>\n",
       "      <td>28.1700</td>\n",
       "    </tr>\n",
       "    <tr>\n",
       "      <th>1336</th>\n",
       "      <td>20-02-2023</td>\n",
       "      <td>88.3000</td>\n",
       "      <td>194.4800</td>\n",
       "      <td>None</td>\n",
       "      <td>28.6000</td>\n",
       "      <td>1.5500</td>\n",
       "      <td>11.2800</td>\n",
       "      <td>27.0800</td>\n",
       "    </tr>\n",
       "    <tr>\n",
       "      <th>1337</th>\n",
       "      <td>21-02-2023</td>\n",
       "      <td>72.4300</td>\n",
       "      <td>128.2200</td>\n",
       "      <td>None</td>\n",
       "      <td>26.2700</td>\n",
       "      <td>1.3800</td>\n",
       "      <td>11.0900</td>\n",
       "      <td>29.0500</td>\n",
       "    </tr>\n",
       "    <tr>\n",
       "      <th>1338</th>\n",
       "      <td>22-02-2023</td>\n",
       "      <td>84.9400</td>\n",
       "      <td>159.5100</td>\n",
       "      <td>None</td>\n",
       "      <td>26.0800</td>\n",
       "      <td>1.4300</td>\n",
       "      <td>10.4100</td>\n",
       "      <td>25.9000</td>\n",
       "    </tr>\n",
       "    <tr>\n",
       "      <th>1339</th>\n",
       "      <td>22-02-2023</td>\n",
       "      <td>44.2500</td>\n",
       "      <td>102.4400</td>\n",
       "      <td>None</td>\n",
       "      <td>25.0000</td>\n",
       "      <td>1.1300</td>\n",
       "      <td>10.6800</td>\n",
       "      <td>15.1300</td>\n",
       "    </tr>\n",
       "  </tbody>\n",
       "</table>\n",
       "<p>1340 rows × 8 columns</p>\n",
       "</div>"
      ],
      "text/plain": [
       "            Date    PM2.5      PM10     NO2      SO2      CO    Ozone      NH3\n",
       "0     25-06-2019  12.5700   43.8300  8.0100   9.4900    None  25.0100   4.9400\n",
       "1     26-06-2019   9.1600   34.1100  3.1600   9.5100  0.3600  30.5100   6.8200\n",
       "2     27-06-2019   6.7100   29.4400    None   9.4200  0.2200  26.7500     None\n",
       "3     28-06-2019   2.9000   18.6100  3.3200   9.4900  0.1800  26.2600   5.9800\n",
       "4     29-06-2019   4.0800   28.5600  4.0300   9.5200  0.0300  30.3000   2.5000\n",
       "...          ...      ...       ...     ...      ...     ...      ...      ...\n",
       "1335  19-02-2023  83.3000  183.1700    None  30.5700  1.4600  11.1200  28.1700\n",
       "1336  20-02-2023  88.3000  194.4800    None  28.6000  1.5500  11.2800  27.0800\n",
       "1337  21-02-2023  72.4300  128.2200    None  26.2700  1.3800  11.0900  29.0500\n",
       "1338  22-02-2023  84.9400  159.5100    None  26.0800  1.4300  10.4100  25.9000\n",
       "1339  22-02-2023  44.2500  102.4400    None  25.0000  1.1300  10.6800  15.1300\n",
       "\n",
       "[1340 rows x 8 columns]"
      ]
     },
     "execution_count": 37,
     "metadata": {},
     "output_type": "execute_result"
    }
   ],
   "source": [
    " df"
   ]
  },
  {
   "cell_type": "markdown",
   "metadata": {},
   "source": [
    " In pandas \"None\" is not treated as missing value. So, we just converted the \"None\" value to \"NaN\" value."
   ]
  },
  {
   "cell_type": "code",
   "execution_count": 38,
   "metadata": {
    "execution": {
     "iopub.execute_input": "2023-03-28T12:38:10.448342Z",
     "iopub.status.busy": "2023-03-28T12:38:10.447884Z",
     "iopub.status.idle": "2023-03-28T12:38:10.461307Z",
     "shell.execute_reply": "2023-03-28T12:38:10.459917Z",
     "shell.execute_reply.started": "2023-03-28T12:38:10.448305Z"
    }
   },
   "outputs": [],
   "source": [
    "missing_value=[\"None\"]\n",
    "df=pd.read_csv('mumbai_1.csv',na_values=missing_value)"
   ]
  },
  {
   "cell_type": "code",
   "execution_count": 39,
   "metadata": {
    "execution": {
     "iopub.execute_input": "2023-03-28T12:38:14.678010Z",
     "iopub.status.busy": "2023-03-28T12:38:14.677600Z",
     "iopub.status.idle": "2023-03-28T12:38:14.701168Z",
     "shell.execute_reply": "2023-03-28T12:38:14.699892Z",
     "shell.execute_reply.started": "2023-03-28T12:38:14.677976Z"
    }
   },
   "outputs": [
    {
     "data": {
      "text/html": [
       "<div>\n",
       "<style scoped>\n",
       "    .dataframe tbody tr th:only-of-type {\n",
       "        vertical-align: middle;\n",
       "    }\n",
       "\n",
       "    .dataframe tbody tr th {\n",
       "        vertical-align: top;\n",
       "    }\n",
       "\n",
       "    .dataframe thead th {\n",
       "        text-align: right;\n",
       "    }\n",
       "</style>\n",
       "<table border=\"1\" class=\"dataframe\">\n",
       "  <thead>\n",
       "    <tr style=\"text-align: right;\">\n",
       "      <th></th>\n",
       "      <th>Date</th>\n",
       "      <th>PM2.5</th>\n",
       "      <th>PM10</th>\n",
       "      <th>NO2</th>\n",
       "      <th>SO2</th>\n",
       "      <th>CO</th>\n",
       "      <th>Ozone</th>\n",
       "      <th>NH3</th>\n",
       "    </tr>\n",
       "  </thead>\n",
       "  <tbody>\n",
       "    <tr>\n",
       "      <th>0</th>\n",
       "      <td>25-06-2019</td>\n",
       "      <td>12.57</td>\n",
       "      <td>43.83</td>\n",
       "      <td>8.01</td>\n",
       "      <td>9.49</td>\n",
       "      <td>NaN</td>\n",
       "      <td>25.01</td>\n",
       "      <td>4.94</td>\n",
       "    </tr>\n",
       "    <tr>\n",
       "      <th>1</th>\n",
       "      <td>26-06-2019</td>\n",
       "      <td>9.16</td>\n",
       "      <td>34.11</td>\n",
       "      <td>3.16</td>\n",
       "      <td>9.51</td>\n",
       "      <td>0.36</td>\n",
       "      <td>30.51</td>\n",
       "      <td>6.82</td>\n",
       "    </tr>\n",
       "    <tr>\n",
       "      <th>2</th>\n",
       "      <td>27-06-2019</td>\n",
       "      <td>6.71</td>\n",
       "      <td>29.44</td>\n",
       "      <td>NaN</td>\n",
       "      <td>9.42</td>\n",
       "      <td>0.22</td>\n",
       "      <td>26.75</td>\n",
       "      <td>NaN</td>\n",
       "    </tr>\n",
       "    <tr>\n",
       "      <th>3</th>\n",
       "      <td>28-06-2019</td>\n",
       "      <td>2.90</td>\n",
       "      <td>18.61</td>\n",
       "      <td>3.32</td>\n",
       "      <td>9.49</td>\n",
       "      <td>0.18</td>\n",
       "      <td>26.26</td>\n",
       "      <td>5.98</td>\n",
       "    </tr>\n",
       "    <tr>\n",
       "      <th>4</th>\n",
       "      <td>29-06-2019</td>\n",
       "      <td>4.08</td>\n",
       "      <td>28.56</td>\n",
       "      <td>4.03</td>\n",
       "      <td>9.52</td>\n",
       "      <td>0.03</td>\n",
       "      <td>30.30</td>\n",
       "      <td>2.50</td>\n",
       "    </tr>\n",
       "    <tr>\n",
       "      <th>...</th>\n",
       "      <td>...</td>\n",
       "      <td>...</td>\n",
       "      <td>...</td>\n",
       "      <td>...</td>\n",
       "      <td>...</td>\n",
       "      <td>...</td>\n",
       "      <td>...</td>\n",
       "      <td>...</td>\n",
       "    </tr>\n",
       "    <tr>\n",
       "      <th>1335</th>\n",
       "      <td>19-02-2023</td>\n",
       "      <td>83.30</td>\n",
       "      <td>183.17</td>\n",
       "      <td>NaN</td>\n",
       "      <td>30.57</td>\n",
       "      <td>1.46</td>\n",
       "      <td>11.12</td>\n",
       "      <td>28.17</td>\n",
       "    </tr>\n",
       "    <tr>\n",
       "      <th>1336</th>\n",
       "      <td>20-02-2023</td>\n",
       "      <td>88.30</td>\n",
       "      <td>194.48</td>\n",
       "      <td>NaN</td>\n",
       "      <td>28.60</td>\n",
       "      <td>1.55</td>\n",
       "      <td>11.28</td>\n",
       "      <td>27.08</td>\n",
       "    </tr>\n",
       "    <tr>\n",
       "      <th>1337</th>\n",
       "      <td>21-02-2023</td>\n",
       "      <td>72.43</td>\n",
       "      <td>128.22</td>\n",
       "      <td>NaN</td>\n",
       "      <td>26.27</td>\n",
       "      <td>1.38</td>\n",
       "      <td>11.09</td>\n",
       "      <td>29.05</td>\n",
       "    </tr>\n",
       "    <tr>\n",
       "      <th>1338</th>\n",
       "      <td>22-02-2023</td>\n",
       "      <td>84.94</td>\n",
       "      <td>159.51</td>\n",
       "      <td>NaN</td>\n",
       "      <td>26.08</td>\n",
       "      <td>1.43</td>\n",
       "      <td>10.41</td>\n",
       "      <td>25.90</td>\n",
       "    </tr>\n",
       "    <tr>\n",
       "      <th>1339</th>\n",
       "      <td>22-02-2023</td>\n",
       "      <td>44.25</td>\n",
       "      <td>102.44</td>\n",
       "      <td>NaN</td>\n",
       "      <td>25.00</td>\n",
       "      <td>1.13</td>\n",
       "      <td>10.68</td>\n",
       "      <td>15.13</td>\n",
       "    </tr>\n",
       "  </tbody>\n",
       "</table>\n",
       "<p>1340 rows × 8 columns</p>\n",
       "</div>"
      ],
      "text/plain": [
       "            Date  PM2.5    PM10   NO2    SO2    CO  Ozone    NH3\n",
       "0     25-06-2019  12.57   43.83  8.01   9.49   NaN  25.01   4.94\n",
       "1     26-06-2019   9.16   34.11  3.16   9.51  0.36  30.51   6.82\n",
       "2     27-06-2019   6.71   29.44   NaN   9.42  0.22  26.75    NaN\n",
       "3     28-06-2019   2.90   18.61  3.32   9.49  0.18  26.26   5.98\n",
       "4     29-06-2019   4.08   28.56  4.03   9.52  0.03  30.30   2.50\n",
       "...          ...    ...     ...   ...    ...   ...    ...    ...\n",
       "1335  19-02-2023  83.30  183.17   NaN  30.57  1.46  11.12  28.17\n",
       "1336  20-02-2023  88.30  194.48   NaN  28.60  1.55  11.28  27.08\n",
       "1337  21-02-2023  72.43  128.22   NaN  26.27  1.38  11.09  29.05\n",
       "1338  22-02-2023  84.94  159.51   NaN  26.08  1.43  10.41  25.90\n",
       "1339  22-02-2023  44.25  102.44   NaN  25.00  1.13  10.68  15.13\n",
       "\n",
       "[1340 rows x 8 columns]"
      ]
     },
     "execution_count": 39,
     "metadata": {},
     "output_type": "execute_result"
    }
   ],
   "source": [
    "df"
   ]
  },
  {
   "cell_type": "markdown",
   "metadata": {},
   "source": [
    " Now we can see the statistical description of data frame"
   ]
  },
  {
   "cell_type": "code",
   "execution_count": 40,
   "metadata": {
    "execution": {
     "iopub.execute_input": "2023-03-28T12:38:25.224471Z",
     "iopub.status.busy": "2023-03-28T12:38:25.223997Z",
     "iopub.status.idle": "2023-03-28T12:38:25.270231Z",
     "shell.execute_reply": "2023-03-28T12:38:25.268926Z",
     "shell.execute_reply.started": "2023-03-28T12:38:25.224416Z"
    }
   },
   "outputs": [
    {
     "data": {
      "text/html": [
       "<div>\n",
       "<style scoped>\n",
       "    .dataframe tbody tr th:only-of-type {\n",
       "        vertical-align: middle;\n",
       "    }\n",
       "\n",
       "    .dataframe tbody tr th {\n",
       "        vertical-align: top;\n",
       "    }\n",
       "\n",
       "    .dataframe thead th {\n",
       "        text-align: right;\n",
       "    }\n",
       "</style>\n",
       "<table border=\"1\" class=\"dataframe\">\n",
       "  <thead>\n",
       "    <tr style=\"text-align: right;\">\n",
       "      <th></th>\n",
       "      <th>PM2.5</th>\n",
       "      <th>PM10</th>\n",
       "      <th>NO2</th>\n",
       "      <th>SO2</th>\n",
       "      <th>CO</th>\n",
       "      <th>Ozone</th>\n",
       "      <th>NH3</th>\n",
       "    </tr>\n",
       "  </thead>\n",
       "  <tbody>\n",
       "    <tr>\n",
       "      <th>count</th>\n",
       "      <td>1149.000000</td>\n",
       "      <td>1230.000000</td>\n",
       "      <td>1231.000000</td>\n",
       "      <td>1216.000000</td>\n",
       "      <td>1250.000000</td>\n",
       "      <td>1242.000000</td>\n",
       "      <td>1240.000000</td>\n",
       "    </tr>\n",
       "    <tr>\n",
       "      <th>mean</th>\n",
       "      <td>39.379060</td>\n",
       "      <td>83.627626</td>\n",
       "      <td>24.496686</td>\n",
       "      <td>17.716505</td>\n",
       "      <td>0.709848</td>\n",
       "      <td>14.549823</td>\n",
       "      <td>15.012476</td>\n",
       "    </tr>\n",
       "    <tr>\n",
       "      <th>std</th>\n",
       "      <td>29.112165</td>\n",
       "      <td>57.602031</td>\n",
       "      <td>28.833937</td>\n",
       "      <td>17.600163</td>\n",
       "      <td>0.491962</td>\n",
       "      <td>18.679601</td>\n",
       "      <td>11.656167</td>\n",
       "    </tr>\n",
       "    <tr>\n",
       "      <th>min</th>\n",
       "      <td>2.500000</td>\n",
       "      <td>11.840000</td>\n",
       "      <td>0.380000</td>\n",
       "      <td>0.010000</td>\n",
       "      <td>0.000000</td>\n",
       "      <td>0.010000</td>\n",
       "      <td>0.340000</td>\n",
       "    </tr>\n",
       "    <tr>\n",
       "      <th>25%</th>\n",
       "      <td>14.510000</td>\n",
       "      <td>35.762500</td>\n",
       "      <td>7.510000</td>\n",
       "      <td>6.857500</td>\n",
       "      <td>0.350000</td>\n",
       "      <td>2.380000</td>\n",
       "      <td>8.325000</td>\n",
       "    </tr>\n",
       "    <tr>\n",
       "      <th>50%</th>\n",
       "      <td>30.720000</td>\n",
       "      <td>66.180000</td>\n",
       "      <td>11.570000</td>\n",
       "      <td>14.015000</td>\n",
       "      <td>0.640000</td>\n",
       "      <td>7.030000</td>\n",
       "      <td>11.830000</td>\n",
       "    </tr>\n",
       "    <tr>\n",
       "      <th>75%</th>\n",
       "      <td>60.200000</td>\n",
       "      <td>126.287500</td>\n",
       "      <td>33.490000</td>\n",
       "      <td>22.147500</td>\n",
       "      <td>1.020000</td>\n",
       "      <td>16.547500</td>\n",
       "      <td>17.497500</td>\n",
       "    </tr>\n",
       "    <tr>\n",
       "      <th>max</th>\n",
       "      <td>272.760000</td>\n",
       "      <td>543.830000</td>\n",
       "      <td>229.200000</td>\n",
       "      <td>180.100000</td>\n",
       "      <td>3.110000</td>\n",
       "      <td>116.780000</td>\n",
       "      <td>131.750000</td>\n",
       "    </tr>\n",
       "  </tbody>\n",
       "</table>\n",
       "</div>"
      ],
      "text/plain": [
       "             PM2.5         PM10          NO2          SO2           CO  \\\n",
       "count  1149.000000  1230.000000  1231.000000  1216.000000  1250.000000   \n",
       "mean     39.379060    83.627626    24.496686    17.716505     0.709848   \n",
       "std      29.112165    57.602031    28.833937    17.600163     0.491962   \n",
       "min       2.500000    11.840000     0.380000     0.010000     0.000000   \n",
       "25%      14.510000    35.762500     7.510000     6.857500     0.350000   \n",
       "50%      30.720000    66.180000    11.570000    14.015000     0.640000   \n",
       "75%      60.200000   126.287500    33.490000    22.147500     1.020000   \n",
       "max     272.760000   543.830000   229.200000   180.100000     3.110000   \n",
       "\n",
       "             Ozone          NH3  \n",
       "count  1242.000000  1240.000000  \n",
       "mean     14.549823    15.012476  \n",
       "std      18.679601    11.656167  \n",
       "min       0.010000     0.340000  \n",
       "25%       2.380000     8.325000  \n",
       "50%       7.030000    11.830000  \n",
       "75%      16.547500    17.497500  \n",
       "max     116.780000   131.750000  "
      ]
     },
     "execution_count": 40,
     "metadata": {},
     "output_type": "execute_result"
    }
   ],
   "source": [
    "df.describe()"
   ]
  },
  {
   "cell_type": "markdown",
   "metadata": {},
   "source": [
    " Now we can see the statistical description of data frame"
   ]
  },
  {
   "cell_type": "code",
   "execution_count": 41,
   "metadata": {},
   "outputs": [
    {
     "data": {
      "text/plain": [
       " Date      0\n",
       "PM2.5    191\n",
       "PM10     110\n",
       "NO2      109\n",
       "SO2      124\n",
       "CO        90\n",
       "Ozone     98\n",
       "NH3      100\n",
       "dtype: int64"
      ]
     },
     "execution_count": 41,
     "metadata": {},
     "output_type": "execute_result"
    }
   ],
   "source": [
    "df.isnull().sum()"
   ]
  },
  {
   "cell_type": "markdown",
   "metadata": {},
   "source": [
    "# Here we can see that there are missing values "
   ]
  },
  {
   "cell_type": "markdown",
   "metadata": {},
   "source": [
    "checking information df has... according to the dtype and total count"
   ]
  },
  {
   "cell_type": "code",
   "execution_count": 42,
   "metadata": {
    "execution": {
     "iopub.execute_input": "2023-03-28T12:39:29.004133Z",
     "iopub.status.busy": "2023-03-28T12:39:29.002903Z",
     "iopub.status.idle": "2023-03-28T12:39:29.022189Z",
     "shell.execute_reply": "2023-03-28T12:39:29.020917Z",
     "shell.execute_reply.started": "2023-03-28T12:39:29.004085Z"
    }
   },
   "outputs": [
    {
     "name": "stdout",
     "output_type": "stream",
     "text": [
      "<class 'pandas.core.frame.DataFrame'>\n",
      "RangeIndex: 1340 entries, 0 to 1339\n",
      "Data columns (total 8 columns):\n",
      " #   Column  Non-Null Count  Dtype  \n",
      "---  ------  --------------  -----  \n",
      " 0    Date   1340 non-null   object \n",
      " 1   PM2.5   1149 non-null   float64\n",
      " 2   PM10    1230 non-null   float64\n",
      " 3   NO2     1231 non-null   float64\n",
      " 4   SO2     1216 non-null   float64\n",
      " 5   CO      1250 non-null   float64\n",
      " 6   Ozone   1242 non-null   float64\n",
      " 7   NH3     1240 non-null   float64\n",
      "dtypes: float64(7), object(1)\n",
      "memory usage: 83.9+ KB\n"
     ]
    }
   ],
   "source": [
    "df.info()"
   ]
  },
  {
   "cell_type": "code",
   "execution_count": 43,
   "metadata": {
    "execution": {
     "iopub.execute_input": "2023-03-28T12:39:52.310833Z",
     "iopub.status.busy": "2023-03-28T12:39:52.310201Z",
     "iopub.status.idle": "2023-03-28T12:39:52.316401Z",
     "shell.execute_reply": "2023-03-28T12:39:52.314911Z",
     "shell.execute_reply.started": "2023-03-28T12:39:52.310791Z"
    }
   },
   "outputs": [],
   "source": [
    "# Matplotlib is a plotting library for the Python programming language and its numerical mathematics extension NumPy.\n"
   ]
  },
  {
   "cell_type": "markdown",
   "metadata": {},
   "source": [
    "# Plotting "
   ]
  },
  {
   "cell_type": "markdown",
   "metadata": {},
   "source": [
    "Plotting of PM 2.5"
   ]
  },
  {
   "cell_type": "code",
   "execution_count": 44,
   "metadata": {
    "execution": {
     "iopub.execute_input": "2023-03-28T12:39:57.956950Z",
     "iopub.status.busy": "2023-03-28T12:39:57.956513Z",
     "iopub.status.idle": "2023-03-28T12:39:58.278524Z",
     "shell.execute_reply": "2023-03-28T12:39:58.277281Z",
     "shell.execute_reply.started": "2023-03-28T12:39:57.956911Z"
    }
   },
   "outputs": [
    {
     "data": {
      "image/png": "[encoded data removed]",
      "text/plain": [
       "<Figure size 800x600 with 1 Axes>"
      ]
     },
     "metadata": {},
     "output_type": "display_data"
    }
   ],
   "source": [
    "# plotting the distribution graph of PM2.5\n",
    "%matplotlib inline\n",
    "plt.figure(figsize=(8,6))\n",
    "sns.kdeplot(data=df,x='PM2.5')\n",
    "plt.title(\"Distribution PM 2.5 with null value\")\n",
    "plt.ylabel(\"Frequecy in % \")\n",
    "plt.show()"
   ]
  },
  {
   "cell_type": "markdown",
   "metadata": {},
   "source": [
    "* After getting information from the distribution plot,we decided nan value repace with mean value of the column "
   ]
  },
  {
   "cell_type": "code",
   "execution_count": 45,
   "metadata": {
    "execution": {
     "iopub.execute_input": "2023-03-28T12:40:23.024896Z",
     "iopub.status.busy": "2023-03-28T12:40:23.022427Z",
     "iopub.status.idle": "2023-03-28T12:40:23.033726Z",
     "shell.execute_reply": "2023-03-28T12:40:23.032331Z",
     "shell.execute_reply.started": "2023-03-28T12:40:23.024827Z"
    }
   },
   "outputs": [
    {
     "data": {
      "text/plain": [
       "39.37906005221933"
      ]
     },
     "execution_count": 45,
     "metadata": {},
     "output_type": "execute_result"
    }
   ],
   "source": [
    "# so here we are taking the mean\n",
    "pmmean=df[\"PM2.5\"].mean()\n",
    "pmmean"
   ]
  },
  {
   "cell_type": "code",
   "execution_count": 46,
   "metadata": {
    "execution": {
     "iopub.execute_input": "2023-03-28T12:40:36.068281Z",
     "iopub.status.busy": "2023-03-28T12:40:36.067822Z",
     "iopub.status.idle": "2023-03-28T12:40:36.092780Z",
     "shell.execute_reply": "2023-03-28T12:40:36.091475Z",
     "shell.execute_reply.started": "2023-03-28T12:40:36.068239Z"
    }
   },
   "outputs": [
    {
     "data": {
      "text/html": [
       "<div>\n",
       "<style scoped>\n",
       "    .dataframe tbody tr th:only-of-type {\n",
       "        vertical-align: middle;\n",
       "    }\n",
       "\n",
       "    .dataframe tbody tr th {\n",
       "        vertical-align: top;\n",
       "    }\n",
       "\n",
       "    .dataframe thead th {\n",
       "        text-align: right;\n",
       "    }\n",
       "</style>\n",
       "<table border=\"1\" class=\"dataframe\">\n",
       "  <thead>\n",
       "    <tr style=\"text-align: right;\">\n",
       "      <th></th>\n",
       "      <th>Date</th>\n",
       "      <th>PM2.5</th>\n",
       "      <th>PM10</th>\n",
       "      <th>NO2</th>\n",
       "      <th>SO2</th>\n",
       "      <th>CO</th>\n",
       "      <th>Ozone</th>\n",
       "      <th>NH3</th>\n",
       "    </tr>\n",
       "  </thead>\n",
       "  <tbody>\n",
       "    <tr>\n",
       "      <th>0</th>\n",
       "      <td>25-06-2019</td>\n",
       "      <td>12.57</td>\n",
       "      <td>43.83</td>\n",
       "      <td>8.01</td>\n",
       "      <td>9.49</td>\n",
       "      <td>NaN</td>\n",
       "      <td>25.01</td>\n",
       "      <td>4.94</td>\n",
       "    </tr>\n",
       "    <tr>\n",
       "      <th>1</th>\n",
       "      <td>26-06-2019</td>\n",
       "      <td>9.16</td>\n",
       "      <td>34.11</td>\n",
       "      <td>3.16</td>\n",
       "      <td>9.51</td>\n",
       "      <td>0.36</td>\n",
       "      <td>30.51</td>\n",
       "      <td>6.82</td>\n",
       "    </tr>\n",
       "    <tr>\n",
       "      <th>2</th>\n",
       "      <td>27-06-2019</td>\n",
       "      <td>6.71</td>\n",
       "      <td>29.44</td>\n",
       "      <td>NaN</td>\n",
       "      <td>9.42</td>\n",
       "      <td>0.22</td>\n",
       "      <td>26.75</td>\n",
       "      <td>NaN</td>\n",
       "    </tr>\n",
       "    <tr>\n",
       "      <th>3</th>\n",
       "      <td>28-06-2019</td>\n",
       "      <td>2.90</td>\n",
       "      <td>18.61</td>\n",
       "      <td>3.32</td>\n",
       "      <td>9.49</td>\n",
       "      <td>0.18</td>\n",
       "      <td>26.26</td>\n",
       "      <td>5.98</td>\n",
       "    </tr>\n",
       "    <tr>\n",
       "      <th>4</th>\n",
       "      <td>29-06-2019</td>\n",
       "      <td>4.08</td>\n",
       "      <td>28.56</td>\n",
       "      <td>4.03</td>\n",
       "      <td>9.52</td>\n",
       "      <td>0.03</td>\n",
       "      <td>30.30</td>\n",
       "      <td>2.50</td>\n",
       "    </tr>\n",
       "    <tr>\n",
       "      <th>...</th>\n",
       "      <td>...</td>\n",
       "      <td>...</td>\n",
       "      <td>...</td>\n",
       "      <td>...</td>\n",
       "      <td>...</td>\n",
       "      <td>...</td>\n",
       "      <td>...</td>\n",
       "      <td>...</td>\n",
       "    </tr>\n",
       "    <tr>\n",
       "      <th>1335</th>\n",
       "      <td>19-02-2023</td>\n",
       "      <td>83.30</td>\n",
       "      <td>183.17</td>\n",
       "      <td>NaN</td>\n",
       "      <td>30.57</td>\n",
       "      <td>1.46</td>\n",
       "      <td>11.12</td>\n",
       "      <td>28.17</td>\n",
       "    </tr>\n",
       "    <tr>\n",
       "      <th>1336</th>\n",
       "      <td>20-02-2023</td>\n",
       "      <td>88.30</td>\n",
       "      <td>194.48</td>\n",
       "      <td>NaN</td>\n",
       "      <td>28.60</td>\n",
       "      <td>1.55</td>\n",
       "      <td>11.28</td>\n",
       "      <td>27.08</td>\n",
       "    </tr>\n",
       "    <tr>\n",
       "      <th>1337</th>\n",
       "      <td>21-02-2023</td>\n",
       "      <td>72.43</td>\n",
       "      <td>128.22</td>\n",
       "      <td>NaN</td>\n",
       "      <td>26.27</td>\n",
       "      <td>1.38</td>\n",
       "      <td>11.09</td>\n",
       "      <td>29.05</td>\n",
       "    </tr>\n",
       "    <tr>\n",
       "      <th>1338</th>\n",
       "      <td>22-02-2023</td>\n",
       "      <td>84.94</td>\n",
       "      <td>159.51</td>\n",
       "      <td>NaN</td>\n",
       "      <td>26.08</td>\n",
       "      <td>1.43</td>\n",
       "      <td>10.41</td>\n",
       "      <td>25.90</td>\n",
       "    </tr>\n",
       "    <tr>\n",
       "      <th>1339</th>\n",
       "      <td>22-02-2023</td>\n",
       "      <td>44.25</td>\n",
       "      <td>102.44</td>\n",
       "      <td>NaN</td>\n",
       "      <td>25.00</td>\n",
       "      <td>1.13</td>\n",
       "      <td>10.68</td>\n",
       "      <td>15.13</td>\n",
       "    </tr>\n",
       "  </tbody>\n",
       "</table>\n",
       "<p>1340 rows × 8 columns</p>\n",
       "</div>"
      ],
      "text/plain": [
       "            Date  PM2.5    PM10   NO2    SO2    CO  Ozone    NH3\n",
       "0     25-06-2019  12.57   43.83  8.01   9.49   NaN  25.01   4.94\n",
       "1     26-06-2019   9.16   34.11  3.16   9.51  0.36  30.51   6.82\n",
       "2     27-06-2019   6.71   29.44   NaN   9.42  0.22  26.75    NaN\n",
       "3     28-06-2019   2.90   18.61  3.32   9.49  0.18  26.26   5.98\n",
       "4     29-06-2019   4.08   28.56  4.03   9.52  0.03  30.30   2.50\n",
       "...          ...    ...     ...   ...    ...   ...    ...    ...\n",
       "1335  19-02-2023  83.30  183.17   NaN  30.57  1.46  11.12  28.17\n",
       "1336  20-02-2023  88.30  194.48   NaN  28.60  1.55  11.28  27.08\n",
       "1337  21-02-2023  72.43  128.22   NaN  26.27  1.38  11.09  29.05\n",
       "1338  22-02-2023  84.94  159.51   NaN  26.08  1.43  10.41  25.90\n",
       "1339  22-02-2023  44.25  102.44   NaN  25.00  1.13  10.68  15.13\n",
       "\n",
       "[1340 rows x 8 columns]"
      ]
     },
     "execution_count": 46,
     "metadata": {},
     "output_type": "execute_result"
    }
   ],
   "source": [
    "# we are replacing the NaN with mean\n",
    "df[\"PM2.5\"].fillna(pmmean,inplace=True)\n",
    "df"
   ]
  },
  {
   "cell_type": "code",
   "execution_count": 47,
   "metadata": {
    "execution": {
     "iopub.execute_input": "2023-03-28T12:40:46.569635Z",
     "iopub.status.busy": "2023-03-28T12:40:46.569218Z",
     "iopub.status.idle": "2023-03-28T12:40:46.860086Z",
     "shell.execute_reply": "2023-03-28T12:40:46.858733Z",
     "shell.execute_reply.started": "2023-03-28T12:40:46.569599Z"
    }
   },
   "outputs": [
    {
     "data": {
      "text/plain": [
       "Text(0.5, 1.0, 'Distribution PM 2.5 with null value replaced by mean')"
      ]
     },
     "execution_count": 47,
     "metadata": {},
     "output_type": "execute_result"
    },
    {
     "data": {
      "image/png": "[encoded data removed]",
      "text/plain": [
       "<Figure size 800x600 with 1 Axes>"
      ]
     },
     "metadata": {},
     "output_type": "display_data"
    }
   ],
   "source": [
    "# Again plotting the distribution graph\n",
    "plt.figure(figsize=(8,6))\n",
    "sns.kdeplot(data=df,x='PM2.5')\n",
    "plt.title(\"Distribution PM 2.5 with null value replaced by mean\")"
   ]
  },
  {
   "cell_type": "markdown",
   "metadata": {},
   "source": [
    "* Now checking distributio of the PM10"
   ]
  },
  {
   "cell_type": "markdown",
   "metadata": {},
   "source": [
    "plotting the distribution graph  of PM10"
   ]
  },
  {
   "cell_type": "code",
   "execution_count": 48,
   "metadata": {
    "execution": {
     "iopub.execute_input": "2023-03-28T12:42:02.282784Z",
     "iopub.status.busy": "2023-03-28T12:42:02.281367Z",
     "iopub.status.idle": "2023-03-28T12:42:02.556387Z",
     "shell.execute_reply": "2023-03-28T12:42:02.555250Z",
     "shell.execute_reply.started": "2023-03-28T12:42:02.282734Z"
    }
   },
   "outputs": [
    {
     "data": {
      "text/plain": [
       "Text(0.5, 1.0, 'Distribution PM 10 with null value')"
      ]
     },
     "execution_count": 48,
     "metadata": {},
     "output_type": "execute_result"
    },
    {
     "data": {
      "image/png": "[encoded data removed]",
      "text/plain": [
       "<Figure size 800x600 with 1 Axes>"
      ]
     },
     "metadata": {},
     "output_type": "display_data"
    }
   ],
   "source": [
    "\n",
    "plt.figure(figsize=(8,6))\n",
    "sns.kdeplot(data=df,x='PM10')\n",
    "plt.title(\"Distribution PM 10 with null value\")"
   ]
  },
  {
   "cell_type": "code",
   "execution_count": 49,
   "metadata": {
    "execution": {
     "iopub.execute_input": "2023-03-28T12:42:12.320672Z",
     "iopub.status.busy": "2023-03-28T12:42:12.320200Z",
     "iopub.status.idle": "2023-03-28T12:42:12.330133Z",
     "shell.execute_reply": "2023-03-28T12:42:12.328826Z",
     "shell.execute_reply.started": "2023-03-28T12:42:12.320629Z"
    }
   },
   "outputs": [
    {
     "data": {
      "text/plain": [
       "83.62762601626017"
      ]
     },
     "execution_count": 49,
     "metadata": {},
     "output_type": "execute_result"
    }
   ],
   "source": [
    "pm_mean=df[\"PM10\"].mean()\n",
    "pm_mean"
   ]
  },
  {
   "cell_type": "code",
   "execution_count": 50,
   "metadata": {
    "execution": {
     "iopub.execute_input": "2023-03-28T12:42:24.012856Z",
     "iopub.status.busy": "2023-03-28T12:42:24.012390Z",
     "iopub.status.idle": "2023-03-28T12:42:24.019647Z",
     "shell.execute_reply": "2023-03-28T12:42:24.018572Z",
     "shell.execute_reply.started": "2023-03-28T12:42:24.012817Z"
    }
   },
   "outputs": [],
   "source": [
    "df[\"PM10\"].fillna(pm_mean,inplace=True)"
   ]
  },
  {
   "cell_type": "code",
   "execution_count": 51,
   "metadata": {
    "execution": {
     "iopub.execute_input": "2023-03-28T12:42:34.775993Z",
     "iopub.status.busy": "2023-03-28T12:42:34.775550Z",
     "iopub.status.idle": "2023-03-28T12:42:35.023109Z",
     "shell.execute_reply": "2023-03-28T12:42:35.021925Z",
     "shell.execute_reply.started": "2023-03-28T12:42:34.775955Z"
    }
   },
   "outputs": [
    {
     "data": {
      "text/plain": [
       "Text(0.5, 1.0, 'Distribution PM 10 with null value replaced by mean')"
      ]
     },
     "execution_count": 51,
     "metadata": {},
     "output_type": "execute_result"
    },
    {
     "data": {
      "image/png": "[encoded data removed]",
      "text/plain": [
       "<Figure size 800x600 with 1 Axes>"
      ]
     },
     "metadata": {},
     "output_type": "display_data"
    }
   ],
   "source": [
    "#  Aftrer that plotting the distribution graph\n",
    "plt.figure(figsize=(8,6))\n",
    "sns.kdeplot(data=df,x='PM2.5')\n",
    "plt.title(\"Distribution PM 10 with null value replaced by mean\")"
   ]
  },
  {
   "cell_type": "markdown",
   "metadata": {},
   "source": [
    "* In above we have separately checked the mean of PM2.5 and PM 10 but Now we are creating a for loop and showing the mean of all the data such as \"PM2.5\",\"PM10\",\"NO2\",\"SO2\",\"Ozone\",\"NH3\" separately. And replacing the NaN value with the mean value of its own."
   ]
  },
  {
   "cell_type": "markdown",
   "metadata": {},
   "source": [
    "* Now we can do same for all the features of this data set  using For loop"
   ]
  },
  {
   "cell_type": "code",
   "execution_count": 52,
   "metadata": {},
   "outputs": [
    {
     "data": {
      "text/html": [
       "<div>\n",
       "<style scoped>\n",
       "    .dataframe tbody tr th:only-of-type {\n",
       "        vertical-align: middle;\n",
       "    }\n",
       "\n",
       "    .dataframe tbody tr th {\n",
       "        vertical-align: top;\n",
       "    }\n",
       "\n",
       "    .dataframe thead th {\n",
       "        text-align: right;\n",
       "    }\n",
       "</style>\n",
       "<table border=\"1\" class=\"dataframe\">\n",
       "  <thead>\n",
       "    <tr style=\"text-align: right;\">\n",
       "      <th></th>\n",
       "      <th>Date</th>\n",
       "      <th>PM2.5</th>\n",
       "      <th>PM10</th>\n",
       "      <th>NO2</th>\n",
       "      <th>SO2</th>\n",
       "      <th>CO</th>\n",
       "      <th>Ozone</th>\n",
       "      <th>NH3</th>\n",
       "    </tr>\n",
       "  </thead>\n",
       "  <tbody>\n",
       "    <tr>\n",
       "      <th>0</th>\n",
       "      <td>25-06-2019</td>\n",
       "      <td>12.57</td>\n",
       "      <td>43.83</td>\n",
       "      <td>8.01</td>\n",
       "      <td>9.49</td>\n",
       "      <td>NaN</td>\n",
       "      <td>25.01</td>\n",
       "      <td>4.94</td>\n",
       "    </tr>\n",
       "    <tr>\n",
       "      <th>1</th>\n",
       "      <td>26-06-2019</td>\n",
       "      <td>9.16</td>\n",
       "      <td>34.11</td>\n",
       "      <td>3.16</td>\n",
       "      <td>9.51</td>\n",
       "      <td>0.36</td>\n",
       "      <td>30.51</td>\n",
       "      <td>6.82</td>\n",
       "    </tr>\n",
       "    <tr>\n",
       "      <th>2</th>\n",
       "      <td>27-06-2019</td>\n",
       "      <td>6.71</td>\n",
       "      <td>29.44</td>\n",
       "      <td>NaN</td>\n",
       "      <td>9.42</td>\n",
       "      <td>0.22</td>\n",
       "      <td>26.75</td>\n",
       "      <td>NaN</td>\n",
       "    </tr>\n",
       "    <tr>\n",
       "      <th>3</th>\n",
       "      <td>28-06-2019</td>\n",
       "      <td>2.90</td>\n",
       "      <td>18.61</td>\n",
       "      <td>3.32</td>\n",
       "      <td>9.49</td>\n",
       "      <td>0.18</td>\n",
       "      <td>26.26</td>\n",
       "      <td>5.98</td>\n",
       "    </tr>\n",
       "    <tr>\n",
       "      <th>4</th>\n",
       "      <td>29-06-2019</td>\n",
       "      <td>4.08</td>\n",
       "      <td>28.56</td>\n",
       "      <td>4.03</td>\n",
       "      <td>9.52</td>\n",
       "      <td>0.03</td>\n",
       "      <td>30.30</td>\n",
       "      <td>2.50</td>\n",
       "    </tr>\n",
       "    <tr>\n",
       "      <th>...</th>\n",
       "      <td>...</td>\n",
       "      <td>...</td>\n",
       "      <td>...</td>\n",
       "      <td>...</td>\n",
       "      <td>...</td>\n",
       "      <td>...</td>\n",
       "      <td>...</td>\n",
       "      <td>...</td>\n",
       "    </tr>\n",
       "    <tr>\n",
       "      <th>1335</th>\n",
       "      <td>19-02-2023</td>\n",
       "      <td>83.30</td>\n",
       "      <td>183.17</td>\n",
       "      <td>NaN</td>\n",
       "      <td>30.57</td>\n",
       "      <td>1.46</td>\n",
       "      <td>11.12</td>\n",
       "      <td>28.17</td>\n",
       "    </tr>\n",
       "    <tr>\n",
       "      <th>1336</th>\n",
       "      <td>20-02-2023</td>\n",
       "      <td>88.30</td>\n",
       "      <td>194.48</td>\n",
       "      <td>NaN</td>\n",
       "      <td>28.60</td>\n",
       "      <td>1.55</td>\n",
       "      <td>11.28</td>\n",
       "      <td>27.08</td>\n",
       "    </tr>\n",
       "    <tr>\n",
       "      <th>1337</th>\n",
       "      <td>21-02-2023</td>\n",
       "      <td>72.43</td>\n",
       "      <td>128.22</td>\n",
       "      <td>NaN</td>\n",
       "      <td>26.27</td>\n",
       "      <td>1.38</td>\n",
       "      <td>11.09</td>\n",
       "      <td>29.05</td>\n",
       "    </tr>\n",
       "    <tr>\n",
       "      <th>1338</th>\n",
       "      <td>22-02-2023</td>\n",
       "      <td>84.94</td>\n",
       "      <td>159.51</td>\n",
       "      <td>NaN</td>\n",
       "      <td>26.08</td>\n",
       "      <td>1.43</td>\n",
       "      <td>10.41</td>\n",
       "      <td>25.90</td>\n",
       "    </tr>\n",
       "    <tr>\n",
       "      <th>1339</th>\n",
       "      <td>22-02-2023</td>\n",
       "      <td>44.25</td>\n",
       "      <td>102.44</td>\n",
       "      <td>NaN</td>\n",
       "      <td>25.00</td>\n",
       "      <td>1.13</td>\n",
       "      <td>10.68</td>\n",
       "      <td>15.13</td>\n",
       "    </tr>\n",
       "  </tbody>\n",
       "</table>\n",
       "<p>1340 rows × 8 columns</p>\n",
       "</div>"
      ],
      "text/plain": [
       "            Date  PM2.5    PM10   NO2    SO2    CO  Ozone    NH3\n",
       "0     25-06-2019  12.57   43.83  8.01   9.49   NaN  25.01   4.94\n",
       "1     26-06-2019   9.16   34.11  3.16   9.51  0.36  30.51   6.82\n",
       "2     27-06-2019   6.71   29.44   NaN   9.42  0.22  26.75    NaN\n",
       "3     28-06-2019   2.90   18.61  3.32   9.49  0.18  26.26   5.98\n",
       "4     29-06-2019   4.08   28.56  4.03   9.52  0.03  30.30   2.50\n",
       "...          ...    ...     ...   ...    ...   ...    ...    ...\n",
       "1335  19-02-2023  83.30  183.17   NaN  30.57  1.46  11.12  28.17\n",
       "1336  20-02-2023  88.30  194.48   NaN  28.60  1.55  11.28  27.08\n",
       "1337  21-02-2023  72.43  128.22   NaN  26.27  1.38  11.09  29.05\n",
       "1338  22-02-2023  84.94  159.51   NaN  26.08  1.43  10.41  25.90\n",
       "1339  22-02-2023  44.25  102.44   NaN  25.00  1.13  10.68  15.13\n",
       "\n",
       "[1340 rows x 8 columns]"
      ]
     },
     "execution_count": 52,
     "metadata": {},
     "output_type": "execute_result"
    }
   ],
   "source": [
    "df"
   ]
  },
  {
   "cell_type": "code",
   "execution_count": 53,
   "metadata": {
    "execution": {
     "iopub.execute_input": "2023-03-28T12:48:25.633497Z",
     "iopub.status.busy": "2023-03-28T12:48:25.632442Z",
     "iopub.status.idle": "2023-03-28T12:48:25.665632Z",
     "shell.execute_reply": "2023-03-28T12:48:25.664265Z",
     "shell.execute_reply.started": "2023-03-28T12:48:25.633418Z"
    }
   },
   "outputs": [
    {
     "name": "stdout",
     "output_type": "stream",
     "text": [
      "Missing Value in PM2.5 column fill with 39.38\n",
      "Missing Value in PM10 column fill with 83.63\n",
      "Missing Value in NO2 column fill with 24.5\n",
      "Missing Value in SO2 column fill with 17.72\n",
      "Missing Value in Ozone column fill with 14.55\n",
      "Missing Value in NH3 column fill with 15.01\n",
      "Missing Value in CO column fill with 0.71\n"
     ]
    },
    {
     "data": {
      "text/html": [
       "<div>\n",
       "<style scoped>\n",
       "    .dataframe tbody tr th:only-of-type {\n",
       "        vertical-align: middle;\n",
       "    }\n",
       "\n",
       "    .dataframe tbody tr th {\n",
       "        vertical-align: top;\n",
       "    }\n",
       "\n",
       "    .dataframe thead th {\n",
       "        text-align: right;\n",
       "    }\n",
       "</style>\n",
       "<table border=\"1\" class=\"dataframe\">\n",
       "  <thead>\n",
       "    <tr style=\"text-align: right;\">\n",
       "      <th></th>\n",
       "      <th>Date</th>\n",
       "      <th>PM2.5</th>\n",
       "      <th>PM10</th>\n",
       "      <th>NO2</th>\n",
       "      <th>SO2</th>\n",
       "      <th>CO</th>\n",
       "      <th>Ozone</th>\n",
       "      <th>NH3</th>\n",
       "    </tr>\n",
       "  </thead>\n",
       "  <tbody>\n",
       "    <tr>\n",
       "      <th>0</th>\n",
       "      <td>25-06-2019</td>\n",
       "      <td>12.57</td>\n",
       "      <td>43.83</td>\n",
       "      <td>8.01</td>\n",
       "      <td>9.49</td>\n",
       "      <td>0.71</td>\n",
       "      <td>25.01</td>\n",
       "      <td>4.94</td>\n",
       "    </tr>\n",
       "    <tr>\n",
       "      <th>1</th>\n",
       "      <td>26-06-2019</td>\n",
       "      <td>9.16</td>\n",
       "      <td>34.11</td>\n",
       "      <td>3.16</td>\n",
       "      <td>9.51</td>\n",
       "      <td>0.36</td>\n",
       "      <td>30.51</td>\n",
       "      <td>6.82</td>\n",
       "    </tr>\n",
       "    <tr>\n",
       "      <th>2</th>\n",
       "      <td>27-06-2019</td>\n",
       "      <td>6.71</td>\n",
       "      <td>29.44</td>\n",
       "      <td>24.50</td>\n",
       "      <td>9.42</td>\n",
       "      <td>0.22</td>\n",
       "      <td>26.75</td>\n",
       "      <td>15.01</td>\n",
       "    </tr>\n",
       "    <tr>\n",
       "      <th>3</th>\n",
       "      <td>28-06-2019</td>\n",
       "      <td>2.90</td>\n",
       "      <td>18.61</td>\n",
       "      <td>3.32</td>\n",
       "      <td>9.49</td>\n",
       "      <td>0.18</td>\n",
       "      <td>26.26</td>\n",
       "      <td>5.98</td>\n",
       "    </tr>\n",
       "    <tr>\n",
       "      <th>4</th>\n",
       "      <td>29-06-2019</td>\n",
       "      <td>4.08</td>\n",
       "      <td>28.56</td>\n",
       "      <td>4.03</td>\n",
       "      <td>9.52</td>\n",
       "      <td>0.03</td>\n",
       "      <td>30.30</td>\n",
       "      <td>2.50</td>\n",
       "    </tr>\n",
       "    <tr>\n",
       "      <th>...</th>\n",
       "      <td>...</td>\n",
       "      <td>...</td>\n",
       "      <td>...</td>\n",
       "      <td>...</td>\n",
       "      <td>...</td>\n",
       "      <td>...</td>\n",
       "      <td>...</td>\n",
       "      <td>...</td>\n",
       "    </tr>\n",
       "    <tr>\n",
       "      <th>1335</th>\n",
       "      <td>19-02-2023</td>\n",
       "      <td>83.30</td>\n",
       "      <td>183.17</td>\n",
       "      <td>24.50</td>\n",
       "      <td>30.57</td>\n",
       "      <td>1.46</td>\n",
       "      <td>11.12</td>\n",
       "      <td>28.17</td>\n",
       "    </tr>\n",
       "    <tr>\n",
       "      <th>1336</th>\n",
       "      <td>20-02-2023</td>\n",
       "      <td>88.30</td>\n",
       "      <td>194.48</td>\n",
       "      <td>24.50</td>\n",
       "      <td>28.60</td>\n",
       "      <td>1.55</td>\n",
       "      <td>11.28</td>\n",
       "      <td>27.08</td>\n",
       "    </tr>\n",
       "    <tr>\n",
       "      <th>1337</th>\n",
       "      <td>21-02-2023</td>\n",
       "      <td>72.43</td>\n",
       "      <td>128.22</td>\n",
       "      <td>24.50</td>\n",
       "      <td>26.27</td>\n",
       "      <td>1.38</td>\n",
       "      <td>11.09</td>\n",
       "      <td>29.05</td>\n",
       "    </tr>\n",
       "    <tr>\n",
       "      <th>1338</th>\n",
       "      <td>22-02-2023</td>\n",
       "      <td>84.94</td>\n",
       "      <td>159.51</td>\n",
       "      <td>24.50</td>\n",
       "      <td>26.08</td>\n",
       "      <td>1.43</td>\n",
       "      <td>10.41</td>\n",
       "      <td>25.90</td>\n",
       "    </tr>\n",
       "    <tr>\n",
       "      <th>1339</th>\n",
       "      <td>22-02-2023</td>\n",
       "      <td>44.25</td>\n",
       "      <td>102.44</td>\n",
       "      <td>24.50</td>\n",
       "      <td>25.00</td>\n",
       "      <td>1.13</td>\n",
       "      <td>10.68</td>\n",
       "      <td>15.13</td>\n",
       "    </tr>\n",
       "  </tbody>\n",
       "</table>\n",
       "<p>1340 rows × 8 columns</p>\n",
       "</div>"
      ],
      "text/plain": [
       "            Date  PM2.5    PM10    NO2    SO2    CO  Ozone    NH3\n",
       "0     25-06-2019  12.57   43.83   8.01   9.49  0.71  25.01   4.94\n",
       "1     26-06-2019   9.16   34.11   3.16   9.51  0.36  30.51   6.82\n",
       "2     27-06-2019   6.71   29.44  24.50   9.42  0.22  26.75  15.01\n",
       "3     28-06-2019   2.90   18.61   3.32   9.49  0.18  26.26   5.98\n",
       "4     29-06-2019   4.08   28.56   4.03   9.52  0.03  30.30   2.50\n",
       "...          ...    ...     ...    ...    ...   ...    ...    ...\n",
       "1335  19-02-2023  83.30  183.17  24.50  30.57  1.46  11.12  28.17\n",
       "1336  20-02-2023  88.30  194.48  24.50  28.60  1.55  11.28  27.08\n",
       "1337  21-02-2023  72.43  128.22  24.50  26.27  1.38  11.09  29.05\n",
       "1338  22-02-2023  84.94  159.51  24.50  26.08  1.43  10.41  25.90\n",
       "1339  22-02-2023  44.25  102.44  24.50  25.00  1.13  10.68  15.13\n",
       "\n",
       "[1340 rows x 8 columns]"
      ]
     },
     "execution_count": 53,
     "metadata": {},
     "output_type": "execute_result"
    }
   ],
   "source": [
    "new_data=df.copy()\n",
    "coloums=[\"PM2.5\",\"PM10\",\"NO2\",\"SO2\",\"Ozone\",\"NH3\",\"CO\"]\n",
    "for s in coloums:\n",
    "    mean = np.round(np.mean(new_data[s]), 2)\n",
    "    new_data[s] = new_data[s].fillna(mean)\n",
    "    print(f\"Missing Value in {s} column fill with {mean}\")\n",
    "          \n",
    "new_data          "
   ]
  },
  {
   "cell_type": "code",
   "execution_count": 54,
   "metadata": {
    "execution": {
     "iopub.execute_input": "2023-03-28T12:48:27.755021Z",
     "iopub.status.busy": "2023-03-28T12:48:27.754006Z",
     "iopub.status.idle": "2023-03-28T12:48:27.777920Z",
     "shell.execute_reply": "2023-03-28T12:48:27.776722Z",
     "shell.execute_reply.started": "2023-03-28T12:48:27.754972Z"
    }
   },
   "outputs": [
    {
     "data": {
      "text/html": [
       "<div>\n",
       "<style scoped>\n",
       "    .dataframe tbody tr th:only-of-type {\n",
       "        vertical-align: middle;\n",
       "    }\n",
       "\n",
       "    .dataframe tbody tr th {\n",
       "        vertical-align: top;\n",
       "    }\n",
       "\n",
       "    .dataframe thead th {\n",
       "        text-align: right;\n",
       "    }\n",
       "</style>\n",
       "<table border=\"1\" class=\"dataframe\">\n",
       "  <thead>\n",
       "    <tr style=\"text-align: right;\">\n",
       "      <th></th>\n",
       "      <th>Date</th>\n",
       "      <th>PM2.5</th>\n",
       "      <th>PM10</th>\n",
       "      <th>NO2</th>\n",
       "      <th>SO2</th>\n",
       "      <th>CO</th>\n",
       "      <th>Ozone</th>\n",
       "      <th>NH3</th>\n",
       "    </tr>\n",
       "  </thead>\n",
       "  <tbody>\n",
       "    <tr>\n",
       "      <th>0</th>\n",
       "      <td>25-06-2019</td>\n",
       "      <td>12.57</td>\n",
       "      <td>43.83</td>\n",
       "      <td>8.01</td>\n",
       "      <td>9.49</td>\n",
       "      <td>0.71</td>\n",
       "      <td>25.01</td>\n",
       "      <td>4.94</td>\n",
       "    </tr>\n",
       "    <tr>\n",
       "      <th>1</th>\n",
       "      <td>26-06-2019</td>\n",
       "      <td>9.16</td>\n",
       "      <td>34.11</td>\n",
       "      <td>3.16</td>\n",
       "      <td>9.51</td>\n",
       "      <td>0.36</td>\n",
       "      <td>30.51</td>\n",
       "      <td>6.82</td>\n",
       "    </tr>\n",
       "    <tr>\n",
       "      <th>2</th>\n",
       "      <td>27-06-2019</td>\n",
       "      <td>6.71</td>\n",
       "      <td>29.44</td>\n",
       "      <td>24.50</td>\n",
       "      <td>9.42</td>\n",
       "      <td>0.22</td>\n",
       "      <td>26.75</td>\n",
       "      <td>15.01</td>\n",
       "    </tr>\n",
       "    <tr>\n",
       "      <th>3</th>\n",
       "      <td>28-06-2019</td>\n",
       "      <td>2.90</td>\n",
       "      <td>18.61</td>\n",
       "      <td>3.32</td>\n",
       "      <td>9.49</td>\n",
       "      <td>0.18</td>\n",
       "      <td>26.26</td>\n",
       "      <td>5.98</td>\n",
       "    </tr>\n",
       "    <tr>\n",
       "      <th>4</th>\n",
       "      <td>29-06-2019</td>\n",
       "      <td>4.08</td>\n",
       "      <td>28.56</td>\n",
       "      <td>4.03</td>\n",
       "      <td>9.52</td>\n",
       "      <td>0.03</td>\n",
       "      <td>30.30</td>\n",
       "      <td>2.50</td>\n",
       "    </tr>\n",
       "    <tr>\n",
       "      <th>...</th>\n",
       "      <td>...</td>\n",
       "      <td>...</td>\n",
       "      <td>...</td>\n",
       "      <td>...</td>\n",
       "      <td>...</td>\n",
       "      <td>...</td>\n",
       "      <td>...</td>\n",
       "      <td>...</td>\n",
       "    </tr>\n",
       "    <tr>\n",
       "      <th>1335</th>\n",
       "      <td>19-02-2023</td>\n",
       "      <td>83.30</td>\n",
       "      <td>183.17</td>\n",
       "      <td>24.50</td>\n",
       "      <td>30.57</td>\n",
       "      <td>1.46</td>\n",
       "      <td>11.12</td>\n",
       "      <td>28.17</td>\n",
       "    </tr>\n",
       "    <tr>\n",
       "      <th>1336</th>\n",
       "      <td>20-02-2023</td>\n",
       "      <td>88.30</td>\n",
       "      <td>194.48</td>\n",
       "      <td>24.50</td>\n",
       "      <td>28.60</td>\n",
       "      <td>1.55</td>\n",
       "      <td>11.28</td>\n",
       "      <td>27.08</td>\n",
       "    </tr>\n",
       "    <tr>\n",
       "      <th>1337</th>\n",
       "      <td>21-02-2023</td>\n",
       "      <td>72.43</td>\n",
       "      <td>128.22</td>\n",
       "      <td>24.50</td>\n",
       "      <td>26.27</td>\n",
       "      <td>1.38</td>\n",
       "      <td>11.09</td>\n",
       "      <td>29.05</td>\n",
       "    </tr>\n",
       "    <tr>\n",
       "      <th>1338</th>\n",
       "      <td>22-02-2023</td>\n",
       "      <td>84.94</td>\n",
       "      <td>159.51</td>\n",
       "      <td>24.50</td>\n",
       "      <td>26.08</td>\n",
       "      <td>1.43</td>\n",
       "      <td>10.41</td>\n",
       "      <td>25.90</td>\n",
       "    </tr>\n",
       "    <tr>\n",
       "      <th>1339</th>\n",
       "      <td>22-02-2023</td>\n",
       "      <td>44.25</td>\n",
       "      <td>102.44</td>\n",
       "      <td>24.50</td>\n",
       "      <td>25.00</td>\n",
       "      <td>1.13</td>\n",
       "      <td>10.68</td>\n",
       "      <td>15.13</td>\n",
       "    </tr>\n",
       "  </tbody>\n",
       "</table>\n",
       "<p>1340 rows × 8 columns</p>\n",
       "</div>"
      ],
      "text/plain": [
       "            Date  PM2.5    PM10    NO2    SO2    CO  Ozone    NH3\n",
       "0     25-06-2019  12.57   43.83   8.01   9.49  0.71  25.01   4.94\n",
       "1     26-06-2019   9.16   34.11   3.16   9.51  0.36  30.51   6.82\n",
       "2     27-06-2019   6.71   29.44  24.50   9.42  0.22  26.75  15.01\n",
       "3     28-06-2019   2.90   18.61   3.32   9.49  0.18  26.26   5.98\n",
       "4     29-06-2019   4.08   28.56   4.03   9.52  0.03  30.30   2.50\n",
       "...          ...    ...     ...    ...    ...   ...    ...    ...\n",
       "1335  19-02-2023  83.30  183.17  24.50  30.57  1.46  11.12  28.17\n",
       "1336  20-02-2023  88.30  194.48  24.50  28.60  1.55  11.28  27.08\n",
       "1337  21-02-2023  72.43  128.22  24.50  26.27  1.38  11.09  29.05\n",
       "1338  22-02-2023  84.94  159.51  24.50  26.08  1.43  10.41  25.90\n",
       "1339  22-02-2023  44.25  102.44  24.50  25.00  1.13  10.68  15.13\n",
       "\n",
       "[1340 rows x 8 columns]"
      ]
     },
     "execution_count": 54,
     "metadata": {},
     "output_type": "execute_result"
    }
   ],
   "source": [
    "df=new_data.copy()\n",
    "df"
   ]
  },
  {
   "cell_type": "markdown",
   "metadata": {},
   "source": [
    "* Again checking for the Null value"
   ]
  },
  {
   "cell_type": "code",
   "execution_count": 55,
   "metadata": {
    "execution": {
     "iopub.execute_input": "2023-03-28T12:48:29.163081Z",
     "iopub.status.busy": "2023-03-28T12:48:29.162629Z",
     "iopub.status.idle": "2023-03-28T12:48:29.173450Z",
     "shell.execute_reply": "2023-03-28T12:48:29.172158Z",
     "shell.execute_reply.started": "2023-03-28T12:48:29.163039Z"
    }
   },
   "outputs": [
    {
     "data": {
      "text/plain": [
       " Date    0\n",
       "PM2.5    0\n",
       "PM10     0\n",
       "NO2      0\n",
       "SO2      0\n",
       "CO       0\n",
       "Ozone    0\n",
       "NH3      0\n",
       "dtype: int64"
      ]
     },
     "execution_count": 55,
     "metadata": {},
     "output_type": "execute_result"
    }
   ],
   "source": [
    "df.isnull().sum()\n",
    "# we can see there are no missing values"
   ]
  },
  {
   "cell_type": "markdown",
   "metadata": {},
   "source": [
    "* We want to create 2 columns namely \"Year\" and \"Month\" by extracting data from the Date column.\n",
    "* Reason is for better visualization of data"
   ]
  },
  {
   "cell_type": "code",
   "execution_count": 56,
   "metadata": {
    "execution": {
     "iopub.execute_input": "2023-03-28T12:48:40.035702Z",
     "iopub.status.busy": "2023-03-28T12:48:40.034826Z",
     "iopub.status.idle": "2023-03-28T12:48:40.071321Z",
     "shell.execute_reply": "2023-03-28T12:48:40.070178Z",
     "shell.execute_reply.started": "2023-03-28T12:48:40.035661Z"
    }
   },
   "outputs": [
    {
     "data": {
      "text/html": [
       "<div>\n",
       "<style scoped>\n",
       "    .dataframe tbody tr th:only-of-type {\n",
       "        vertical-align: middle;\n",
       "    }\n",
       "\n",
       "    .dataframe tbody tr th {\n",
       "        vertical-align: top;\n",
       "    }\n",
       "\n",
       "    .dataframe thead th {\n",
       "        text-align: right;\n",
       "    }\n",
       "</style>\n",
       "<table border=\"1\" class=\"dataframe\">\n",
       "  <thead>\n",
       "    <tr style=\"text-align: right;\">\n",
       "      <th></th>\n",
       "      <th>Date</th>\n",
       "      <th>PM2.5</th>\n",
       "      <th>PM10</th>\n",
       "      <th>NO2</th>\n",
       "      <th>SO2</th>\n",
       "      <th>CO</th>\n",
       "      <th>Ozone</th>\n",
       "      <th>NH3</th>\n",
       "      <th>Year</th>\n",
       "      <th>Month</th>\n",
       "    </tr>\n",
       "  </thead>\n",
       "  <tbody>\n",
       "    <tr>\n",
       "      <th>0</th>\n",
       "      <td>25-06-2019</td>\n",
       "      <td>12.57</td>\n",
       "      <td>43.83</td>\n",
       "      <td>8.01</td>\n",
       "      <td>9.49</td>\n",
       "      <td>0.71</td>\n",
       "      <td>25.01</td>\n",
       "      <td>4.94</td>\n",
       "      <td>2019</td>\n",
       "      <td>6</td>\n",
       "    </tr>\n",
       "    <tr>\n",
       "      <th>1</th>\n",
       "      <td>26-06-2019</td>\n",
       "      <td>9.16</td>\n",
       "      <td>34.11</td>\n",
       "      <td>3.16</td>\n",
       "      <td>9.51</td>\n",
       "      <td>0.36</td>\n",
       "      <td>30.51</td>\n",
       "      <td>6.82</td>\n",
       "      <td>2019</td>\n",
       "      <td>6</td>\n",
       "    </tr>\n",
       "    <tr>\n",
       "      <th>2</th>\n",
       "      <td>27-06-2019</td>\n",
       "      <td>6.71</td>\n",
       "      <td>29.44</td>\n",
       "      <td>24.50</td>\n",
       "      <td>9.42</td>\n",
       "      <td>0.22</td>\n",
       "      <td>26.75</td>\n",
       "      <td>15.01</td>\n",
       "      <td>2019</td>\n",
       "      <td>6</td>\n",
       "    </tr>\n",
       "    <tr>\n",
       "      <th>3</th>\n",
       "      <td>28-06-2019</td>\n",
       "      <td>2.90</td>\n",
       "      <td>18.61</td>\n",
       "      <td>3.32</td>\n",
       "      <td>9.49</td>\n",
       "      <td>0.18</td>\n",
       "      <td>26.26</td>\n",
       "      <td>5.98</td>\n",
       "      <td>2019</td>\n",
       "      <td>6</td>\n",
       "    </tr>\n",
       "    <tr>\n",
       "      <th>4</th>\n",
       "      <td>29-06-2019</td>\n",
       "      <td>4.08</td>\n",
       "      <td>28.56</td>\n",
       "      <td>4.03</td>\n",
       "      <td>9.52</td>\n",
       "      <td>0.03</td>\n",
       "      <td>30.30</td>\n",
       "      <td>2.50</td>\n",
       "      <td>2019</td>\n",
       "      <td>6</td>\n",
       "    </tr>\n",
       "    <tr>\n",
       "      <th>...</th>\n",
       "      <td>...</td>\n",
       "      <td>...</td>\n",
       "      <td>...</td>\n",
       "      <td>...</td>\n",
       "      <td>...</td>\n",
       "      <td>...</td>\n",
       "      <td>...</td>\n",
       "      <td>...</td>\n",
       "      <td>...</td>\n",
       "      <td>...</td>\n",
       "    </tr>\n",
       "    <tr>\n",
       "      <th>1335</th>\n",
       "      <td>19-02-2023</td>\n",
       "      <td>83.30</td>\n",
       "      <td>183.17</td>\n",
       "      <td>24.50</td>\n",
       "      <td>30.57</td>\n",
       "      <td>1.46</td>\n",
       "      <td>11.12</td>\n",
       "      <td>28.17</td>\n",
       "      <td>2023</td>\n",
       "      <td>2</td>\n",
       "    </tr>\n",
       "    <tr>\n",
       "      <th>1336</th>\n",
       "      <td>20-02-2023</td>\n",
       "      <td>88.30</td>\n",
       "      <td>194.48</td>\n",
       "      <td>24.50</td>\n",
       "      <td>28.60</td>\n",
       "      <td>1.55</td>\n",
       "      <td>11.28</td>\n",
       "      <td>27.08</td>\n",
       "      <td>2023</td>\n",
       "      <td>2</td>\n",
       "    </tr>\n",
       "    <tr>\n",
       "      <th>1337</th>\n",
       "      <td>21-02-2023</td>\n",
       "      <td>72.43</td>\n",
       "      <td>128.22</td>\n",
       "      <td>24.50</td>\n",
       "      <td>26.27</td>\n",
       "      <td>1.38</td>\n",
       "      <td>11.09</td>\n",
       "      <td>29.05</td>\n",
       "      <td>2023</td>\n",
       "      <td>2</td>\n",
       "    </tr>\n",
       "    <tr>\n",
       "      <th>1338</th>\n",
       "      <td>22-02-2023</td>\n",
       "      <td>84.94</td>\n",
       "      <td>159.51</td>\n",
       "      <td>24.50</td>\n",
       "      <td>26.08</td>\n",
       "      <td>1.43</td>\n",
       "      <td>10.41</td>\n",
       "      <td>25.90</td>\n",
       "      <td>2023</td>\n",
       "      <td>2</td>\n",
       "    </tr>\n",
       "    <tr>\n",
       "      <th>1339</th>\n",
       "      <td>22-02-2023</td>\n",
       "      <td>44.25</td>\n",
       "      <td>102.44</td>\n",
       "      <td>24.50</td>\n",
       "      <td>25.00</td>\n",
       "      <td>1.13</td>\n",
       "      <td>10.68</td>\n",
       "      <td>15.13</td>\n",
       "      <td>2023</td>\n",
       "      <td>2</td>\n",
       "    </tr>\n",
       "  </tbody>\n",
       "</table>\n",
       "<p>1340 rows × 10 columns</p>\n",
       "</div>"
      ],
      "text/plain": [
       "            Date  PM2.5    PM10    NO2    SO2    CO  Ozone    NH3  Year  Month\n",
       "0     25-06-2019  12.57   43.83   8.01   9.49  0.71  25.01   4.94  2019      6\n",
       "1     26-06-2019   9.16   34.11   3.16   9.51  0.36  30.51   6.82  2019      6\n",
       "2     27-06-2019   6.71   29.44  24.50   9.42  0.22  26.75  15.01  2019      6\n",
       "3     28-06-2019   2.90   18.61   3.32   9.49  0.18  26.26   5.98  2019      6\n",
       "4     29-06-2019   4.08   28.56   4.03   9.52  0.03  30.30   2.50  2019      6\n",
       "...          ...    ...     ...    ...    ...   ...    ...    ...   ...    ...\n",
       "1335  19-02-2023  83.30  183.17  24.50  30.57  1.46  11.12  28.17  2023      2\n",
       "1336  20-02-2023  88.30  194.48  24.50  28.60  1.55  11.28  27.08  2023      2\n",
       "1337  21-02-2023  72.43  128.22  24.50  26.27  1.38  11.09  29.05  2023      2\n",
       "1338  22-02-2023  84.94  159.51  24.50  26.08  1.43  10.41  25.90  2023      2\n",
       "1339  22-02-2023  44.25  102.44  24.50  25.00  1.13  10.68  15.13  2023      2\n",
       "\n",
       "[1340 rows x 10 columns]"
      ]
     },
     "execution_count": 56,
     "metadata": {},
     "output_type": "execute_result"
    }
   ],
   "source": [
    "df['Year'] = pd.to_datetime(df[' Date']).dt.year\n",
    "df['Month'] = pd.to_datetime(df[' Date']).dt.month\n",
    "df"
   ]
  },
  {
   "cell_type": "markdown",
   "metadata": {},
   "source": [
    "* We want to see the correlation between each and every columns"
   ]
  },
  {
   "cell_type": "code",
   "execution_count": 57,
   "metadata": {
    "execution": {
     "iopub.execute_input": "2023-03-28T12:49:43.458277Z",
     "iopub.status.busy": "2023-03-28T12:49:43.457774Z",
     "iopub.status.idle": "2023-03-28T12:49:43.864556Z",
     "shell.execute_reply": "2023-03-28T12:49:43.863338Z",
     "shell.execute_reply.started": "2023-03-28T12:49:43.458234Z"
    }
   },
   "outputs": [
    {
     "data": {
      "image/png": "[encoded data removed]",
      "text/plain": [
       "<Figure size 640x480 with 2 Axes>"
      ]
     },
     "metadata": {},
     "output_type": "display_data"
    }
   ],
   "source": [
    "sns.heatmap(df.drop([' Date','Month','Year'], axis=1).corr(),\n",
    "                annot=True, fmt= '.1f',cmap='Blues',square=True,annot_kws={'size':8})\n",
    "plt.show()"
   ]
  },
  {
   "cell_type": "code",
   "execution_count": 58,
   "metadata": {
    "execution": {
     "iopub.execute_input": "2023-03-28T13:18:50.750371Z",
     "iopub.status.busy": "2023-03-28T13:18:50.749966Z",
     "iopub.status.idle": "2023-03-28T13:18:52.076849Z",
     "shell.execute_reply": "2023-03-28T13:18:52.075403Z",
     "shell.execute_reply.started": "2023-03-28T13:18:50.750336Z"
    }
   },
   "outputs": [
    {
     "data": {
      "image/png": "[encoded data removed]",
      "text/plain": [
       "<Figure size 1500x500 with 1 Axes>"
      ]
     },
     "metadata": {},
     "output_type": "display_data"
    },
    {
     "data": {
      "image/png": "[encoded data removed]",
      "text/plain": [
       "<Figure size 1500x500 with 1 Axes>"
      ]
     },
     "metadata": {},
     "output_type": "display_data"
    },
    {
     "data": {
      "image/png": "[encoded data removed]",
      "text/plain": [
       "<Figure size 1500x500 with 1 Axes>"
      ]
     },
     "metadata": {},
     "output_type": "display_data"
    },
    {
     "data": {
      "image/png": "[encoded data removed]",
      "text/plain": [
       "<Figure size 1500x500 with 1 Axes>"
      ]
     },
     "metadata": {},
     "output_type": "display_data"
    },
    {
     "data": {
      "image/png": "[encoded data removed]",
      "text/plain": [
       "<Figure size 1500x500 with 1 Axes>"
      ]
     },
     "metadata": {},
     "output_type": "display_data"
    },
    {
     "data": {
      "image/png": "[encoded data removed]",
      "text/plain": [
       "<Figure size 1500x500 with 1 Axes>"
      ]
     },
     "metadata": {},
     "output_type": "display_data"
    },
    {
     "data": {
      "image/png": "[encoded data removed]",
      "text/plain": [
       "<Figure size 1500x500 with 1 Axes>"
      ]
     },
     "metadata": {},
     "output_type": "display_data"
    }
   ],
   "source": [
    "# Now we want to see the variation of each feature according to year\n",
    "%matplotlib inline\n",
    "compounds = [\"PM2.5\",\"PM10\",\"NO2\",\"SO2\",\"CO\",\"Ozone\",\"NH3\"]\n",
    "\n",
    "for i in compounds:\n",
    "    data = df[[i,'Year']].groupby([\"Year\"]).mean().reset_index().sort_values(by='Year', ascending=False)\n",
    "    f, ax = plt.subplots(figsize=(15, 5))\n",
    "    sns.pointplot(x='Year', y=i, data=data)\n",
    "    plt.title(f\"Variation of {i} according to year\")\n",
    "    plt.show()\n"
   ]
  },
  {
   "cell_type": "code",
   "execution_count": null,
   "metadata": {
    "execution": {
     "iopub.execute_input": "2023-03-28T13:12:39.225294Z",
     "iopub.status.busy": "2023-03-28T13:12:39.224811Z",
     "iopub.status.idle": "2023-03-28T13:12:39.522952Z",
     "shell.execute_reply": "2023-03-28T13:12:39.521693Z",
     "shell.execute_reply.started": "2023-03-28T13:12:39.225256Z"
    }
   },
   "outputs": [],
   "source": []
  },
  {
   "cell_type": "code",
   "execution_count": 59,
   "metadata": {},
   "outputs": [
    {
     "data": {
      "image/png": "[encoded data removed]",
      "text/plain": [
       "<Figure size 640x480 with 1 Axes>"
      ]
     },
     "metadata": {},
     "output_type": "display_data"
    },
    {
     "data": {
      "image/png": "[encoded data removed]",
      "text/plain": [
       "<Figure size 640x480 with 1 Axes>"
      ]
     },
     "metadata": {},
     "output_type": "display_data"
    },
    {
     "data": {
      "image/png": "[encoded data removed]",
      "text/plain": [
       "<Figure size 640x480 with 1 Axes>"
      ]
     },
     "metadata": {},
     "output_type": "display_data"
    },
    {
     "data": {
      "image/png": "[encoded data removed]",
      "text/plain": [
       "<Figure size 640x480 with 1 Axes>"
      ]
     },
     "metadata": {},
     "output_type": "display_data"
    },
    {
     "data": {
      "image/png": "[encoded data removed]",
      "text/plain": [
       "<Figure size 640x480 with 1 Axes>"
      ]
     },
     "metadata": {},
     "output_type": "display_data"
    },
    {
     "data": {
      "image/png": "[encoded data removed]",
      "text/plain": [
       "<Figure size 640x480 with 1 Axes>"
      ]
     },
     "metadata": {},
     "output_type": "display_data"
    },
    {
     "data": {
      "image/png": "[encoded data removed]",
      "text/plain": [
       "<Figure size 640x480 with 1 Axes>"
      ]
     },
     "metadata": {},
     "output_type": "display_data"
    }
   ],
   "source": [
    "# Now we want to see the BOX plot of each feature according to year. To see outlier\n",
    "%matplotlib inline\n",
    "import seaborn as sns\n",
    "\n",
    "import matplotlib.pyplot as plt\n",
    "\n",
    "compounds = [\"PM2.5\",\"PM10\",\"NO2\",\"SO2\",\"CO\",\"Ozone\",\"NH3\"]\n",
    "\n",
    "for i in compounds:\n",
    "    data = df[[i,'Year']].groupby([\"Year\"]).mean().reset_index().sort_values(by='Year', ascending=False)\n",
    "    #f, ax = plt.subplots(figsize=(15, 5))\n",
    "    #sns.pointplot(x='Year', y=i, data=data)\n",
    "    sns.boxplot(x=\"Year\", y=i, data=df)\n",
    "    plt.title(f\"Variation of {i} according to year\")\n",
    "    plt.show()\n"
   ]
  },
  {
   "cell_type": "markdown",
   "metadata": {},
   "source": [
    "# We checked the outier effect  of each gases in every year"
   ]
  },
  {
   "cell_type": "markdown",
   "metadata": {},
   "source": [
    "# Here we caculate the index of SO2 using the standard formula"
   ]
  },
  {
   "cell_type": "code",
   "execution_count": 60,
   "metadata": {},
   "outputs": [
    {
     "data": {
      "text/html": [
       "<div>\n",
       "<style scoped>\n",
       "    .dataframe tbody tr th:only-of-type {\n",
       "        vertical-align: middle;\n",
       "    }\n",
       "\n",
       "    .dataframe tbody tr th {\n",
       "        vertical-align: top;\n",
       "    }\n",
       "\n",
       "    .dataframe thead th {\n",
       "        text-align: right;\n",
       "    }\n",
       "</style>\n",
       "<table border=\"1\" class=\"dataframe\">\n",
       "  <thead>\n",
       "    <tr style=\"text-align: right;\">\n",
       "      <th></th>\n",
       "      <th>SO2</th>\n",
       "      <th>SO2_Index</th>\n",
       "    </tr>\n",
       "  </thead>\n",
       "  <tbody>\n",
       "    <tr>\n",
       "      <th>count</th>\n",
       "      <td>1340.000000</td>\n",
       "      <td>1340.000000</td>\n",
       "    </tr>\n",
       "    <tr>\n",
       "      <th>mean</th>\n",
       "      <td>17.716828</td>\n",
       "      <td>21.806841</td>\n",
       "    </tr>\n",
       "    <tr>\n",
       "      <th>std</th>\n",
       "      <td>16.765424</td>\n",
       "      <td>19.049167</td>\n",
       "    </tr>\n",
       "    <tr>\n",
       "      <th>min</th>\n",
       "      <td>0.010000</td>\n",
       "      <td>0.012500</td>\n",
       "    </tr>\n",
       "    <tr>\n",
       "      <th>25%</th>\n",
       "      <td>7.450000</td>\n",
       "      <td>9.312500</td>\n",
       "    </tr>\n",
       "    <tr>\n",
       "      <th>50%</th>\n",
       "      <td>15.605000</td>\n",
       "      <td>19.506250</td>\n",
       "    </tr>\n",
       "    <tr>\n",
       "      <th>75%</th>\n",
       "      <td>21.000000</td>\n",
       "      <td>26.250000</td>\n",
       "    </tr>\n",
       "    <tr>\n",
       "      <th>max</th>\n",
       "      <td>180.100000</td>\n",
       "      <td>133.366667</td>\n",
       "    </tr>\n",
       "  </tbody>\n",
       "</table>\n",
       "</div>"
      ],
      "text/plain": [
       "               SO2    SO2_Index\n",
       "count  1340.000000  1340.000000\n",
       "mean     17.716828    21.806841\n",
       "std      16.765424    19.049167\n",
       "min       0.010000     0.012500\n",
       "25%       7.450000     9.312500\n",
       "50%      15.605000    19.506250\n",
       "75%      21.000000    26.250000\n",
       "max     180.100000   133.366667"
      ]
     },
     "execution_count": 60,
     "metadata": {},
     "output_type": "execute_result"
    }
   ],
   "source": [
    "def cal_SO2_index(so2):\n",
    "    si=0\n",
    "    if (so2<=40):\n",
    "     si= so2*(50/40)\n",
    "    elif (so2>40 and so2<=80):\n",
    "     si= 50+(so2-40)*(50/40)\n",
    "    elif (so2>80 and so2<=380):\n",
    "     si= 100+(so2-80)*(100/300)\n",
    "    elif (so2>380 and so2<=800):\n",
    "     si= 200+(so2-380)*(100/420)\n",
    "    elif (so2>800 and so2<=1600):\n",
    "     si= 300+(so2-800)*(100/800)\n",
    "    elif (so2>1600):\n",
    "     si= 400+(so2-1600)*(100/800)\n",
    "    return si\n",
    "df['SO2_Index']=df['SO2'].apply(cal_SO2_index)\n",
    "data= df[['SO2','SO2_Index']]\n",
    "data.describe()"
   ]
  },
  {
   "cell_type": "markdown",
   "metadata": {},
   "source": [
    "# Here we caculate the index of NO2 using the standard formula"
   ]
  },
  {
   "cell_type": "code",
   "execution_count": 61,
   "metadata": {},
   "outputs": [
    {
     "data": {
      "text/html": [
       "<div>\n",
       "<style scoped>\n",
       "    .dataframe tbody tr th:only-of-type {\n",
       "        vertical-align: middle;\n",
       "    }\n",
       "\n",
       "    .dataframe tbody tr th {\n",
       "        vertical-align: top;\n",
       "    }\n",
       "\n",
       "    .dataframe thead th {\n",
       "        text-align: right;\n",
       "    }\n",
       "</style>\n",
       "<table border=\"1\" class=\"dataframe\">\n",
       "  <thead>\n",
       "    <tr style=\"text-align: right;\">\n",
       "      <th></th>\n",
       "      <th>NO2</th>\n",
       "      <th>NO2_index</th>\n",
       "    </tr>\n",
       "  </thead>\n",
       "  <tbody>\n",
       "    <tr>\n",
       "      <th>count</th>\n",
       "      <td>1340.000000</td>\n",
       "      <td>1340.000000</td>\n",
       "    </tr>\n",
       "    <tr>\n",
       "      <th>mean</th>\n",
       "      <td>24.496955</td>\n",
       "      <td>30.129435</td>\n",
       "    </tr>\n",
       "    <tr>\n",
       "      <th>std</th>\n",
       "      <td>27.635429</td>\n",
       "      <td>32.415999</td>\n",
       "    </tr>\n",
       "    <tr>\n",
       "      <th>min</th>\n",
       "      <td>0.380000</td>\n",
       "      <td>0.475000</td>\n",
       "    </tr>\n",
       "    <tr>\n",
       "      <th>25%</th>\n",
       "      <td>7.785000</td>\n",
       "      <td>9.731250</td>\n",
       "    </tr>\n",
       "    <tr>\n",
       "      <th>50%</th>\n",
       "      <td>12.935000</td>\n",
       "      <td>16.168750</td>\n",
       "    </tr>\n",
       "    <tr>\n",
       "      <th>75%</th>\n",
       "      <td>31.325000</td>\n",
       "      <td>39.156250</td>\n",
       "    </tr>\n",
       "    <tr>\n",
       "      <th>max</th>\n",
       "      <td>229.200000</td>\n",
       "      <td>249.200000</td>\n",
       "    </tr>\n",
       "  </tbody>\n",
       "</table>\n",
       "</div>"
      ],
      "text/plain": [
       "               NO2    NO2_index\n",
       "count  1340.000000  1340.000000\n",
       "mean     24.496955    30.129435\n",
       "std      27.635429    32.415999\n",
       "min       0.380000     0.475000\n",
       "25%       7.785000     9.731250\n",
       "50%      12.935000    16.168750\n",
       "75%      31.325000    39.156250\n",
       "max     229.200000   249.200000"
      ]
     },
     "execution_count": 61,
     "metadata": {},
     "output_type": "execute_result"
    }
   ],
   "source": [
    "def cal_No2_index(no2):\n",
    "    ni=0\n",
    "    if(no2<=40):\n",
    "     ni= no2*50/40\n",
    "    elif(no2>40 and no2<=80):\n",
    "     ni= 50+(no2-40)*(50/40)\n",
    "    elif(no2>80 and no2<=180):\n",
    "     ni= 100+(no2-80)*(100/100)\n",
    "    elif(no2>180 and no2<=280):\n",
    "     ni= 200+(no2-180)*(100/100)\n",
    "    elif(no2>280 and no2<=400):\n",
    "     ni= 300+(no2-280)*(100/120)\n",
    "    else:\n",
    "     ni= 400+(no2-400)*(100/120)\n",
    "    return ni\n",
    "df['NO2_index']=df['NO2'].apply(cal_No2_index)\n",
    "data= df[['NO2','NO2_index']]\n",
    "data.describe()"
   ]
  },
  {
   "cell_type": "markdown",
   "metadata": {},
   "source": [
    "# Here we caculate the index of CO using the standard formula"
   ]
  },
  {
   "cell_type": "code",
   "execution_count": 62,
   "metadata": {},
   "outputs": [
    {
     "data": {
      "text/html": [
       "<div>\n",
       "<style scoped>\n",
       "    .dataframe tbody tr th:only-of-type {\n",
       "        vertical-align: middle;\n",
       "    }\n",
       "\n",
       "    .dataframe tbody tr th {\n",
       "        vertical-align: top;\n",
       "    }\n",
       "\n",
       "    .dataframe thead th {\n",
       "        text-align: right;\n",
       "    }\n",
       "</style>\n",
       "<table border=\"1\" class=\"dataframe\">\n",
       "  <thead>\n",
       "    <tr style=\"text-align: right;\">\n",
       "      <th></th>\n",
       "      <th>CO</th>\n",
       "      <th>CO_index</th>\n",
       "    </tr>\n",
       "  </thead>\n",
       "  <tbody>\n",
       "    <tr>\n",
       "      <th>count</th>\n",
       "      <td>1340.000000</td>\n",
       "      <td>1340.000000</td>\n",
       "    </tr>\n",
       "    <tr>\n",
       "      <th>mean</th>\n",
       "      <td>0.709858</td>\n",
       "      <td>35.260075</td>\n",
       "    </tr>\n",
       "    <tr>\n",
       "      <th>std</th>\n",
       "      <td>0.475141</td>\n",
       "      <td>22.890671</td>\n",
       "    </tr>\n",
       "    <tr>\n",
       "      <th>min</th>\n",
       "      <td>0.000000</td>\n",
       "      <td>0.000000</td>\n",
       "    </tr>\n",
       "    <tr>\n",
       "      <th>25%</th>\n",
       "      <td>0.370000</td>\n",
       "      <td>18.500000</td>\n",
       "    </tr>\n",
       "    <tr>\n",
       "      <th>50%</th>\n",
       "      <td>0.670000</td>\n",
       "      <td>33.500000</td>\n",
       "    </tr>\n",
       "    <tr>\n",
       "      <th>75%</th>\n",
       "      <td>0.972500</td>\n",
       "      <td>48.625000</td>\n",
       "    </tr>\n",
       "    <tr>\n",
       "      <th>max</th>\n",
       "      <td>3.110000</td>\n",
       "      <td>113.875000</td>\n",
       "    </tr>\n",
       "  </tbody>\n",
       "</table>\n",
       "</div>"
      ],
      "text/plain": [
       "                CO     CO_index\n",
       "count  1340.000000  1340.000000\n",
       "mean      0.709858    35.260075\n",
       "std       0.475141    22.890671\n",
       "min       0.000000     0.000000\n",
       "25%       0.370000    18.500000\n",
       "50%       0.670000    33.500000\n",
       "75%       0.972500    48.625000\n",
       "max       3.110000   113.875000"
      ]
     },
     "execution_count": 62,
     "metadata": {},
     "output_type": "execute_result"
    }
   ],
   "source": [
    "## CO Sub-Index calculation\n",
    "def cal_CO_index(x):\n",
    "    if x <= 1:\n",
    "        return x * 50 / 1\n",
    "    elif x <= 2:\n",
    "        return 50 + (x - 1) * 50 / 1\n",
    "    elif x <= 10:\n",
    "        return 100 + (x - 2) * 100 / 8\n",
    "    elif x <= 17:\n",
    "        return 200 + (x - 10) * 100 / 7\n",
    "    elif x <= 34:\n",
    "        return 300 + (x - 17) * 100 / 17\n",
    "    elif x > 34:\n",
    "        return 400 + (x - 34) * 100 / 17\n",
    "    else:\n",
    "        return 0\n",
    "\n",
    "df['CO_index']=df['CO'].apply(cal_CO_index)\n",
    "data= df[['CO','CO_index']]\n",
    "data.describe()"
   ]
  },
  {
   "cell_type": "markdown",
   "metadata": {},
   "source": [
    "# Here we calculate the index of PM2.5 using the standard formula"
   ]
  },
  {
   "cell_type": "code",
   "execution_count": 63,
   "metadata": {
    "scrolled": true
   },
   "outputs": [
    {
     "data": {
      "text/html": [
       "<div>\n",
       "<style scoped>\n",
       "    .dataframe tbody tr th:only-of-type {\n",
       "        vertical-align: middle;\n",
       "    }\n",
       "\n",
       "    .dataframe tbody tr th {\n",
       "        vertical-align: top;\n",
       "    }\n",
       "\n",
       "    .dataframe thead th {\n",
       "        text-align: right;\n",
       "    }\n",
       "</style>\n",
       "<table border=\"1\" class=\"dataframe\">\n",
       "  <thead>\n",
       "    <tr style=\"text-align: right;\">\n",
       "      <th></th>\n",
       "      <th>PM2.5</th>\n",
       "      <th>PM2_5_index</th>\n",
       "    </tr>\n",
       "  </thead>\n",
       "  <tbody>\n",
       "    <tr>\n",
       "      <th>count</th>\n",
       "      <td>1340.000000</td>\n",
       "      <td>1340.000000</td>\n",
       "    </tr>\n",
       "    <tr>\n",
       "      <th>mean</th>\n",
       "      <td>39.379060</td>\n",
       "      <td>72.755856</td>\n",
       "    </tr>\n",
       "    <tr>\n",
       "      <th>std</th>\n",
       "      <td>26.955982</td>\n",
       "      <td>59.570448</td>\n",
       "    </tr>\n",
       "    <tr>\n",
       "      <th>min</th>\n",
       "      <td>2.500000</td>\n",
       "      <td>4.166667</td>\n",
       "    </tr>\n",
       "    <tr>\n",
       "      <th>25%</th>\n",
       "      <td>16.242500</td>\n",
       "      <td>27.070833</td>\n",
       "    </tr>\n",
       "    <tr>\n",
       "      <th>50%</th>\n",
       "      <td>39.359530</td>\n",
       "      <td>65.599217</td>\n",
       "    </tr>\n",
       "    <tr>\n",
       "      <th>75%</th>\n",
       "      <td>53.405000</td>\n",
       "      <td>89.008333</td>\n",
       "    </tr>\n",
       "    <tr>\n",
       "      <th>max</th>\n",
       "      <td>272.760000</td>\n",
       "      <td>417.507692</td>\n",
       "    </tr>\n",
       "  </tbody>\n",
       "</table>\n",
       "</div>"
      ],
      "text/plain": [
       "             PM2.5  PM2_5_index\n",
       "count  1340.000000  1340.000000\n",
       "mean     39.379060    72.755856\n",
       "std      26.955982    59.570448\n",
       "min       2.500000     4.166667\n",
       "25%      16.242500    27.070833\n",
       "50%      39.359530    65.599217\n",
       "75%      53.405000    89.008333\n",
       "max     272.760000   417.507692"
      ]
     },
     "execution_count": 63,
     "metadata": {},
     "output_type": "execute_result"
    }
   ],
   "source": [
    "## PM2.5 Sub-Index calculation\n",
    "def cal_PM2_5_index(x):\n",
    "    if x <= 30:\n",
    "        return x * 50 / 30\n",
    "    elif x <= 60:\n",
    "        return 50 + (x - 30) * 50 / 30\n",
    "    elif x <= 90:\n",
    "        return 100 + (x - 60) * 100 / 30\n",
    "    elif x <= 120:\n",
    "        return 200 + (x - 90) * 100 / 30\n",
    "    elif x <= 250:\n",
    "        return 300 + (x - 120) * 100 / 130\n",
    "    elif x > 250:\n",
    "        return 400 + (x - 250) * 100 / 130\n",
    "    else:\n",
    "        return 0\n",
    "df['PM2_5_index']=df['PM2.5'].apply(cal_PM2_5_index)\n",
    "data= df[['PM2.5','PM2_5_index']]\n",
    "data.describe()"
   ]
  },
  {
   "cell_type": "markdown",
   "metadata": {},
   "source": [
    "# Here we calculate the index of PM10 using the standard formula"
   ]
  },
  {
   "cell_type": "code",
   "execution_count": 64,
   "metadata": {},
   "outputs": [
    {
     "data": {
      "text/html": [
       "<div>\n",
       "<style scoped>\n",
       "    .dataframe tbody tr th:only-of-type {\n",
       "        vertical-align: middle;\n",
       "    }\n",
       "\n",
       "    .dataframe tbody tr th {\n",
       "        vertical-align: top;\n",
       "    }\n",
       "\n",
       "    .dataframe thead th {\n",
       "        text-align: right;\n",
       "    }\n",
       "</style>\n",
       "<table border=\"1\" class=\"dataframe\">\n",
       "  <thead>\n",
       "    <tr style=\"text-align: right;\">\n",
       "      <th></th>\n",
       "      <th>PM10</th>\n",
       "      <th>PM10_index</th>\n",
       "    </tr>\n",
       "  </thead>\n",
       "  <tbody>\n",
       "    <tr>\n",
       "      <th>count</th>\n",
       "      <td>1340.000000</td>\n",
       "      <td>1340.000000</td>\n",
       "    </tr>\n",
       "    <tr>\n",
       "      <th>mean</th>\n",
       "      <td>83.627626</td>\n",
       "      <td>78.430997</td>\n",
       "    </tr>\n",
       "    <tr>\n",
       "      <th>std</th>\n",
       "      <td>55.185305</td>\n",
       "      <td>46.793858</td>\n",
       "    </tr>\n",
       "    <tr>\n",
       "      <th>min</th>\n",
       "      <td>11.840000</td>\n",
       "      <td>11.840000</td>\n",
       "    </tr>\n",
       "    <tr>\n",
       "      <th>25%</th>\n",
       "      <td>38.040000</td>\n",
       "      <td>38.040000</td>\n",
       "    </tr>\n",
       "    <tr>\n",
       "      <th>50%</th>\n",
       "      <td>74.570000</td>\n",
       "      <td>74.570000</td>\n",
       "    </tr>\n",
       "    <tr>\n",
       "      <th>75%</th>\n",
       "      <td>120.915000</td>\n",
       "      <td>113.943333</td>\n",
       "    </tr>\n",
       "    <tr>\n",
       "      <th>max</th>\n",
       "      <td>543.830000</td>\n",
       "      <td>542.287500</td>\n",
       "    </tr>\n",
       "  </tbody>\n",
       "</table>\n",
       "</div>"
      ],
      "text/plain": [
       "              PM10   PM10_index\n",
       "count  1340.000000  1340.000000\n",
       "mean     83.627626    78.430997\n",
       "std      55.185305    46.793858\n",
       "min      11.840000    11.840000\n",
       "25%      38.040000    38.040000\n",
       "50%      74.570000    74.570000\n",
       "75%     120.915000   113.943333\n",
       "max     543.830000   542.287500"
      ]
     },
     "execution_count": 64,
     "metadata": {},
     "output_type": "execute_result"
    }
   ],
   "source": [
    "def cal_PM10_index(x):\n",
    "    if x <= 50:\n",
    "        return x\n",
    "    elif x <= 100:\n",
    "        return x\n",
    "    elif x <= 250:\n",
    "        return 100 + (x - 100) * 100 / 150\n",
    "    elif x <= 350:\n",
    "        return 200 + (x - 250)\n",
    "    elif x <= 430:\n",
    "        return 300 + (x - 350) * 100 / 80\n",
    "    elif x > 430:\n",
    "        return 400 + (x - 430) * 100 / 80\n",
    "    else:\n",
    "        return 0\n",
    "\n",
    "df['PM10_index']=df['PM10'].apply(cal_PM10_index)\n",
    "data= df[['PM10','PM10_index']]\n",
    "data.describe()"
   ]
  },
  {
   "cell_type": "markdown",
   "metadata": {},
   "source": [
    "# Here we caculate the index of Ozone using the standard formula"
   ]
  },
  {
   "cell_type": "code",
   "execution_count": 65,
   "metadata": {},
   "outputs": [
    {
     "data": {
      "text/html": [
       "<div>\n",
       "<style scoped>\n",
       "    .dataframe tbody tr th:only-of-type {\n",
       "        vertical-align: middle;\n",
       "    }\n",
       "\n",
       "    .dataframe tbody tr th {\n",
       "        vertical-align: top;\n",
       "    }\n",
       "\n",
       "    .dataframe thead th {\n",
       "        text-align: right;\n",
       "    }\n",
       "</style>\n",
       "<table border=\"1\" class=\"dataframe\">\n",
       "  <thead>\n",
       "    <tr style=\"text-align: right;\">\n",
       "      <th></th>\n",
       "      <th>Ozone</th>\n",
       "      <th>Ozone_index</th>\n",
       "    </tr>\n",
       "  </thead>\n",
       "  <tbody>\n",
       "    <tr>\n",
       "      <th>count</th>\n",
       "      <td>1340.000000</td>\n",
       "      <td>1340.000000</td>\n",
       "    </tr>\n",
       "    <tr>\n",
       "      <th>mean</th>\n",
       "      <td>14.549836</td>\n",
       "      <td>14.559472</td>\n",
       "    </tr>\n",
       "    <tr>\n",
       "      <th>std</th>\n",
       "      <td>17.983043</td>\n",
       "      <td>18.038321</td>\n",
       "    </tr>\n",
       "    <tr>\n",
       "      <th>min</th>\n",
       "      <td>0.010000</td>\n",
       "      <td>0.010000</td>\n",
       "    </tr>\n",
       "    <tr>\n",
       "      <th>25%</th>\n",
       "      <td>2.437500</td>\n",
       "      <td>2.437500</td>\n",
       "    </tr>\n",
       "    <tr>\n",
       "      <th>50%</th>\n",
       "      <td>9.645000</td>\n",
       "      <td>9.645000</td>\n",
       "    </tr>\n",
       "    <tr>\n",
       "      <th>75%</th>\n",
       "      <td>16.480000</td>\n",
       "      <td>16.480000</td>\n",
       "    </tr>\n",
       "    <tr>\n",
       "      <th>max</th>\n",
       "      <td>116.780000</td>\n",
       "      <td>124.676471</td>\n",
       "    </tr>\n",
       "  </tbody>\n",
       "</table>\n",
       "</div>"
      ],
      "text/plain": [
       "             Ozone  Ozone_index\n",
       "count  1340.000000  1340.000000\n",
       "mean     14.549836    14.559472\n",
       "std      17.983043    18.038321\n",
       "min       0.010000     0.010000\n",
       "25%       2.437500     2.437500\n",
       "50%       9.645000     9.645000\n",
       "75%      16.480000    16.480000\n",
       "max     116.780000   124.676471"
      ]
     },
     "execution_count": 65,
     "metadata": {},
     "output_type": "execute_result"
    }
   ],
   "source": [
    "def cal_Ozone_index(x):\n",
    "    if x <= 50:\n",
    "        return x * 50 / 50\n",
    "    elif x <= 100:\n",
    "        return 50 + (x - 50) * 50 / 50\n",
    "    elif x <= 168:\n",
    "        return 100 + (x - 100) * 100 / 68\n",
    "    elif x <= 208:\n",
    "        return 200 + (x - 168) * 100 / 40\n",
    "    elif x <= 748:\n",
    "        return 300 + (x - 208) * 100 / 539\n",
    "    elif x > 748:\n",
    "        return 400 + (x - 400) * 100 / 539\n",
    "    else:\n",
    "        return 0\n",
    "    \n",
    "df['Ozone_index']=df['Ozone'].apply(cal_Ozone_index)\n",
    "data= df[['Ozone','Ozone_index']]\n",
    "data.describe()"
   ]
  },
  {
   "cell_type": "markdown",
   "metadata": {},
   "source": [
    "# Here we caculate the index of NH3 using the standard formula"
   ]
  },
  {
   "cell_type": "code",
   "execution_count": 66,
   "metadata": {},
   "outputs": [
    {
     "data": {
      "text/html": [
       "<div>\n",
       "<style scoped>\n",
       "    .dataframe tbody tr th:only-of-type {\n",
       "        vertical-align: middle;\n",
       "    }\n",
       "\n",
       "    .dataframe tbody tr th {\n",
       "        vertical-align: top;\n",
       "    }\n",
       "\n",
       "    .dataframe thead th {\n",
       "        text-align: right;\n",
       "    }\n",
       "</style>\n",
       "<table border=\"1\" class=\"dataframe\">\n",
       "  <thead>\n",
       "    <tr style=\"text-align: right;\">\n",
       "      <th></th>\n",
       "      <th>NH3</th>\n",
       "      <th>NH3_index</th>\n",
       "    </tr>\n",
       "  </thead>\n",
       "  <tbody>\n",
       "    <tr>\n",
       "      <th>count</th>\n",
       "      <td>1340.000000</td>\n",
       "      <td>1340.000000</td>\n",
       "    </tr>\n",
       "    <tr>\n",
       "      <th>mean</th>\n",
       "      <td>15.012291</td>\n",
       "      <td>3.753073</td>\n",
       "    </tr>\n",
       "    <tr>\n",
       "      <th>std</th>\n",
       "      <td>11.212465</td>\n",
       "      <td>2.803116</td>\n",
       "    </tr>\n",
       "    <tr>\n",
       "      <th>min</th>\n",
       "      <td>0.340000</td>\n",
       "      <td>0.085000</td>\n",
       "    </tr>\n",
       "    <tr>\n",
       "      <th>25%</th>\n",
       "      <td>8.537500</td>\n",
       "      <td>2.134375</td>\n",
       "    </tr>\n",
       "    <tr>\n",
       "      <th>50%</th>\n",
       "      <td>12.715000</td>\n",
       "      <td>3.178750</td>\n",
       "    </tr>\n",
       "    <tr>\n",
       "      <th>75%</th>\n",
       "      <td>16.952500</td>\n",
       "      <td>4.238125</td>\n",
       "    </tr>\n",
       "    <tr>\n",
       "      <th>max</th>\n",
       "      <td>131.750000</td>\n",
       "      <td>32.937500</td>\n",
       "    </tr>\n",
       "  </tbody>\n",
       "</table>\n",
       "</div>"
      ],
      "text/plain": [
       "               NH3    NH3_index\n",
       "count  1340.000000  1340.000000\n",
       "mean     15.012291     3.753073\n",
       "std      11.212465     2.803116\n",
       "min       0.340000     0.085000\n",
       "25%       8.537500     2.134375\n",
       "50%      12.715000     3.178750\n",
       "75%      16.952500     4.238125\n",
       "max     131.750000    32.937500"
      ]
     },
     "execution_count": 66,
     "metadata": {},
     "output_type": "execute_result"
    }
   ],
   "source": [
    "def cal_NH3_index(x):\n",
    "    if x <= 200:\n",
    "        return x * 50 / 200\n",
    "    elif x <= 400:\n",
    "        return 50 + (x - 200) * 50 / 200\n",
    "    elif x <= 800:\n",
    "        return 100 + (x - 400) * 100 / 400\n",
    "    elif x <= 1200:\n",
    "        return 200 + (x - 800) * 100 / 400\n",
    "    elif x <= 1800:\n",
    "        return 300 + (x - 1200) * 100 / 600\n",
    "    elif x > 1800:\n",
    "        return 400 + (x - 1800) * 100 / 600\n",
    "    else:\n",
    "        return 0\n",
    "\n",
    "df['NH3_index']=df['NH3'].apply(cal_NH3_index)\n",
    "data= df[['NH3','NH3_index']]\n",
    "data.describe()"
   ]
  },
  {
   "cell_type": "markdown",
   "metadata": {},
   "source": [
    "# Now we can see all the index of each gasses are added in the dataframe"
   ]
  },
  {
   "cell_type": "code",
   "execution_count": 67,
   "metadata": {},
   "outputs": [
    {
     "data": {
      "text/html": [
       "<div>\n",
       "<style scoped>\n",
       "    .dataframe tbody tr th:only-of-type {\n",
       "        vertical-align: middle;\n",
       "    }\n",
       "\n",
       "    .dataframe tbody tr th {\n",
       "        vertical-align: top;\n",
       "    }\n",
       "\n",
       "    .dataframe thead th {\n",
       "        text-align: right;\n",
       "    }\n",
       "</style>\n",
       "<table border=\"1\" class=\"dataframe\">\n",
       "  <thead>\n",
       "    <tr style=\"text-align: right;\">\n",
       "      <th></th>\n",
       "      <th>Date</th>\n",
       "      <th>PM2.5</th>\n",
       "      <th>PM10</th>\n",
       "      <th>NO2</th>\n",
       "      <th>SO2</th>\n",
       "      <th>CO</th>\n",
       "      <th>Ozone</th>\n",
       "      <th>NH3</th>\n",
       "      <th>Year</th>\n",
       "      <th>Month</th>\n",
       "      <th>SO2_Index</th>\n",
       "      <th>NO2_index</th>\n",
       "      <th>CO_index</th>\n",
       "      <th>PM2_5_index</th>\n",
       "      <th>PM10_index</th>\n",
       "      <th>Ozone_index</th>\n",
       "      <th>NH3_index</th>\n",
       "    </tr>\n",
       "  </thead>\n",
       "  <tbody>\n",
       "    <tr>\n",
       "      <th>0</th>\n",
       "      <td>25-06-2019</td>\n",
       "      <td>12.57</td>\n",
       "      <td>43.83</td>\n",
       "      <td>8.01</td>\n",
       "      <td>9.49</td>\n",
       "      <td>0.71</td>\n",
       "      <td>25.01</td>\n",
       "      <td>4.94</td>\n",
       "      <td>2019</td>\n",
       "      <td>6</td>\n",
       "      <td>11.8625</td>\n",
       "      <td>10.0125</td>\n",
       "      <td>35.5</td>\n",
       "      <td>20.950000</td>\n",
       "      <td>43.830000</td>\n",
       "      <td>25.01</td>\n",
       "      <td>1.2350</td>\n",
       "    </tr>\n",
       "    <tr>\n",
       "      <th>1</th>\n",
       "      <td>26-06-2019</td>\n",
       "      <td>9.16</td>\n",
       "      <td>34.11</td>\n",
       "      <td>3.16</td>\n",
       "      <td>9.51</td>\n",
       "      <td>0.36</td>\n",
       "      <td>30.51</td>\n",
       "      <td>6.82</td>\n",
       "      <td>2019</td>\n",
       "      <td>6</td>\n",
       "      <td>11.8875</td>\n",
       "      <td>3.9500</td>\n",
       "      <td>18.0</td>\n",
       "      <td>15.266667</td>\n",
       "      <td>34.110000</td>\n",
       "      <td>30.51</td>\n",
       "      <td>1.7050</td>\n",
       "    </tr>\n",
       "    <tr>\n",
       "      <th>2</th>\n",
       "      <td>27-06-2019</td>\n",
       "      <td>6.71</td>\n",
       "      <td>29.44</td>\n",
       "      <td>24.50</td>\n",
       "      <td>9.42</td>\n",
       "      <td>0.22</td>\n",
       "      <td>26.75</td>\n",
       "      <td>15.01</td>\n",
       "      <td>2019</td>\n",
       "      <td>6</td>\n",
       "      <td>11.7750</td>\n",
       "      <td>30.6250</td>\n",
       "      <td>11.0</td>\n",
       "      <td>11.183333</td>\n",
       "      <td>29.440000</td>\n",
       "      <td>26.75</td>\n",
       "      <td>3.7525</td>\n",
       "    </tr>\n",
       "    <tr>\n",
       "      <th>3</th>\n",
       "      <td>28-06-2019</td>\n",
       "      <td>2.90</td>\n",
       "      <td>18.61</td>\n",
       "      <td>3.32</td>\n",
       "      <td>9.49</td>\n",
       "      <td>0.18</td>\n",
       "      <td>26.26</td>\n",
       "      <td>5.98</td>\n",
       "      <td>2019</td>\n",
       "      <td>6</td>\n",
       "      <td>11.8625</td>\n",
       "      <td>4.1500</td>\n",
       "      <td>9.0</td>\n",
       "      <td>4.833333</td>\n",
       "      <td>18.610000</td>\n",
       "      <td>26.26</td>\n",
       "      <td>1.4950</td>\n",
       "    </tr>\n",
       "    <tr>\n",
       "      <th>4</th>\n",
       "      <td>29-06-2019</td>\n",
       "      <td>4.08</td>\n",
       "      <td>28.56</td>\n",
       "      <td>4.03</td>\n",
       "      <td>9.52</td>\n",
       "      <td>0.03</td>\n",
       "      <td>30.30</td>\n",
       "      <td>2.50</td>\n",
       "      <td>2019</td>\n",
       "      <td>6</td>\n",
       "      <td>11.9000</td>\n",
       "      <td>5.0375</td>\n",
       "      <td>1.5</td>\n",
       "      <td>6.800000</td>\n",
       "      <td>28.560000</td>\n",
       "      <td>30.30</td>\n",
       "      <td>0.6250</td>\n",
       "    </tr>\n",
       "    <tr>\n",
       "      <th>...</th>\n",
       "      <td>...</td>\n",
       "      <td>...</td>\n",
       "      <td>...</td>\n",
       "      <td>...</td>\n",
       "      <td>...</td>\n",
       "      <td>...</td>\n",
       "      <td>...</td>\n",
       "      <td>...</td>\n",
       "      <td>...</td>\n",
       "      <td>...</td>\n",
       "      <td>...</td>\n",
       "      <td>...</td>\n",
       "      <td>...</td>\n",
       "      <td>...</td>\n",
       "      <td>...</td>\n",
       "      <td>...</td>\n",
       "      <td>...</td>\n",
       "    </tr>\n",
       "    <tr>\n",
       "      <th>1335</th>\n",
       "      <td>19-02-2023</td>\n",
       "      <td>83.30</td>\n",
       "      <td>183.17</td>\n",
       "      <td>24.50</td>\n",
       "      <td>30.57</td>\n",
       "      <td>1.46</td>\n",
       "      <td>11.12</td>\n",
       "      <td>28.17</td>\n",
       "      <td>2023</td>\n",
       "      <td>2</td>\n",
       "      <td>38.2125</td>\n",
       "      <td>30.6250</td>\n",
       "      <td>73.0</td>\n",
       "      <td>177.666667</td>\n",
       "      <td>155.446667</td>\n",
       "      <td>11.12</td>\n",
       "      <td>7.0425</td>\n",
       "    </tr>\n",
       "    <tr>\n",
       "      <th>1336</th>\n",
       "      <td>20-02-2023</td>\n",
       "      <td>88.30</td>\n",
       "      <td>194.48</td>\n",
       "      <td>24.50</td>\n",
       "      <td>28.60</td>\n",
       "      <td>1.55</td>\n",
       "      <td>11.28</td>\n",
       "      <td>27.08</td>\n",
       "      <td>2023</td>\n",
       "      <td>2</td>\n",
       "      <td>35.7500</td>\n",
       "      <td>30.6250</td>\n",
       "      <td>77.5</td>\n",
       "      <td>194.333333</td>\n",
       "      <td>162.986667</td>\n",
       "      <td>11.28</td>\n",
       "      <td>6.7700</td>\n",
       "    </tr>\n",
       "    <tr>\n",
       "      <th>1337</th>\n",
       "      <td>21-02-2023</td>\n",
       "      <td>72.43</td>\n",
       "      <td>128.22</td>\n",
       "      <td>24.50</td>\n",
       "      <td>26.27</td>\n",
       "      <td>1.38</td>\n",
       "      <td>11.09</td>\n",
       "      <td>29.05</td>\n",
       "      <td>2023</td>\n",
       "      <td>2</td>\n",
       "      <td>32.8375</td>\n",
       "      <td>30.6250</td>\n",
       "      <td>69.0</td>\n",
       "      <td>141.433333</td>\n",
       "      <td>118.813333</td>\n",
       "      <td>11.09</td>\n",
       "      <td>7.2625</td>\n",
       "    </tr>\n",
       "    <tr>\n",
       "      <th>1338</th>\n",
       "      <td>22-02-2023</td>\n",
       "      <td>84.94</td>\n",
       "      <td>159.51</td>\n",
       "      <td>24.50</td>\n",
       "      <td>26.08</td>\n",
       "      <td>1.43</td>\n",
       "      <td>10.41</td>\n",
       "      <td>25.90</td>\n",
       "      <td>2023</td>\n",
       "      <td>2</td>\n",
       "      <td>32.6000</td>\n",
       "      <td>30.6250</td>\n",
       "      <td>71.5</td>\n",
       "      <td>183.133333</td>\n",
       "      <td>139.673333</td>\n",
       "      <td>10.41</td>\n",
       "      <td>6.4750</td>\n",
       "    </tr>\n",
       "    <tr>\n",
       "      <th>1339</th>\n",
       "      <td>22-02-2023</td>\n",
       "      <td>44.25</td>\n",
       "      <td>102.44</td>\n",
       "      <td>24.50</td>\n",
       "      <td>25.00</td>\n",
       "      <td>1.13</td>\n",
       "      <td>10.68</td>\n",
       "      <td>15.13</td>\n",
       "      <td>2023</td>\n",
       "      <td>2</td>\n",
       "      <td>31.2500</td>\n",
       "      <td>30.6250</td>\n",
       "      <td>56.5</td>\n",
       "      <td>73.750000</td>\n",
       "      <td>101.626667</td>\n",
       "      <td>10.68</td>\n",
       "      <td>3.7825</td>\n",
       "    </tr>\n",
       "  </tbody>\n",
       "</table>\n",
       "<p>1340 rows × 17 columns</p>\n",
       "</div>"
      ],
      "text/plain": [
       "            Date  PM2.5    PM10    NO2    SO2    CO  Ozone    NH3  Year  \\\n",
       "0     25-06-2019  12.57   43.83   8.01   9.49  0.71  25.01   4.94  2019   \n",
       "1     26-06-2019   9.16   34.11   3.16   9.51  0.36  30.51   6.82  2019   \n",
       "2     27-06-2019   6.71   29.44  24.50   9.42  0.22  26.75  15.01  2019   \n",
       "3     28-06-2019   2.90   18.61   3.32   9.49  0.18  26.26   5.98  2019   \n",
       "4     29-06-2019   4.08   28.56   4.03   9.52  0.03  30.30   2.50  2019   \n",
       "...          ...    ...     ...    ...    ...   ...    ...    ...   ...   \n",
       "1335  19-02-2023  83.30  183.17  24.50  30.57  1.46  11.12  28.17  2023   \n",
       "1336  20-02-2023  88.30  194.48  24.50  28.60  1.55  11.28  27.08  2023   \n",
       "1337  21-02-2023  72.43  128.22  24.50  26.27  1.38  11.09  29.05  2023   \n",
       "1338  22-02-2023  84.94  159.51  24.50  26.08  1.43  10.41  25.90  2023   \n",
       "1339  22-02-2023  44.25  102.44  24.50  25.00  1.13  10.68  15.13  2023   \n",
       "\n",
       "      Month  SO2_Index  NO2_index  CO_index  PM2_5_index  PM10_index  \\\n",
       "0         6    11.8625    10.0125      35.5    20.950000   43.830000   \n",
       "1         6    11.8875     3.9500      18.0    15.266667   34.110000   \n",
       "2         6    11.7750    30.6250      11.0    11.183333   29.440000   \n",
       "3         6    11.8625     4.1500       9.0     4.833333   18.610000   \n",
       "4         6    11.9000     5.0375       1.5     6.800000   28.560000   \n",
       "...     ...        ...        ...       ...          ...         ...   \n",
       "1335      2    38.2125    30.6250      73.0   177.666667  155.446667   \n",
       "1336      2    35.7500    30.6250      77.5   194.333333  162.986667   \n",
       "1337      2    32.8375    30.6250      69.0   141.433333  118.813333   \n",
       "1338      2    32.6000    30.6250      71.5   183.133333  139.673333   \n",
       "1339      2    31.2500    30.6250      56.5    73.750000  101.626667   \n",
       "\n",
       "      Ozone_index  NH3_index  \n",
       "0           25.01     1.2350  \n",
       "1           30.51     1.7050  \n",
       "2           26.75     3.7525  \n",
       "3           26.26     1.4950  \n",
       "4           30.30     0.6250  \n",
       "...           ...        ...  \n",
       "1335        11.12     7.0425  \n",
       "1336        11.28     6.7700  \n",
       "1337        11.09     7.2625  \n",
       "1338        10.41     6.4750  \n",
       "1339        10.68     3.7825  \n",
       "\n",
       "[1340 rows x 17 columns]"
      ]
     },
     "execution_count": 67,
     "metadata": {},
     "output_type": "execute_result"
    }
   ],
   "source": [
    "df"
   ]
  },
  {
   "cell_type": "code",
   "execution_count": 68,
   "metadata": {},
   "outputs": [
    {
     "data": {
      "text/plain": [
       "Index([' Date', 'PM2.5', 'PM10', 'NO2', 'SO2', 'CO', 'Ozone', 'NH3', 'Year',\n",
       "       'Month', 'SO2_Index', 'NO2_index', 'CO_index', 'PM2_5_index',\n",
       "       'PM10_index', 'Ozone_index', 'NH3_index'],\n",
       "      dtype='object')"
      ]
     },
     "execution_count": 68,
     "metadata": {},
     "output_type": "execute_result"
    }
   ],
   "source": [
    "df.columns"
   ]
  },
  {
   "cell_type": "code",
   "execution_count": 69,
   "metadata": {},
   "outputs": [],
   "source": [
    "# Now just round off the index of each gases and checking maximum among them and assigning that value as the AQI_calculated as AQI of that day\n",
    "df[\"AQI_calculated\"] = round(df[['SO2_Index', 'NO2_index', 'CO_index', 'PM2_5_index',\n",
    "       'PM10_index', 'Ozone_index', 'NH3_index']].max(axis = 1))"
   ]
  },
  {
   "cell_type": "code",
   "execution_count": 70,
   "metadata": {},
   "outputs": [
    {
     "data": {
      "text/html": [
       "<div>\n",
       "<style scoped>\n",
       "    .dataframe tbody tr th:only-of-type {\n",
       "        vertical-align: middle;\n",
       "    }\n",
       "\n",
       "    .dataframe tbody tr th {\n",
       "        vertical-align: top;\n",
       "    }\n",
       "\n",
       "    .dataframe thead th {\n",
       "        text-align: right;\n",
       "    }\n",
       "</style>\n",
       "<table border=\"1\" class=\"dataframe\">\n",
       "  <thead>\n",
       "    <tr style=\"text-align: right;\">\n",
       "      <th></th>\n",
       "      <th>Date</th>\n",
       "      <th>PM2.5</th>\n",
       "      <th>PM10</th>\n",
       "      <th>NO2</th>\n",
       "      <th>SO2</th>\n",
       "      <th>CO</th>\n",
       "      <th>Ozone</th>\n",
       "      <th>NH3</th>\n",
       "      <th>Year</th>\n",
       "      <th>Month</th>\n",
       "      <th>SO2_Index</th>\n",
       "      <th>NO2_index</th>\n",
       "      <th>CO_index</th>\n",
       "      <th>PM2_5_index</th>\n",
       "      <th>PM10_index</th>\n",
       "      <th>Ozone_index</th>\n",
       "      <th>NH3_index</th>\n",
       "      <th>AQI_calculated</th>\n",
       "    </tr>\n",
       "  </thead>\n",
       "  <tbody>\n",
       "    <tr>\n",
       "      <th>0</th>\n",
       "      <td>25-06-2019</td>\n",
       "      <td>12.57</td>\n",
       "      <td>43.83</td>\n",
       "      <td>8.01</td>\n",
       "      <td>9.49</td>\n",
       "      <td>0.71</td>\n",
       "      <td>25.01</td>\n",
       "      <td>4.94</td>\n",
       "      <td>2019</td>\n",
       "      <td>6</td>\n",
       "      <td>11.8625</td>\n",
       "      <td>10.0125</td>\n",
       "      <td>35.5</td>\n",
       "      <td>20.950000</td>\n",
       "      <td>43.830000</td>\n",
       "      <td>25.01</td>\n",
       "      <td>1.2350</td>\n",
       "      <td>44.0</td>\n",
       "    </tr>\n",
       "    <tr>\n",
       "      <th>1</th>\n",
       "      <td>26-06-2019</td>\n",
       "      <td>9.16</td>\n",
       "      <td>34.11</td>\n",
       "      <td>3.16</td>\n",
       "      <td>9.51</td>\n",
       "      <td>0.36</td>\n",
       "      <td>30.51</td>\n",
       "      <td>6.82</td>\n",
       "      <td>2019</td>\n",
       "      <td>6</td>\n",
       "      <td>11.8875</td>\n",
       "      <td>3.9500</td>\n",
       "      <td>18.0</td>\n",
       "      <td>15.266667</td>\n",
       "      <td>34.110000</td>\n",
       "      <td>30.51</td>\n",
       "      <td>1.7050</td>\n",
       "      <td>34.0</td>\n",
       "    </tr>\n",
       "    <tr>\n",
       "      <th>2</th>\n",
       "      <td>27-06-2019</td>\n",
       "      <td>6.71</td>\n",
       "      <td>29.44</td>\n",
       "      <td>24.50</td>\n",
       "      <td>9.42</td>\n",
       "      <td>0.22</td>\n",
       "      <td>26.75</td>\n",
       "      <td>15.01</td>\n",
       "      <td>2019</td>\n",
       "      <td>6</td>\n",
       "      <td>11.7750</td>\n",
       "      <td>30.6250</td>\n",
       "      <td>11.0</td>\n",
       "      <td>11.183333</td>\n",
       "      <td>29.440000</td>\n",
       "      <td>26.75</td>\n",
       "      <td>3.7525</td>\n",
       "      <td>31.0</td>\n",
       "    </tr>\n",
       "    <tr>\n",
       "      <th>3</th>\n",
       "      <td>28-06-2019</td>\n",
       "      <td>2.90</td>\n",
       "      <td>18.61</td>\n",
       "      <td>3.32</td>\n",
       "      <td>9.49</td>\n",
       "      <td>0.18</td>\n",
       "      <td>26.26</td>\n",
       "      <td>5.98</td>\n",
       "      <td>2019</td>\n",
       "      <td>6</td>\n",
       "      <td>11.8625</td>\n",
       "      <td>4.1500</td>\n",
       "      <td>9.0</td>\n",
       "      <td>4.833333</td>\n",
       "      <td>18.610000</td>\n",
       "      <td>26.26</td>\n",
       "      <td>1.4950</td>\n",
       "      <td>26.0</td>\n",
       "    </tr>\n",
       "    <tr>\n",
       "      <th>4</th>\n",
       "      <td>29-06-2019</td>\n",
       "      <td>4.08</td>\n",
       "      <td>28.56</td>\n",
       "      <td>4.03</td>\n",
       "      <td>9.52</td>\n",
       "      <td>0.03</td>\n",
       "      <td>30.30</td>\n",
       "      <td>2.50</td>\n",
       "      <td>2019</td>\n",
       "      <td>6</td>\n",
       "      <td>11.9000</td>\n",
       "      <td>5.0375</td>\n",
       "      <td>1.5</td>\n",
       "      <td>6.800000</td>\n",
       "      <td>28.560000</td>\n",
       "      <td>30.30</td>\n",
       "      <td>0.6250</td>\n",
       "      <td>30.0</td>\n",
       "    </tr>\n",
       "    <tr>\n",
       "      <th>...</th>\n",
       "      <td>...</td>\n",
       "      <td>...</td>\n",
       "      <td>...</td>\n",
       "      <td>...</td>\n",
       "      <td>...</td>\n",
       "      <td>...</td>\n",
       "      <td>...</td>\n",
       "      <td>...</td>\n",
       "      <td>...</td>\n",
       "      <td>...</td>\n",
       "      <td>...</td>\n",
       "      <td>...</td>\n",
       "      <td>...</td>\n",
       "      <td>...</td>\n",
       "      <td>...</td>\n",
       "      <td>...</td>\n",
       "      <td>...</td>\n",
       "      <td>...</td>\n",
       "    </tr>\n",
       "    <tr>\n",
       "      <th>1335</th>\n",
       "      <td>19-02-2023</td>\n",
       "      <td>83.30</td>\n",
       "      <td>183.17</td>\n",
       "      <td>24.50</td>\n",
       "      <td>30.57</td>\n",
       "      <td>1.46</td>\n",
       "      <td>11.12</td>\n",
       "      <td>28.17</td>\n",
       "      <td>2023</td>\n",
       "      <td>2</td>\n",
       "      <td>38.2125</td>\n",
       "      <td>30.6250</td>\n",
       "      <td>73.0</td>\n",
       "      <td>177.666667</td>\n",
       "      <td>155.446667</td>\n",
       "      <td>11.12</td>\n",
       "      <td>7.0425</td>\n",
       "      <td>178.0</td>\n",
       "    </tr>\n",
       "    <tr>\n",
       "      <th>1336</th>\n",
       "      <td>20-02-2023</td>\n",
       "      <td>88.30</td>\n",
       "      <td>194.48</td>\n",
       "      <td>24.50</td>\n",
       "      <td>28.60</td>\n",
       "      <td>1.55</td>\n",
       "      <td>11.28</td>\n",
       "      <td>27.08</td>\n",
       "      <td>2023</td>\n",
       "      <td>2</td>\n",
       "      <td>35.7500</td>\n",
       "      <td>30.6250</td>\n",
       "      <td>77.5</td>\n",
       "      <td>194.333333</td>\n",
       "      <td>162.986667</td>\n",
       "      <td>11.28</td>\n",
       "      <td>6.7700</td>\n",
       "      <td>194.0</td>\n",
       "    </tr>\n",
       "    <tr>\n",
       "      <th>1337</th>\n",
       "      <td>21-02-2023</td>\n",
       "      <td>72.43</td>\n",
       "      <td>128.22</td>\n",
       "      <td>24.50</td>\n",
       "      <td>26.27</td>\n",
       "      <td>1.38</td>\n",
       "      <td>11.09</td>\n",
       "      <td>29.05</td>\n",
       "      <td>2023</td>\n",
       "      <td>2</td>\n",
       "      <td>32.8375</td>\n",
       "      <td>30.6250</td>\n",
       "      <td>69.0</td>\n",
       "      <td>141.433333</td>\n",
       "      <td>118.813333</td>\n",
       "      <td>11.09</td>\n",
       "      <td>7.2625</td>\n",
       "      <td>141.0</td>\n",
       "    </tr>\n",
       "    <tr>\n",
       "      <th>1338</th>\n",
       "      <td>22-02-2023</td>\n",
       "      <td>84.94</td>\n",
       "      <td>159.51</td>\n",
       "      <td>24.50</td>\n",
       "      <td>26.08</td>\n",
       "      <td>1.43</td>\n",
       "      <td>10.41</td>\n",
       "      <td>25.90</td>\n",
       "      <td>2023</td>\n",
       "      <td>2</td>\n",
       "      <td>32.6000</td>\n",
       "      <td>30.6250</td>\n",
       "      <td>71.5</td>\n",
       "      <td>183.133333</td>\n",
       "      <td>139.673333</td>\n",
       "      <td>10.41</td>\n",
       "      <td>6.4750</td>\n",
       "      <td>183.0</td>\n",
       "    </tr>\n",
       "    <tr>\n",
       "      <th>1339</th>\n",
       "      <td>22-02-2023</td>\n",
       "      <td>44.25</td>\n",
       "      <td>102.44</td>\n",
       "      <td>24.50</td>\n",
       "      <td>25.00</td>\n",
       "      <td>1.13</td>\n",
       "      <td>10.68</td>\n",
       "      <td>15.13</td>\n",
       "      <td>2023</td>\n",
       "      <td>2</td>\n",
       "      <td>31.2500</td>\n",
       "      <td>30.6250</td>\n",
       "      <td>56.5</td>\n",
       "      <td>73.750000</td>\n",
       "      <td>101.626667</td>\n",
       "      <td>10.68</td>\n",
       "      <td>3.7825</td>\n",
       "      <td>102.0</td>\n",
       "    </tr>\n",
       "  </tbody>\n",
       "</table>\n",
       "<p>1340 rows × 18 columns</p>\n",
       "</div>"
      ],
      "text/plain": [
       "            Date  PM2.5    PM10    NO2    SO2    CO  Ozone    NH3  Year  \\\n",
       "0     25-06-2019  12.57   43.83   8.01   9.49  0.71  25.01   4.94  2019   \n",
       "1     26-06-2019   9.16   34.11   3.16   9.51  0.36  30.51   6.82  2019   \n",
       "2     27-06-2019   6.71   29.44  24.50   9.42  0.22  26.75  15.01  2019   \n",
       "3     28-06-2019   2.90   18.61   3.32   9.49  0.18  26.26   5.98  2019   \n",
       "4     29-06-2019   4.08   28.56   4.03   9.52  0.03  30.30   2.50  2019   \n",
       "...          ...    ...     ...    ...    ...   ...    ...    ...   ...   \n",
       "1335  19-02-2023  83.30  183.17  24.50  30.57  1.46  11.12  28.17  2023   \n",
       "1336  20-02-2023  88.30  194.48  24.50  28.60  1.55  11.28  27.08  2023   \n",
       "1337  21-02-2023  72.43  128.22  24.50  26.27  1.38  11.09  29.05  2023   \n",
       "1338  22-02-2023  84.94  159.51  24.50  26.08  1.43  10.41  25.90  2023   \n",
       "1339  22-02-2023  44.25  102.44  24.50  25.00  1.13  10.68  15.13  2023   \n",
       "\n",
       "      Month  SO2_Index  NO2_index  CO_index  PM2_5_index  PM10_index  \\\n",
       "0         6    11.8625    10.0125      35.5    20.950000   43.830000   \n",
       "1         6    11.8875     3.9500      18.0    15.266667   34.110000   \n",
       "2         6    11.7750    30.6250      11.0    11.183333   29.440000   \n",
       "3         6    11.8625     4.1500       9.0     4.833333   18.610000   \n",
       "4         6    11.9000     5.0375       1.5     6.800000   28.560000   \n",
       "...     ...        ...        ...       ...          ...         ...   \n",
       "1335      2    38.2125    30.6250      73.0   177.666667  155.446667   \n",
       "1336      2    35.7500    30.6250      77.5   194.333333  162.986667   \n",
       "1337      2    32.8375    30.6250      69.0   141.433333  118.813333   \n",
       "1338      2    32.6000    30.6250      71.5   183.133333  139.673333   \n",
       "1339      2    31.2500    30.6250      56.5    73.750000  101.626667   \n",
       "\n",
       "      Ozone_index  NH3_index  AQI_calculated  \n",
       "0           25.01     1.2350            44.0  \n",
       "1           30.51     1.7050            34.0  \n",
       "2           26.75     3.7525            31.0  \n",
       "3           26.26     1.4950            26.0  \n",
       "4           30.30     0.6250            30.0  \n",
       "...           ...        ...             ...  \n",
       "1335        11.12     7.0425           178.0  \n",
       "1336        11.28     6.7700           194.0  \n",
       "1337        11.09     7.2625           141.0  \n",
       "1338        10.41     6.4750           183.0  \n",
       "1339        10.68     3.7825           102.0  \n",
       "\n",
       "[1340 rows x 18 columns]"
      ]
     },
     "execution_count": 70,
     "metadata": {},
     "output_type": "execute_result"
    }
   ],
   "source": [
    "df"
   ]
  },
  {
   "cell_type": "code",
   "execution_count": 71,
   "metadata": {},
   "outputs": [
    {
     "data": {
      "text/html": [
       "<div>\n",
       "<style scoped>\n",
       "    .dataframe tbody tr th:only-of-type {\n",
       "        vertical-align: middle;\n",
       "    }\n",
       "\n",
       "    .dataframe tbody tr th {\n",
       "        vertical-align: top;\n",
       "    }\n",
       "\n",
       "    .dataframe thead th {\n",
       "        text-align: right;\n",
       "    }\n",
       "</style>\n",
       "<table border=\"1\" class=\"dataframe\">\n",
       "  <thead>\n",
       "    <tr style=\"text-align: right;\">\n",
       "      <th></th>\n",
       "      <th>PM2.5</th>\n",
       "      <th>PM10</th>\n",
       "      <th>NO2</th>\n",
       "      <th>SO2</th>\n",
       "      <th>CO</th>\n",
       "      <th>Ozone</th>\n",
       "      <th>NH3</th>\n",
       "      <th>Year</th>\n",
       "      <th>Month</th>\n",
       "      <th>SO2_Index</th>\n",
       "      <th>NO2_index</th>\n",
       "      <th>CO_index</th>\n",
       "      <th>PM2_5_index</th>\n",
       "      <th>PM10_index</th>\n",
       "      <th>Ozone_index</th>\n",
       "      <th>NH3_index</th>\n",
       "      <th>AQI_calculated</th>\n",
       "    </tr>\n",
       "  </thead>\n",
       "  <tbody>\n",
       "    <tr>\n",
       "      <th>count</th>\n",
       "      <td>1340.000000</td>\n",
       "      <td>1340.000000</td>\n",
       "      <td>1340.000000</td>\n",
       "      <td>1340.000000</td>\n",
       "      <td>1340.000000</td>\n",
       "      <td>1340.000000</td>\n",
       "      <td>1340.000000</td>\n",
       "      <td>1340.000000</td>\n",
       "      <td>1340.000000</td>\n",
       "      <td>1340.000000</td>\n",
       "      <td>1340.000000</td>\n",
       "      <td>1340.000000</td>\n",
       "      <td>1340.000000</td>\n",
       "      <td>1340.000000</td>\n",
       "      <td>1340.000000</td>\n",
       "      <td>1340.000000</td>\n",
       "      <td>1340.000000</td>\n",
       "    </tr>\n",
       "    <tr>\n",
       "      <th>mean</th>\n",
       "      <td>39.379060</td>\n",
       "      <td>83.627626</td>\n",
       "      <td>24.496955</td>\n",
       "      <td>17.716828</td>\n",
       "      <td>0.709858</td>\n",
       "      <td>14.549836</td>\n",
       "      <td>15.012291</td>\n",
       "      <td>2020.796269</td>\n",
       "      <td>6.650746</td>\n",
       "      <td>21.806841</td>\n",
       "      <td>30.129435</td>\n",
       "      <td>35.260075</td>\n",
       "      <td>72.755856</td>\n",
       "      <td>78.430997</td>\n",
       "      <td>14.559472</td>\n",
       "      <td>3.753073</td>\n",
       "      <td>92.221642</td>\n",
       "    </tr>\n",
       "    <tr>\n",
       "      <th>std</th>\n",
       "      <td>26.955982</td>\n",
       "      <td>55.185305</td>\n",
       "      <td>27.635429</td>\n",
       "      <td>16.765424</td>\n",
       "      <td>0.475141</td>\n",
       "      <td>17.983043</td>\n",
       "      <td>11.212465</td>\n",
       "      <td>1.110538</td>\n",
       "      <td>3.487152</td>\n",
       "      <td>19.049167</td>\n",
       "      <td>32.415999</td>\n",
       "      <td>22.890671</td>\n",
       "      <td>59.570448</td>\n",
       "      <td>46.793858</td>\n",
       "      <td>18.038321</td>\n",
       "      <td>2.803116</td>\n",
       "      <td>58.095497</td>\n",
       "    </tr>\n",
       "    <tr>\n",
       "      <th>min</th>\n",
       "      <td>2.500000</td>\n",
       "      <td>11.840000</td>\n",
       "      <td>0.380000</td>\n",
       "      <td>0.010000</td>\n",
       "      <td>0.000000</td>\n",
       "      <td>0.010000</td>\n",
       "      <td>0.340000</td>\n",
       "      <td>2019.000000</td>\n",
       "      <td>1.000000</td>\n",
       "      <td>0.012500</td>\n",
       "      <td>0.475000</td>\n",
       "      <td>0.000000</td>\n",
       "      <td>4.166667</td>\n",
       "      <td>11.840000</td>\n",
       "      <td>0.010000</td>\n",
       "      <td>0.085000</td>\n",
       "      <td>13.000000</td>\n",
       "    </tr>\n",
       "    <tr>\n",
       "      <th>25%</th>\n",
       "      <td>16.242500</td>\n",
       "      <td>38.040000</td>\n",
       "      <td>7.785000</td>\n",
       "      <td>7.450000</td>\n",
       "      <td>0.370000</td>\n",
       "      <td>2.437500</td>\n",
       "      <td>8.537500</td>\n",
       "      <td>2020.000000</td>\n",
       "      <td>4.000000</td>\n",
       "      <td>9.312500</td>\n",
       "      <td>9.731250</td>\n",
       "      <td>18.500000</td>\n",
       "      <td>27.070833</td>\n",
       "      <td>38.040000</td>\n",
       "      <td>2.437500</td>\n",
       "      <td>2.134375</td>\n",
       "      <td>46.750000</td>\n",
       "    </tr>\n",
       "    <tr>\n",
       "      <th>50%</th>\n",
       "      <td>39.359530</td>\n",
       "      <td>74.570000</td>\n",
       "      <td>12.935000</td>\n",
       "      <td>15.605000</td>\n",
       "      <td>0.670000</td>\n",
       "      <td>9.645000</td>\n",
       "      <td>12.715000</td>\n",
       "      <td>2021.000000</td>\n",
       "      <td>7.000000</td>\n",
       "      <td>19.506250</td>\n",
       "      <td>16.168750</td>\n",
       "      <td>33.500000</td>\n",
       "      <td>65.599217</td>\n",
       "      <td>74.570000</td>\n",
       "      <td>9.645000</td>\n",
       "      <td>3.178750</td>\n",
       "      <td>84.000000</td>\n",
       "    </tr>\n",
       "    <tr>\n",
       "      <th>75%</th>\n",
       "      <td>53.405000</td>\n",
       "      <td>120.915000</td>\n",
       "      <td>31.325000</td>\n",
       "      <td>21.000000</td>\n",
       "      <td>0.972500</td>\n",
       "      <td>16.480000</td>\n",
       "      <td>16.952500</td>\n",
       "      <td>2022.000000</td>\n",
       "      <td>10.000000</td>\n",
       "      <td>26.250000</td>\n",
       "      <td>39.156250</td>\n",
       "      <td>48.625000</td>\n",
       "      <td>89.008333</td>\n",
       "      <td>113.943333</td>\n",
       "      <td>16.480000</td>\n",
       "      <td>4.238125</td>\n",
       "      <td>122.000000</td>\n",
       "    </tr>\n",
       "    <tr>\n",
       "      <th>max</th>\n",
       "      <td>272.760000</td>\n",
       "      <td>543.830000</td>\n",
       "      <td>229.200000</td>\n",
       "      <td>180.100000</td>\n",
       "      <td>3.110000</td>\n",
       "      <td>116.780000</td>\n",
       "      <td>131.750000</td>\n",
       "      <td>2023.000000</td>\n",
       "      <td>12.000000</td>\n",
       "      <td>133.366667</td>\n",
       "      <td>249.200000</td>\n",
       "      <td>113.875000</td>\n",
       "      <td>417.507692</td>\n",
       "      <td>542.287500</td>\n",
       "      <td>124.676471</td>\n",
       "      <td>32.937500</td>\n",
       "      <td>542.000000</td>\n",
       "    </tr>\n",
       "  </tbody>\n",
       "</table>\n",
       "</div>"
      ],
      "text/plain": [
       "             PM2.5         PM10          NO2          SO2           CO  \\\n",
       "count  1340.000000  1340.000000  1340.000000  1340.000000  1340.000000   \n",
       "mean     39.379060    83.627626    24.496955    17.716828     0.709858   \n",
       "std      26.955982    55.185305    27.635429    16.765424     0.475141   \n",
       "min       2.500000    11.840000     0.380000     0.010000     0.000000   \n",
       "25%      16.242500    38.040000     7.785000     7.450000     0.370000   \n",
       "50%      39.359530    74.570000    12.935000    15.605000     0.670000   \n",
       "75%      53.405000   120.915000    31.325000    21.000000     0.972500   \n",
       "max     272.760000   543.830000   229.200000   180.100000     3.110000   \n",
       "\n",
       "             Ozone          NH3         Year        Month    SO2_Index  \\\n",
       "count  1340.000000  1340.000000  1340.000000  1340.000000  1340.000000   \n",
       "mean     14.549836    15.012291  2020.796269     6.650746    21.806841   \n",
       "std      17.983043    11.212465     1.110538     3.487152    19.049167   \n",
       "min       0.010000     0.340000  2019.000000     1.000000     0.012500   \n",
       "25%       2.437500     8.537500  2020.000000     4.000000     9.312500   \n",
       "50%       9.645000    12.715000  2021.000000     7.000000    19.506250   \n",
       "75%      16.480000    16.952500  2022.000000    10.000000    26.250000   \n",
       "max     116.780000   131.750000  2023.000000    12.000000   133.366667   \n",
       "\n",
       "         NO2_index     CO_index  PM2_5_index   PM10_index  Ozone_index  \\\n",
       "count  1340.000000  1340.000000  1340.000000  1340.000000  1340.000000   \n",
       "mean     30.129435    35.260075    72.755856    78.430997    14.559472   \n",
       "std      32.415999    22.890671    59.570448    46.793858    18.038321   \n",
       "min       0.475000     0.000000     4.166667    11.840000     0.010000   \n",
       "25%       9.731250    18.500000    27.070833    38.040000     2.437500   \n",
       "50%      16.168750    33.500000    65.599217    74.570000     9.645000   \n",
       "75%      39.156250    48.625000    89.008333   113.943333    16.480000   \n",
       "max     249.200000   113.875000   417.507692   542.287500   124.676471   \n",
       "\n",
       "         NH3_index  AQI_calculated  \n",
       "count  1340.000000     1340.000000  \n",
       "mean      3.753073       92.221642  \n",
       "std       2.803116       58.095497  \n",
       "min       0.085000       13.000000  \n",
       "25%       2.134375       46.750000  \n",
       "50%       3.178750       84.000000  \n",
       "75%       4.238125      122.000000  \n",
       "max      32.937500      542.000000  "
      ]
     },
     "execution_count": 71,
     "metadata": {},
     "output_type": "execute_result"
    }
   ],
   "source": [
    "df.describe()"
   ]
  },
  {
   "cell_type": "code",
   "execution_count": 72,
   "metadata": {},
   "outputs": [],
   "source": [
    "# we want to include the check column in our data frame . we have created it by checking each gasses index ,if it is 0 then we will not count it. later we can remove that data of that day if it count less than 3\n",
    "df[\"Checks\"] = (df[\"PM2_5_index\"] > 0).astype(int) + \\\n",
    "                (df[\"PM10_index\"] > 0).astype(int) + \\\n",
    "                (df[\"Ozone_index\"] > 0).astype(int) + \\\n",
    "                (df[\"NH3_index\"] > 0).astype(int) + \\\n",
    "                (df[\"SO2_Index\"] > 0).astype(int) + \\\n",
    "                (df[\"NO2_index\"] > 0).astype(int) + \\\n",
    "                (df[\"CO_index\"] > 0).astype(int)"
   ]
  },
  {
   "cell_type": "code",
   "execution_count": 73,
   "metadata": {},
   "outputs": [
    {
     "data": {
      "text/html": [
       "<div>\n",
       "<style scoped>\n",
       "    .dataframe tbody tr th:only-of-type {\n",
       "        vertical-align: middle;\n",
       "    }\n",
       "\n",
       "    .dataframe tbody tr th {\n",
       "        vertical-align: top;\n",
       "    }\n",
       "\n",
       "    .dataframe thead th {\n",
       "        text-align: right;\n",
       "    }\n",
       "</style>\n",
       "<table border=\"1\" class=\"dataframe\">\n",
       "  <thead>\n",
       "    <tr style=\"text-align: right;\">\n",
       "      <th></th>\n",
       "      <th>PM2.5</th>\n",
       "      <th>PM10</th>\n",
       "      <th>NO2</th>\n",
       "      <th>SO2</th>\n",
       "      <th>CO</th>\n",
       "      <th>Ozone</th>\n",
       "      <th>NH3</th>\n",
       "      <th>Year</th>\n",
       "      <th>Month</th>\n",
       "      <th>SO2_Index</th>\n",
       "      <th>NO2_index</th>\n",
       "      <th>CO_index</th>\n",
       "      <th>PM2_5_index</th>\n",
       "      <th>PM10_index</th>\n",
       "      <th>Ozone_index</th>\n",
       "      <th>NH3_index</th>\n",
       "      <th>AQI_calculated</th>\n",
       "      <th>Checks</th>\n",
       "    </tr>\n",
       "  </thead>\n",
       "  <tbody>\n",
       "    <tr>\n",
       "      <th>count</th>\n",
       "      <td>1340.000000</td>\n",
       "      <td>1340.000000</td>\n",
       "      <td>1340.000000</td>\n",
       "      <td>1340.000000</td>\n",
       "      <td>1340.000000</td>\n",
       "      <td>1340.000000</td>\n",
       "      <td>1340.000000</td>\n",
       "      <td>1340.000000</td>\n",
       "      <td>1340.000000</td>\n",
       "      <td>1340.000000</td>\n",
       "      <td>1340.000000</td>\n",
       "      <td>1340.000000</td>\n",
       "      <td>1340.000000</td>\n",
       "      <td>1340.000000</td>\n",
       "      <td>1340.000000</td>\n",
       "      <td>1340.000000</td>\n",
       "      <td>1340.000000</td>\n",
       "      <td>1340.000000</td>\n",
       "    </tr>\n",
       "    <tr>\n",
       "      <th>mean</th>\n",
       "      <td>39.379060</td>\n",
       "      <td>83.627626</td>\n",
       "      <td>24.496955</td>\n",
       "      <td>17.716828</td>\n",
       "      <td>0.709858</td>\n",
       "      <td>14.549836</td>\n",
       "      <td>15.012291</td>\n",
       "      <td>2020.796269</td>\n",
       "      <td>6.650746</td>\n",
       "      <td>21.806841</td>\n",
       "      <td>30.129435</td>\n",
       "      <td>35.260075</td>\n",
       "      <td>72.755856</td>\n",
       "      <td>78.430997</td>\n",
       "      <td>14.559472</td>\n",
       "      <td>3.753073</td>\n",
       "      <td>92.221642</td>\n",
       "      <td>6.996269</td>\n",
       "    </tr>\n",
       "    <tr>\n",
       "      <th>std</th>\n",
       "      <td>26.955982</td>\n",
       "      <td>55.185305</td>\n",
       "      <td>27.635429</td>\n",
       "      <td>16.765424</td>\n",
       "      <td>0.475141</td>\n",
       "      <td>17.983043</td>\n",
       "      <td>11.212465</td>\n",
       "      <td>1.110538</td>\n",
       "      <td>3.487152</td>\n",
       "      <td>19.049167</td>\n",
       "      <td>32.415999</td>\n",
       "      <td>22.890671</td>\n",
       "      <td>59.570448</td>\n",
       "      <td>46.793858</td>\n",
       "      <td>18.038321</td>\n",
       "      <td>2.803116</td>\n",
       "      <td>58.095497</td>\n",
       "      <td>0.060993</td>\n",
       "    </tr>\n",
       "    <tr>\n",
       "      <th>min</th>\n",
       "      <td>2.500000</td>\n",
       "      <td>11.840000</td>\n",
       "      <td>0.380000</td>\n",
       "      <td>0.010000</td>\n",
       "      <td>0.000000</td>\n",
       "      <td>0.010000</td>\n",
       "      <td>0.340000</td>\n",
       "      <td>2019.000000</td>\n",
       "      <td>1.000000</td>\n",
       "      <td>0.012500</td>\n",
       "      <td>0.475000</td>\n",
       "      <td>0.000000</td>\n",
       "      <td>4.166667</td>\n",
       "      <td>11.840000</td>\n",
       "      <td>0.010000</td>\n",
       "      <td>0.085000</td>\n",
       "      <td>13.000000</td>\n",
       "      <td>6.000000</td>\n",
       "    </tr>\n",
       "    <tr>\n",
       "      <th>25%</th>\n",
       "      <td>16.242500</td>\n",
       "      <td>38.040000</td>\n",
       "      <td>7.785000</td>\n",
       "      <td>7.450000</td>\n",
       "      <td>0.370000</td>\n",
       "      <td>2.437500</td>\n",
       "      <td>8.537500</td>\n",
       "      <td>2020.000000</td>\n",
       "      <td>4.000000</td>\n",
       "      <td>9.312500</td>\n",
       "      <td>9.731250</td>\n",
       "      <td>18.500000</td>\n",
       "      <td>27.070833</td>\n",
       "      <td>38.040000</td>\n",
       "      <td>2.437500</td>\n",
       "      <td>2.134375</td>\n",
       "      <td>46.750000</td>\n",
       "      <td>7.000000</td>\n",
       "    </tr>\n",
       "    <tr>\n",
       "      <th>50%</th>\n",
       "      <td>39.359530</td>\n",
       "      <td>74.570000</td>\n",
       "      <td>12.935000</td>\n",
       "      <td>15.605000</td>\n",
       "      <td>0.670000</td>\n",
       "      <td>9.645000</td>\n",
       "      <td>12.715000</td>\n",
       "      <td>2021.000000</td>\n",
       "      <td>7.000000</td>\n",
       "      <td>19.506250</td>\n",
       "      <td>16.168750</td>\n",
       "      <td>33.500000</td>\n",
       "      <td>65.599217</td>\n",
       "      <td>74.570000</td>\n",
       "      <td>9.645000</td>\n",
       "      <td>3.178750</td>\n",
       "      <td>84.000000</td>\n",
       "      <td>7.000000</td>\n",
       "    </tr>\n",
       "    <tr>\n",
       "      <th>75%</th>\n",
       "      <td>53.405000</td>\n",
       "      <td>120.915000</td>\n",
       "      <td>31.325000</td>\n",
       "      <td>21.000000</td>\n",
       "      <td>0.972500</td>\n",
       "      <td>16.480000</td>\n",
       "      <td>16.952500</td>\n",
       "      <td>2022.000000</td>\n",
       "      <td>10.000000</td>\n",
       "      <td>26.250000</td>\n",
       "      <td>39.156250</td>\n",
       "      <td>48.625000</td>\n",
       "      <td>89.008333</td>\n",
       "      <td>113.943333</td>\n",
       "      <td>16.480000</td>\n",
       "      <td>4.238125</td>\n",
       "      <td>122.000000</td>\n",
       "      <td>7.000000</td>\n",
       "    </tr>\n",
       "    <tr>\n",
       "      <th>max</th>\n",
       "      <td>272.760000</td>\n",
       "      <td>543.830000</td>\n",
       "      <td>229.200000</td>\n",
       "      <td>180.100000</td>\n",
       "      <td>3.110000</td>\n",
       "      <td>116.780000</td>\n",
       "      <td>131.750000</td>\n",
       "      <td>2023.000000</td>\n",
       "      <td>12.000000</td>\n",
       "      <td>133.366667</td>\n",
       "      <td>249.200000</td>\n",
       "      <td>113.875000</td>\n",
       "      <td>417.507692</td>\n",
       "      <td>542.287500</td>\n",
       "      <td>124.676471</td>\n",
       "      <td>32.937500</td>\n",
       "      <td>542.000000</td>\n",
       "      <td>7.000000</td>\n",
       "    </tr>\n",
       "  </tbody>\n",
       "</table>\n",
       "</div>"
      ],
      "text/plain": [
       "             PM2.5         PM10          NO2          SO2           CO  \\\n",
       "count  1340.000000  1340.000000  1340.000000  1340.000000  1340.000000   \n",
       "mean     39.379060    83.627626    24.496955    17.716828     0.709858   \n",
       "std      26.955982    55.185305    27.635429    16.765424     0.475141   \n",
       "min       2.500000    11.840000     0.380000     0.010000     0.000000   \n",
       "25%      16.242500    38.040000     7.785000     7.450000     0.370000   \n",
       "50%      39.359530    74.570000    12.935000    15.605000     0.670000   \n",
       "75%      53.405000   120.915000    31.325000    21.000000     0.972500   \n",
       "max     272.760000   543.830000   229.200000   180.100000     3.110000   \n",
       "\n",
       "             Ozone          NH3         Year        Month    SO2_Index  \\\n",
       "count  1340.000000  1340.000000  1340.000000  1340.000000  1340.000000   \n",
       "mean     14.549836    15.012291  2020.796269     6.650746    21.806841   \n",
       "std      17.983043    11.212465     1.110538     3.487152    19.049167   \n",
       "min       0.010000     0.340000  2019.000000     1.000000     0.012500   \n",
       "25%       2.437500     8.537500  2020.000000     4.000000     9.312500   \n",
       "50%       9.645000    12.715000  2021.000000     7.000000    19.506250   \n",
       "75%      16.480000    16.952500  2022.000000    10.000000    26.250000   \n",
       "max     116.780000   131.750000  2023.000000    12.000000   133.366667   \n",
       "\n",
       "         NO2_index     CO_index  PM2_5_index   PM10_index  Ozone_index  \\\n",
       "count  1340.000000  1340.000000  1340.000000  1340.000000  1340.000000   \n",
       "mean     30.129435    35.260075    72.755856    78.430997    14.559472   \n",
       "std      32.415999    22.890671    59.570448    46.793858    18.038321   \n",
       "min       0.475000     0.000000     4.166667    11.840000     0.010000   \n",
       "25%       9.731250    18.500000    27.070833    38.040000     2.437500   \n",
       "50%      16.168750    33.500000    65.599217    74.570000     9.645000   \n",
       "75%      39.156250    48.625000    89.008333   113.943333    16.480000   \n",
       "max     249.200000   113.875000   417.507692   542.287500   124.676471   \n",
       "\n",
       "         NH3_index  AQI_calculated       Checks  \n",
       "count  1340.000000     1340.000000  1340.000000  \n",
       "mean      3.753073       92.221642     6.996269  \n",
       "std       2.803116       58.095497     0.060993  \n",
       "min       0.085000       13.000000     6.000000  \n",
       "25%       2.134375       46.750000     7.000000  \n",
       "50%       3.178750       84.000000     7.000000  \n",
       "75%       4.238125      122.000000     7.000000  \n",
       "max      32.937500      542.000000     7.000000  "
      ]
     },
     "execution_count": 73,
     "metadata": {},
     "output_type": "execute_result"
    }
   ],
   "source": [
    "df.describe()"
   ]
  },
  {
   "cell_type": "code",
   "execution_count": 74,
   "metadata": {},
   "outputs": [],
   "source": [
    "## AQI bucketing\n",
    "def get_AQI_bucket(x):\n",
    "    if x <= 50:\n",
    "        return \"Good\"\n",
    "    elif x <= 100:\n",
    "        return \"Satisfactory\"\n",
    "    elif x <= 200:\n",
    "        return \"Moderate\"\n",
    "    elif x <= 300:\n",
    "        return \"Poor\"\n",
    "    elif x <= 400:\n",
    "        return \"Very Poor\"\n",
    "    elif x > 400:\n",
    "        return \"Severe\"\n",
    "    else:\n",
    "        return np.NaN\n",
    "df.loc[df[\"PM2_5_index\"] + df[\"PM2_5_index\"] <= 0, \"AQI_calculated\"] = np.NaN\n",
    "df.loc[df.Checks < 3, \"AQI_calculated\"] = np.NaN\n",
    "\n"
   ]
  },
  {
   "cell_type": "code",
   "execution_count": 75,
   "metadata": {},
   "outputs": [
    {
     "data": {
      "text/html": [
       "<div>\n",
       "<style scoped>\n",
       "    .dataframe tbody tr th:only-of-type {\n",
       "        vertical-align: middle;\n",
       "    }\n",
       "\n",
       "    .dataframe tbody tr th {\n",
       "        vertical-align: top;\n",
       "    }\n",
       "\n",
       "    .dataframe thead th {\n",
       "        text-align: right;\n",
       "    }\n",
       "</style>\n",
       "<table border=\"1\" class=\"dataframe\">\n",
       "  <thead>\n",
       "    <tr style=\"text-align: right;\">\n",
       "      <th></th>\n",
       "      <th>Date</th>\n",
       "      <th>PM2.5</th>\n",
       "      <th>PM10</th>\n",
       "      <th>NO2</th>\n",
       "      <th>SO2</th>\n",
       "      <th>CO</th>\n",
       "      <th>Ozone</th>\n",
       "      <th>NH3</th>\n",
       "      <th>Year</th>\n",
       "      <th>Month</th>\n",
       "      <th>SO2_Index</th>\n",
       "      <th>NO2_index</th>\n",
       "      <th>CO_index</th>\n",
       "      <th>PM2_5_index</th>\n",
       "      <th>PM10_index</th>\n",
       "      <th>Ozone_index</th>\n",
       "      <th>NH3_index</th>\n",
       "      <th>AQI_calculated</th>\n",
       "      <th>Checks</th>\n",
       "      <th>AQI_bucket_calculated</th>\n",
       "    </tr>\n",
       "  </thead>\n",
       "  <tbody>\n",
       "    <tr>\n",
       "      <th>0</th>\n",
       "      <td>25-06-2019</td>\n",
       "      <td>12.57</td>\n",
       "      <td>43.83</td>\n",
       "      <td>8.01</td>\n",
       "      <td>9.49</td>\n",
       "      <td>0.71</td>\n",
       "      <td>25.01</td>\n",
       "      <td>4.94</td>\n",
       "      <td>2019</td>\n",
       "      <td>6</td>\n",
       "      <td>11.8625</td>\n",
       "      <td>10.0125</td>\n",
       "      <td>35.5</td>\n",
       "      <td>20.950000</td>\n",
       "      <td>43.83</td>\n",
       "      <td>25.01</td>\n",
       "      <td>1.2350</td>\n",
       "      <td>44.0</td>\n",
       "      <td>7</td>\n",
       "      <td>Good</td>\n",
       "    </tr>\n",
       "    <tr>\n",
       "      <th>1</th>\n",
       "      <td>26-06-2019</td>\n",
       "      <td>9.16</td>\n",
       "      <td>34.11</td>\n",
       "      <td>3.16</td>\n",
       "      <td>9.51</td>\n",
       "      <td>0.36</td>\n",
       "      <td>30.51</td>\n",
       "      <td>6.82</td>\n",
       "      <td>2019</td>\n",
       "      <td>6</td>\n",
       "      <td>11.8875</td>\n",
       "      <td>3.9500</td>\n",
       "      <td>18.0</td>\n",
       "      <td>15.266667</td>\n",
       "      <td>34.11</td>\n",
       "      <td>30.51</td>\n",
       "      <td>1.7050</td>\n",
       "      <td>34.0</td>\n",
       "      <td>7</td>\n",
       "      <td>Good</td>\n",
       "    </tr>\n",
       "    <tr>\n",
       "      <th>2</th>\n",
       "      <td>27-06-2019</td>\n",
       "      <td>6.71</td>\n",
       "      <td>29.44</td>\n",
       "      <td>24.50</td>\n",
       "      <td>9.42</td>\n",
       "      <td>0.22</td>\n",
       "      <td>26.75</td>\n",
       "      <td>15.01</td>\n",
       "      <td>2019</td>\n",
       "      <td>6</td>\n",
       "      <td>11.7750</td>\n",
       "      <td>30.6250</td>\n",
       "      <td>11.0</td>\n",
       "      <td>11.183333</td>\n",
       "      <td>29.44</td>\n",
       "      <td>26.75</td>\n",
       "      <td>3.7525</td>\n",
       "      <td>31.0</td>\n",
       "      <td>7</td>\n",
       "      <td>Good</td>\n",
       "    </tr>\n",
       "    <tr>\n",
       "      <th>3</th>\n",
       "      <td>28-06-2019</td>\n",
       "      <td>2.90</td>\n",
       "      <td>18.61</td>\n",
       "      <td>3.32</td>\n",
       "      <td>9.49</td>\n",
       "      <td>0.18</td>\n",
       "      <td>26.26</td>\n",
       "      <td>5.98</td>\n",
       "      <td>2019</td>\n",
       "      <td>6</td>\n",
       "      <td>11.8625</td>\n",
       "      <td>4.1500</td>\n",
       "      <td>9.0</td>\n",
       "      <td>4.833333</td>\n",
       "      <td>18.61</td>\n",
       "      <td>26.26</td>\n",
       "      <td>1.4950</td>\n",
       "      <td>26.0</td>\n",
       "      <td>7</td>\n",
       "      <td>Good</td>\n",
       "    </tr>\n",
       "    <tr>\n",
       "      <th>4</th>\n",
       "      <td>29-06-2019</td>\n",
       "      <td>4.08</td>\n",
       "      <td>28.56</td>\n",
       "      <td>4.03</td>\n",
       "      <td>9.52</td>\n",
       "      <td>0.03</td>\n",
       "      <td>30.30</td>\n",
       "      <td>2.50</td>\n",
       "      <td>2019</td>\n",
       "      <td>6</td>\n",
       "      <td>11.9000</td>\n",
       "      <td>5.0375</td>\n",
       "      <td>1.5</td>\n",
       "      <td>6.800000</td>\n",
       "      <td>28.56</td>\n",
       "      <td>30.30</td>\n",
       "      <td>0.6250</td>\n",
       "      <td>30.0</td>\n",
       "      <td>7</td>\n",
       "      <td>Good</td>\n",
       "    </tr>\n",
       "    <tr>\n",
       "      <th>5</th>\n",
       "      <td>30-06-2019</td>\n",
       "      <td>5.93</td>\n",
       "      <td>37.20</td>\n",
       "      <td>6.72</td>\n",
       "      <td>9.52</td>\n",
       "      <td>0.16</td>\n",
       "      <td>39.17</td>\n",
       "      <td>1.58</td>\n",
       "      <td>2019</td>\n",
       "      <td>6</td>\n",
       "      <td>11.9000</td>\n",
       "      <td>8.4000</td>\n",
       "      <td>8.0</td>\n",
       "      <td>9.883333</td>\n",
       "      <td>37.20</td>\n",
       "      <td>39.17</td>\n",
       "      <td>0.3950</td>\n",
       "      <td>39.0</td>\n",
       "      <td>7</td>\n",
       "      <td>Good</td>\n",
       "    </tr>\n",
       "    <tr>\n",
       "      <th>6</th>\n",
       "      <td>01-07-2019</td>\n",
       "      <td>6.14</td>\n",
       "      <td>42.80</td>\n",
       "      <td>6.76</td>\n",
       "      <td>9.61</td>\n",
       "      <td>0.21</td>\n",
       "      <td>27.27</td>\n",
       "      <td>0.94</td>\n",
       "      <td>2019</td>\n",
       "      <td>1</td>\n",
       "      <td>12.0125</td>\n",
       "      <td>8.4500</td>\n",
       "      <td>10.5</td>\n",
       "      <td>10.233333</td>\n",
       "      <td>42.80</td>\n",
       "      <td>27.27</td>\n",
       "      <td>0.2350</td>\n",
       "      <td>43.0</td>\n",
       "      <td>7</td>\n",
       "      <td>Good</td>\n",
       "    </tr>\n",
       "    <tr>\n",
       "      <th>7</th>\n",
       "      <td>02-07-2019</td>\n",
       "      <td>6.27</td>\n",
       "      <td>34.15</td>\n",
       "      <td>9.67</td>\n",
       "      <td>9.69</td>\n",
       "      <td>0.22</td>\n",
       "      <td>29.47</td>\n",
       "      <td>0.95</td>\n",
       "      <td>2019</td>\n",
       "      <td>2</td>\n",
       "      <td>12.1125</td>\n",
       "      <td>12.0875</td>\n",
       "      <td>11.0</td>\n",
       "      <td>10.450000</td>\n",
       "      <td>34.15</td>\n",
       "      <td>29.47</td>\n",
       "      <td>0.2375</td>\n",
       "      <td>34.0</td>\n",
       "      <td>7</td>\n",
       "      <td>Good</td>\n",
       "    </tr>\n",
       "    <tr>\n",
       "      <th>8</th>\n",
       "      <td>03-07-2019</td>\n",
       "      <td>4.68</td>\n",
       "      <td>24.58</td>\n",
       "      <td>12.54</td>\n",
       "      <td>9.77</td>\n",
       "      <td>0.23</td>\n",
       "      <td>27.11</td>\n",
       "      <td>2.23</td>\n",
       "      <td>2019</td>\n",
       "      <td>3</td>\n",
       "      <td>12.2125</td>\n",
       "      <td>15.6750</td>\n",
       "      <td>11.5</td>\n",
       "      <td>7.800000</td>\n",
       "      <td>24.58</td>\n",
       "      <td>27.11</td>\n",
       "      <td>0.5575</td>\n",
       "      <td>27.0</td>\n",
       "      <td>7</td>\n",
       "      <td>Good</td>\n",
       "    </tr>\n",
       "    <tr>\n",
       "      <th>9</th>\n",
       "      <td>04-07-2019</td>\n",
       "      <td>10.14</td>\n",
       "      <td>28.32</td>\n",
       "      <td>8.00</td>\n",
       "      <td>9.83</td>\n",
       "      <td>0.21</td>\n",
       "      <td>26.50</td>\n",
       "      <td>3.06</td>\n",
       "      <td>2019</td>\n",
       "      <td>4</td>\n",
       "      <td>12.2875</td>\n",
       "      <td>10.0000</td>\n",
       "      <td>10.5</td>\n",
       "      <td>16.900000</td>\n",
       "      <td>28.32</td>\n",
       "      <td>26.50</td>\n",
       "      <td>0.7650</td>\n",
       "      <td>28.0</td>\n",
       "      <td>7</td>\n",
       "      <td>Good</td>\n",
       "    </tr>\n",
       "    <tr>\n",
       "      <th>10</th>\n",
       "      <td>05-07-2019</td>\n",
       "      <td>10.36</td>\n",
       "      <td>43.75</td>\n",
       "      <td>5.26</td>\n",
       "      <td>10.09</td>\n",
       "      <td>0.21</td>\n",
       "      <td>24.87</td>\n",
       "      <td>1.57</td>\n",
       "      <td>2019</td>\n",
       "      <td>5</td>\n",
       "      <td>12.6125</td>\n",
       "      <td>6.5750</td>\n",
       "      <td>10.5</td>\n",
       "      <td>17.266667</td>\n",
       "      <td>43.75</td>\n",
       "      <td>24.87</td>\n",
       "      <td>0.3925</td>\n",
       "      <td>44.0</td>\n",
       "      <td>7</td>\n",
       "      <td>Good</td>\n",
       "    </tr>\n",
       "    <tr>\n",
       "      <th>11</th>\n",
       "      <td>06-07-2019</td>\n",
       "      <td>10.79</td>\n",
       "      <td>57.81</td>\n",
       "      <td>4.81</td>\n",
       "      <td>9.99</td>\n",
       "      <td>0.19</td>\n",
       "      <td>24.85</td>\n",
       "      <td>2.04</td>\n",
       "      <td>2019</td>\n",
       "      <td>6</td>\n",
       "      <td>12.4875</td>\n",
       "      <td>6.0125</td>\n",
       "      <td>9.5</td>\n",
       "      <td>17.983333</td>\n",
       "      <td>57.81</td>\n",
       "      <td>24.85</td>\n",
       "      <td>0.5100</td>\n",
       "      <td>58.0</td>\n",
       "      <td>7</td>\n",
       "      <td>Satisfactory</td>\n",
       "    </tr>\n",
       "    <tr>\n",
       "      <th>12</th>\n",
       "      <td>07-07-2019</td>\n",
       "      <td>14.73</td>\n",
       "      <td>61.44</td>\n",
       "      <td>5.96</td>\n",
       "      <td>9.92</td>\n",
       "      <td>0.15</td>\n",
       "      <td>24.85</td>\n",
       "      <td>3.48</td>\n",
       "      <td>2019</td>\n",
       "      <td>7</td>\n",
       "      <td>12.4000</td>\n",
       "      <td>7.4500</td>\n",
       "      <td>7.5</td>\n",
       "      <td>24.550000</td>\n",
       "      <td>61.44</td>\n",
       "      <td>24.85</td>\n",
       "      <td>0.8700</td>\n",
       "      <td>61.0</td>\n",
       "      <td>7</td>\n",
       "      <td>Satisfactory</td>\n",
       "    </tr>\n",
       "  </tbody>\n",
       "</table>\n",
       "</div>"
      ],
      "text/plain": [
       "          Date  PM2.5   PM10    NO2    SO2    CO  Ozone    NH3  Year  Month  \\\n",
       "0   25-06-2019  12.57  43.83   8.01   9.49  0.71  25.01   4.94  2019      6   \n",
       "1   26-06-2019   9.16  34.11   3.16   9.51  0.36  30.51   6.82  2019      6   \n",
       "2   27-06-2019   6.71  29.44  24.50   9.42  0.22  26.75  15.01  2019      6   \n",
       "3   28-06-2019   2.90  18.61   3.32   9.49  0.18  26.26   5.98  2019      6   \n",
       "4   29-06-2019   4.08  28.56   4.03   9.52  0.03  30.30   2.50  2019      6   \n",
       "5   30-06-2019   5.93  37.20   6.72   9.52  0.16  39.17   1.58  2019      6   \n",
       "6   01-07-2019   6.14  42.80   6.76   9.61  0.21  27.27   0.94  2019      1   \n",
       "7   02-07-2019   6.27  34.15   9.67   9.69  0.22  29.47   0.95  2019      2   \n",
       "8   03-07-2019   4.68  24.58  12.54   9.77  0.23  27.11   2.23  2019      3   \n",
       "9   04-07-2019  10.14  28.32   8.00   9.83  0.21  26.50   3.06  2019      4   \n",
       "10  05-07-2019  10.36  43.75   5.26  10.09  0.21  24.87   1.57  2019      5   \n",
       "11  06-07-2019  10.79  57.81   4.81   9.99  0.19  24.85   2.04  2019      6   \n",
       "12  07-07-2019  14.73  61.44   5.96   9.92  0.15  24.85   3.48  2019      7   \n",
       "\n",
       "    SO2_Index  NO2_index  CO_index  PM2_5_index  PM10_index  Ozone_index  \\\n",
       "0     11.8625    10.0125      35.5    20.950000       43.83        25.01   \n",
       "1     11.8875     3.9500      18.0    15.266667       34.11        30.51   \n",
       "2     11.7750    30.6250      11.0    11.183333       29.44        26.75   \n",
       "3     11.8625     4.1500       9.0     4.833333       18.61        26.26   \n",
       "4     11.9000     5.0375       1.5     6.800000       28.56        30.30   \n",
       "5     11.9000     8.4000       8.0     9.883333       37.20        39.17   \n",
       "6     12.0125     8.4500      10.5    10.233333       42.80        27.27   \n",
       "7     12.1125    12.0875      11.0    10.450000       34.15        29.47   \n",
       "8     12.2125    15.6750      11.5     7.800000       24.58        27.11   \n",
       "9     12.2875    10.0000      10.5    16.900000       28.32        26.50   \n",
       "10    12.6125     6.5750      10.5    17.266667       43.75        24.87   \n",
       "11    12.4875     6.0125       9.5    17.983333       57.81        24.85   \n",
       "12    12.4000     7.4500       7.5    24.550000       61.44        24.85   \n",
       "\n",
       "    NH3_index  AQI_calculated  Checks AQI_bucket_calculated  \n",
       "0      1.2350            44.0       7                  Good  \n",
       "1      1.7050            34.0       7                  Good  \n",
       "2      3.7525            31.0       7                  Good  \n",
       "3      1.4950            26.0       7                  Good  \n",
       "4      0.6250            30.0       7                  Good  \n",
       "5      0.3950            39.0       7                  Good  \n",
       "6      0.2350            43.0       7                  Good  \n",
       "7      0.2375            34.0       7                  Good  \n",
       "8      0.5575            27.0       7                  Good  \n",
       "9      0.7650            28.0       7                  Good  \n",
       "10     0.3925            44.0       7                  Good  \n",
       "11     0.5100            58.0       7          Satisfactory  \n",
       "12     0.8700            61.0       7          Satisfactory  "
      ]
     },
     "execution_count": 75,
     "metadata": {},
     "output_type": "execute_result"
    }
   ],
   "source": [
    "#Using lamda function we are assigning the scale of measurment in the catagorical form ...\n",
    "df[\"AQI_bucket_calculated\"] = df[\"AQI_calculated\"].apply(lambda x: get_AQI_bucket(x))\n",
    "df[~df.AQI_calculated.isna()].head(13) #this code  only cheak for column ,AQI_calculated has any null value or not "
   ]
  },
  {
   "cell_type": "code",
   "execution_count": 76,
   "metadata": {},
   "outputs": [
    {
     "data": {
      "text/plain": [
       "Satisfactory    483\n",
       "Good            388\n",
       "Moderate        387\n",
       "Poor             74\n",
       "Very Poor         7\n",
       "Severe            1\n",
       "Name: AQI_bucket_calculated, dtype: int64"
      ]
     },
     "execution_count": 76,
     "metadata": {},
     "output_type": "execute_result"
    }
   ],
   "source": [
    "# now we can see the count of each type of measurment\n",
    "df.AQI_bucket_calculated.value_counts()"
   ]
  },
  {
   "cell_type": "code",
   "execution_count": 77,
   "metadata": {},
   "outputs": [
    {
     "name": "stdout",
     "output_type": "stream",
     "text": [
      "<class 'pandas.core.frame.DataFrame'>\n",
      "RangeIndex: 1340 entries, 0 to 1339\n",
      "Data columns (total 20 columns):\n",
      " #   Column                 Non-Null Count  Dtype  \n",
      "---  ------                 --------------  -----  \n",
      " 0    Date                  1340 non-null   object \n",
      " 1   PM2.5                  1340 non-null   float64\n",
      " 2   PM10                   1340 non-null   float64\n",
      " 3   NO2                    1340 non-null   float64\n",
      " 4   SO2                    1340 non-null   float64\n",
      " 5   CO                     1340 non-null   float64\n",
      " 6   Ozone                  1340 non-null   float64\n",
      " 7   NH3                    1340 non-null   float64\n",
      " 8   Year                   1340 non-null   int64  \n",
      " 9   Month                  1340 non-null   int64  \n",
      " 10  SO2_Index              1340 non-null   float64\n",
      " 11  NO2_index              1340 non-null   float64\n",
      " 12  CO_index               1340 non-null   float64\n",
      " 13  PM2_5_index            1340 non-null   float64\n",
      " 14  PM10_index             1340 non-null   float64\n",
      " 15  Ozone_index            1340 non-null   float64\n",
      " 16  NH3_index              1340 non-null   float64\n",
      " 17  AQI_calculated         1340 non-null   float64\n",
      " 18  Checks                 1340 non-null   int32  \n",
      " 19  AQI_bucket_calculated  1340 non-null   object \n",
      "dtypes: float64(15), int32(1), int64(2), object(2)\n",
      "memory usage: 204.3+ KB\n"
     ]
    }
   ],
   "source": [
    "df.info()\n"
   ]
  },
  {
   "cell_type": "code",
   "execution_count": 78,
   "metadata": {
    "scrolled": true
   },
   "outputs": [
    {
     "data": {
      "text/html": [
       "<div>\n",
       "<style scoped>\n",
       "    .dataframe tbody tr th:only-of-type {\n",
       "        vertical-align: middle;\n",
       "    }\n",
       "\n",
       "    .dataframe tbody tr th {\n",
       "        vertical-align: top;\n",
       "    }\n",
       "\n",
       "    .dataframe thead th {\n",
       "        text-align: right;\n",
       "    }\n",
       "</style>\n",
       "<table border=\"1\" class=\"dataframe\">\n",
       "  <thead>\n",
       "    <tr style=\"text-align: right;\">\n",
       "      <th></th>\n",
       "      <th>PM2.5</th>\n",
       "      <th>PM10</th>\n",
       "      <th>NO2</th>\n",
       "      <th>SO2</th>\n",
       "      <th>CO</th>\n",
       "      <th>Ozone</th>\n",
       "      <th>NH3</th>\n",
       "      <th>Year</th>\n",
       "      <th>Month</th>\n",
       "      <th>SO2_Index</th>\n",
       "      <th>NO2_index</th>\n",
       "      <th>CO_index</th>\n",
       "      <th>PM2_5_index</th>\n",
       "      <th>PM10_index</th>\n",
       "      <th>Ozone_index</th>\n",
       "      <th>NH3_index</th>\n",
       "      <th>AQI_calculated</th>\n",
       "      <th>Checks</th>\n",
       "    </tr>\n",
       "  </thead>\n",
       "  <tbody>\n",
       "    <tr>\n",
       "      <th>count</th>\n",
       "      <td>1340.000000</td>\n",
       "      <td>1340.000000</td>\n",
       "      <td>1340.000000</td>\n",
       "      <td>1340.000000</td>\n",
       "      <td>1340.000000</td>\n",
       "      <td>1340.000000</td>\n",
       "      <td>1340.000000</td>\n",
       "      <td>1340.000000</td>\n",
       "      <td>1340.000000</td>\n",
       "      <td>1340.000000</td>\n",
       "      <td>1340.000000</td>\n",
       "      <td>1340.000000</td>\n",
       "      <td>1340.000000</td>\n",
       "      <td>1340.000000</td>\n",
       "      <td>1340.000000</td>\n",
       "      <td>1340.000000</td>\n",
       "      <td>1340.000000</td>\n",
       "      <td>1340.000000</td>\n",
       "    </tr>\n",
       "    <tr>\n",
       "      <th>mean</th>\n",
       "      <td>39.379060</td>\n",
       "      <td>83.627626</td>\n",
       "      <td>24.496955</td>\n",
       "      <td>17.716828</td>\n",
       "      <td>0.709858</td>\n",
       "      <td>14.549836</td>\n",
       "      <td>15.012291</td>\n",
       "      <td>2020.796269</td>\n",
       "      <td>6.650746</td>\n",
       "      <td>21.806841</td>\n",
       "      <td>30.129435</td>\n",
       "      <td>35.260075</td>\n",
       "      <td>72.755856</td>\n",
       "      <td>78.430997</td>\n",
       "      <td>14.559472</td>\n",
       "      <td>3.753073</td>\n",
       "      <td>92.221642</td>\n",
       "      <td>6.996269</td>\n",
       "    </tr>\n",
       "    <tr>\n",
       "      <th>std</th>\n",
       "      <td>26.955982</td>\n",
       "      <td>55.185305</td>\n",
       "      <td>27.635429</td>\n",
       "      <td>16.765424</td>\n",
       "      <td>0.475141</td>\n",
       "      <td>17.983043</td>\n",
       "      <td>11.212465</td>\n",
       "      <td>1.110538</td>\n",
       "      <td>3.487152</td>\n",
       "      <td>19.049167</td>\n",
       "      <td>32.415999</td>\n",
       "      <td>22.890671</td>\n",
       "      <td>59.570448</td>\n",
       "      <td>46.793858</td>\n",
       "      <td>18.038321</td>\n",
       "      <td>2.803116</td>\n",
       "      <td>58.095497</td>\n",
       "      <td>0.060993</td>\n",
       "    </tr>\n",
       "    <tr>\n",
       "      <th>min</th>\n",
       "      <td>2.500000</td>\n",
       "      <td>11.840000</td>\n",
       "      <td>0.380000</td>\n",
       "      <td>0.010000</td>\n",
       "      <td>0.000000</td>\n",
       "      <td>0.010000</td>\n",
       "      <td>0.340000</td>\n",
       "      <td>2019.000000</td>\n",
       "      <td>1.000000</td>\n",
       "      <td>0.012500</td>\n",
       "      <td>0.475000</td>\n",
       "      <td>0.000000</td>\n",
       "      <td>4.166667</td>\n",
       "      <td>11.840000</td>\n",
       "      <td>0.010000</td>\n",
       "      <td>0.085000</td>\n",
       "      <td>13.000000</td>\n",
       "      <td>6.000000</td>\n",
       "    </tr>\n",
       "    <tr>\n",
       "      <th>25%</th>\n",
       "      <td>16.242500</td>\n",
       "      <td>38.040000</td>\n",
       "      <td>7.785000</td>\n",
       "      <td>7.450000</td>\n",
       "      <td>0.370000</td>\n",
       "      <td>2.437500</td>\n",
       "      <td>8.537500</td>\n",
       "      <td>2020.000000</td>\n",
       "      <td>4.000000</td>\n",
       "      <td>9.312500</td>\n",
       "      <td>9.731250</td>\n",
       "      <td>18.500000</td>\n",
       "      <td>27.070833</td>\n",
       "      <td>38.040000</td>\n",
       "      <td>2.437500</td>\n",
       "      <td>2.134375</td>\n",
       "      <td>46.750000</td>\n",
       "      <td>7.000000</td>\n",
       "    </tr>\n",
       "    <tr>\n",
       "      <th>50%</th>\n",
       "      <td>39.359530</td>\n",
       "      <td>74.570000</td>\n",
       "      <td>12.935000</td>\n",
       "      <td>15.605000</td>\n",
       "      <td>0.670000</td>\n",
       "      <td>9.645000</td>\n",
       "      <td>12.715000</td>\n",
       "      <td>2021.000000</td>\n",
       "      <td>7.000000</td>\n",
       "      <td>19.506250</td>\n",
       "      <td>16.168750</td>\n",
       "      <td>33.500000</td>\n",
       "      <td>65.599217</td>\n",
       "      <td>74.570000</td>\n",
       "      <td>9.645000</td>\n",
       "      <td>3.178750</td>\n",
       "      <td>84.000000</td>\n",
       "      <td>7.000000</td>\n",
       "    </tr>\n",
       "    <tr>\n",
       "      <th>75%</th>\n",
       "      <td>53.405000</td>\n",
       "      <td>120.915000</td>\n",
       "      <td>31.325000</td>\n",
       "      <td>21.000000</td>\n",
       "      <td>0.972500</td>\n",
       "      <td>16.480000</td>\n",
       "      <td>16.952500</td>\n",
       "      <td>2022.000000</td>\n",
       "      <td>10.000000</td>\n",
       "      <td>26.250000</td>\n",
       "      <td>39.156250</td>\n",
       "      <td>48.625000</td>\n",
       "      <td>89.008333</td>\n",
       "      <td>113.943333</td>\n",
       "      <td>16.480000</td>\n",
       "      <td>4.238125</td>\n",
       "      <td>122.000000</td>\n",
       "      <td>7.000000</td>\n",
       "    </tr>\n",
       "    <tr>\n",
       "      <th>max</th>\n",
       "      <td>272.760000</td>\n",
       "      <td>543.830000</td>\n",
       "      <td>229.200000</td>\n",
       "      <td>180.100000</td>\n",
       "      <td>3.110000</td>\n",
       "      <td>116.780000</td>\n",
       "      <td>131.750000</td>\n",
       "      <td>2023.000000</td>\n",
       "      <td>12.000000</td>\n",
       "      <td>133.366667</td>\n",
       "      <td>249.200000</td>\n",
       "      <td>113.875000</td>\n",
       "      <td>417.507692</td>\n",
       "      <td>542.287500</td>\n",
       "      <td>124.676471</td>\n",
       "      <td>32.937500</td>\n",
       "      <td>542.000000</td>\n",
       "      <td>7.000000</td>\n",
       "    </tr>\n",
       "  </tbody>\n",
       "</table>\n",
       "</div>"
      ],
      "text/plain": [
       "             PM2.5         PM10          NO2          SO2           CO  \\\n",
       "count  1340.000000  1340.000000  1340.000000  1340.000000  1340.000000   \n",
       "mean     39.379060    83.627626    24.496955    17.716828     0.709858   \n",
       "std      26.955982    55.185305    27.635429    16.765424     0.475141   \n",
       "min       2.500000    11.840000     0.380000     0.010000     0.000000   \n",
       "25%      16.242500    38.040000     7.785000     7.450000     0.370000   \n",
       "50%      39.359530    74.570000    12.935000    15.605000     0.670000   \n",
       "75%      53.405000   120.915000    31.325000    21.000000     0.972500   \n",
       "max     272.760000   543.830000   229.200000   180.100000     3.110000   \n",
       "\n",
       "             Ozone          NH3         Year        Month    SO2_Index  \\\n",
       "count  1340.000000  1340.000000  1340.000000  1340.000000  1340.000000   \n",
       "mean     14.549836    15.012291  2020.796269     6.650746    21.806841   \n",
       "std      17.983043    11.212465     1.110538     3.487152    19.049167   \n",
       "min       0.010000     0.340000  2019.000000     1.000000     0.012500   \n",
       "25%       2.437500     8.537500  2020.000000     4.000000     9.312500   \n",
       "50%       9.645000    12.715000  2021.000000     7.000000    19.506250   \n",
       "75%      16.480000    16.952500  2022.000000    10.000000    26.250000   \n",
       "max     116.780000   131.750000  2023.000000    12.000000   133.366667   \n",
       "\n",
       "         NO2_index     CO_index  PM2_5_index   PM10_index  Ozone_index  \\\n",
       "count  1340.000000  1340.000000  1340.000000  1340.000000  1340.000000   \n",
       "mean     30.129435    35.260075    72.755856    78.430997    14.559472   \n",
       "std      32.415999    22.890671    59.570448    46.793858    18.038321   \n",
       "min       0.475000     0.000000     4.166667    11.840000     0.010000   \n",
       "25%       9.731250    18.500000    27.070833    38.040000     2.437500   \n",
       "50%      16.168750    33.500000    65.599217    74.570000     9.645000   \n",
       "75%      39.156250    48.625000    89.008333   113.943333    16.480000   \n",
       "max     249.200000   113.875000   417.507692   542.287500   124.676471   \n",
       "\n",
       "         NH3_index  AQI_calculated       Checks  \n",
       "count  1340.000000     1340.000000  1340.000000  \n",
       "mean      3.753073       92.221642     6.996269  \n",
       "std       2.803116       58.095497     0.060993  \n",
       "min       0.085000       13.000000     6.000000  \n",
       "25%       2.134375       46.750000     7.000000  \n",
       "50%       3.178750       84.000000     7.000000  \n",
       "75%       4.238125      122.000000     7.000000  \n",
       "max      32.937500      542.000000     7.000000  "
      ]
     },
     "execution_count": 78,
     "metadata": {},
     "output_type": "execute_result"
    }
   ],
   "source": [
    "df.describe()"
   ]
  },
  {
   "cell_type": "markdown",
   "metadata": {},
   "source": [
    "# Now we will apply model so we need the data in the form of dependent and independent  "
   ]
  },
  {
   "cell_type": "code",
   "execution_count": 79,
   "metadata": {},
   "outputs": [],
   "source": [
    "# Now taking X as the independent varible(regressor) and Y as the  target varible \n",
    "X=df[['SO2_Index', 'NO2_index', 'CO_index', 'PM2_5_index',\n",
    "       'PM10_index', 'Ozone_index', 'NH3_index']]\n",
    "Y=df['AQI_calculated']\n"
   ]
  },
  {
   "cell_type": "code",
   "execution_count": 80,
   "metadata": {},
   "outputs": [
    {
     "name": "stdout",
     "output_type": "stream",
     "text": [
      "(1072, 7) (268, 7) (1072,) (268,)\n"
     ]
    }
   ],
   "source": [
    "# imporing the train_test_split so that we could able to split data set into the train and test data set \n",
    "\n",
    "from sklearn.model_selection import train_test_split\n",
    "from sklearn.linear_model import LinearRegression\n",
    "X_train,X_test,Y_train,Y_test=train_test_split(X,Y,test_size=0.2)\n",
    "print(X_train.shape,X_test.shape,Y_train.shape,Y_test.shape)\n",
    "# splitting the data into training and testing data"
   ]
  },
  {
   "cell_type": "markdown",
   "metadata": {},
   "source": [
    "# Applying the Models"
   ]
  },
  {
   "cell_type": "markdown",
   "metadata": {},
   "source": [
    "## 1) LinearRegression"
   ]
  },
  {
   "cell_type": "code",
   "execution_count": 81,
   "metadata": {},
   "outputs": [
    {
     "data": {
      "text/html": [
       "<style>#sk-container-id-1 {color: black;background-color: white;}#sk-container-id-1 pre{padding: 0;}#sk-container-id-1 div.sk-toggleable {background-color: white;}#sk-container-id-1 label.sk-toggleable__label {cursor: pointer;display: block;width: 100%;margin-bottom: 0;padding: 0.3em;box-sizing: border-box;text-align: center;}#sk-container-id-1 label.sk-toggleable__label-arrow:before {content: \"▸\";float: left;margin-right: 0.25em;color: #696969;}#sk-container-id-1 label.sk-toggleable__label-arrow:hover:before {color: black;}#sk-container-id-1 div.sk-estimator:hover label.sk-toggleable__label-arrow:before {color: black;}#sk-container-id-1 div.sk-toggleable__content {max-height: 0;max-width: 0;overflow: hidden;text-align: left;background-color: #f0f8ff;}#sk-container-id-1 div.sk-toggleable__content pre {margin: 0.2em;color: black;border-radius: 0.25em;background-color: #f0f8ff;}#sk-container-id-1 input.sk-toggleable__control:checked~div.sk-toggleable__content {max-height: 200px;max-width: 100%;overflow: auto;}#sk-container-id-1 input.sk-toggleable__control:checked~label.sk-toggleable__label-arrow:before {content: \"▾\";}#sk-container-id-1 div.sk-estimator input.sk-toggleable__control:checked~label.sk-toggleable__label {background-color: #d4ebff;}#sk-container-id-1 div.sk-label input.sk-toggleable__control:checked~label.sk-toggleable__label {background-color: #d4ebff;}#sk-container-id-1 input.sk-hidden--visually {border: 0;clip: rect(1px 1px 1px 1px);clip: rect(1px, 1px, 1px, 1px);height: 1px;margin: -1px;overflow: hidden;padding: 0;position: absolute;width: 1px;}#sk-container-id-1 div.sk-estimator {font-family: monospace;background-color: #f0f8ff;border: 1px dotted black;border-radius: 0.25em;box-sizing: border-box;margin-bottom: 0.5em;}#sk-container-id-1 div.sk-estimator:hover {background-color: #d4ebff;}#sk-container-id-1 div.sk-parallel-item::after {content: \"\";width: 100%;border-bottom: 1px solid gray;flex-grow: 1;}#sk-container-id-1 div.sk-label:hover label.sk-toggleable__label {background-color: #d4ebff;}#sk-container-id-1 div.sk-serial::before {content: \"\";position: absolute;border-left: 1px solid gray;box-sizing: border-box;top: 0;bottom: 0;left: 50%;z-index: 0;}#sk-container-id-1 div.sk-serial {display: flex;flex-direction: column;align-items: center;background-color: white;padding-right: 0.2em;padding-left: 0.2em;position: relative;}#sk-container-id-1 div.sk-item {position: relative;z-index: 1;}#sk-container-id-1 div.sk-parallel {display: flex;align-items: stretch;justify-content: center;background-color: white;position: relative;}#sk-container-id-1 div.sk-item::before, #sk-container-id-1 div.sk-parallel-item::before {content: \"\";position: absolute;border-left: 1px solid gray;box-sizing: border-box;top: 0;bottom: 0;left: 50%;z-index: -1;}#sk-container-id-1 div.sk-parallel-item {display: flex;flex-direction: column;z-index: 1;position: relative;background-color: white;}#sk-container-id-1 div.sk-parallel-item:first-child::after {align-self: flex-end;width: 50%;}#sk-container-id-1 div.sk-parallel-item:last-child::after {align-self: flex-start;width: 50%;}#sk-container-id-1 div.sk-parallel-item:only-child::after {width: 0;}#sk-container-id-1 div.sk-dashed-wrapped {border: 1px dashed gray;margin: 0 0.4em 0.5em 0.4em;box-sizing: border-box;padding-bottom: 0.4em;background-color: white;}#sk-container-id-1 div.sk-label label {font-family: monospace;font-weight: bold;display: inline-block;line-height: 1.2em;}#sk-container-id-1 div.sk-label-container {text-align: center;}#sk-container-id-1 div.sk-container {/* jupyter's `normalize.less` sets `[hidden] { display: none; }` but bootstrap.min.css set `[hidden] { display: none !important; }` so we also need the `!important` here to be able to override the default hidden behavior on the sphinx rendered scikit-learn.org. See: https://github.com/scikit-learn/scikit-learn/issues/21755 */display: inline-block !important;position: relative;}#sk-container-id-1 div.sk-text-repr-fallback {display: none;}</style><div id=\"sk-container-id-1\" class=\"sk-top-container\"><div class=\"sk-text-repr-fallback\"><pre>LinearRegression()</pre><b>In a Jupyter environment, please rerun this cell to show the HTML representation or trust the notebook. <br />On GitHub, the HTML representation is unable to render, please try loading this page with nbviewer.org.</b></div><div class=\"sk-container\" hidden><div class=\"sk-item\"><div class=\"sk-estimator sk-toggleable\"><input class=\"sk-toggleable__control sk-hidden--visually\" id=\"sk-estimator-id-1\" type=\"checkbox\" checked><label for=\"sk-estimator-id-1\" class=\"sk-toggleable__label sk-toggleable__label-arrow\">LinearRegression</label><div class=\"sk-toggleable__content\"><pre>LinearRegression()</pre></div></div></div></div></div>"
      ],
      "text/plain": [
       "LinearRegression()"
      ]
     },
     "execution_count": 81,
     "metadata": {},
     "output_type": "execute_result"
    }
   ],
   "source": [
    "LR=LinearRegression()\n",
    "LR.fit(X_train,Y_train)"
   ]
  },
  {
   "cell_type": "code",
   "execution_count": 109,
   "metadata": {},
   "outputs": [
    {
     "data": {
      "text/plain": [
       "array([61.75817122])"
      ]
     },
     "execution_count": 109,
     "metadata": {},
     "output_type": "execute_result"
    }
   ],
   "source": [
    "#predicting train\n",
    "train_pred=LR.predict(X_train)\n",
    "#predicting on test\n",
    "test_pred=LR.predict(X_test)\n",
    "LR.predict([[84.6,178.1,4.97,28.69,0.91,26.7,7.7]])"
   ]
  },
  {
   "cell_type": "code",
   "execution_count": 110,
   "metadata": {},
   "outputs": [
    {
     "data": {
      "text/plain": [
       "'Satisfactory'"
      ]
     },
     "execution_count": 110,
     "metadata": {},
     "output_type": "execute_result"
    }
   ],
   "source": [
    " get_AQI_bucket(LR.predict([[84.6,178.1,4.97,28.69,0.91,26.7,7.7]]))"
   ]
  },
  {
   "cell_type": "code",
   "execution_count": 86,
   "metadata": {},
   "outputs": [
    {
     "name": "stdout",
     "output_type": "stream",
     "text": [
      "RMSE TrainingData =  13.453311881261666\n",
      "RMSE TestData =  13.829251977662505\n",
      "--------------------------------------------------\n",
      "RSquared value on train: 0.9471835961902708\n",
      "RSquared value on test: 0.9390915082532172\n"
     ]
    }
   ],
   "source": [
    "# importing the metrics library\n",
    "# The sklearn.metrics module implements functions assessing prediction error for specific purposes.\n",
    "# To check accuracy\n",
    "\n",
    "from sklearn import metrics\n",
    "from sklearn.metrics import mean_absolute_error,mean_squared_error,r2_score\n",
    "from sklearn.metrics import accuracy_score\n",
    "\n",
    "RMSE_train=(np.sqrt(metrics.mean_squared_error(Y_train,train_pred)))\n",
    "RMSE_test=(np.sqrt(metrics.mean_squared_error(Y_test,test_pred)))\n",
    "print(\"RMSE TrainingData = \",str(RMSE_train))\n",
    "print(\"RMSE TestData = \",str(RMSE_test))\n",
    "print('-'*50)\n",
    "print('RSquared value on train:',LR.score(X_train, Y_train))\n",
    "print('RSquared value on test:',LR.score(X_test, Y_test))"
   ]
  },
  {
   "cell_type": "code",
   "execution_count": 87,
   "metadata": {},
   "outputs": [],
   "source": [
    "from sklearn.preprocessing import LabelEncoder\n",
    "from sklearn.tree import DecisionTreeRegressor\n",
    "from sklearn.ensemble import RandomForestRegressor"
   ]
  },
  {
   "cell_type": "markdown",
   "metadata": {},
   "source": [
    "# DecisionTree regressor"
   ]
  },
  {
   "cell_type": "code",
   "execution_count": 98,
   "metadata": {},
   "outputs": [
    {
     "data": {
      "text/html": [
       "<style>#sk-container-id-3 {color: black;background-color: white;}#sk-container-id-3 pre{padding: 0;}#sk-container-id-3 div.sk-toggleable {background-color: white;}#sk-container-id-3 label.sk-toggleable__label {cursor: pointer;display: block;width: 100%;margin-bottom: 0;padding: 0.3em;box-sizing: border-box;text-align: center;}#sk-container-id-3 label.sk-toggleable__label-arrow:before {content: \"▸\";float: left;margin-right: 0.25em;color: #696969;}#sk-container-id-3 label.sk-toggleable__label-arrow:hover:before {color: black;}#sk-container-id-3 div.sk-estimator:hover label.sk-toggleable__label-arrow:before {color: black;}#sk-container-id-3 div.sk-toggleable__content {max-height: 0;max-width: 0;overflow: hidden;text-align: left;background-color: #f0f8ff;}#sk-container-id-3 div.sk-toggleable__content pre {margin: 0.2em;color: black;border-radius: 0.25em;background-color: #f0f8ff;}#sk-container-id-3 input.sk-toggleable__control:checked~div.sk-toggleable__content {max-height: 200px;max-width: 100%;overflow: auto;}#sk-container-id-3 input.sk-toggleable__control:checked~label.sk-toggleable__label-arrow:before {content: \"▾\";}#sk-container-id-3 div.sk-estimator input.sk-toggleable__control:checked~label.sk-toggleable__label {background-color: #d4ebff;}#sk-container-id-3 div.sk-label input.sk-toggleable__control:checked~label.sk-toggleable__label {background-color: #d4ebff;}#sk-container-id-3 input.sk-hidden--visually {border: 0;clip: rect(1px 1px 1px 1px);clip: rect(1px, 1px, 1px, 1px);height: 1px;margin: -1px;overflow: hidden;padding: 0;position: absolute;width: 1px;}#sk-container-id-3 div.sk-estimator {font-family: monospace;background-color: #f0f8ff;border: 1px dotted black;border-radius: 0.25em;box-sizing: border-box;margin-bottom: 0.5em;}#sk-container-id-3 div.sk-estimator:hover {background-color: #d4ebff;}#sk-container-id-3 div.sk-parallel-item::after {content: \"\";width: 100%;border-bottom: 1px solid gray;flex-grow: 1;}#sk-container-id-3 div.sk-label:hover label.sk-toggleable__label {background-color: #d4ebff;}#sk-container-id-3 div.sk-serial::before {content: \"\";position: absolute;border-left: 1px solid gray;box-sizing: border-box;top: 0;bottom: 0;left: 50%;z-index: 0;}#sk-container-id-3 div.sk-serial {display: flex;flex-direction: column;align-items: center;background-color: white;padding-right: 0.2em;padding-left: 0.2em;position: relative;}#sk-container-id-3 div.sk-item {position: relative;z-index: 1;}#sk-container-id-3 div.sk-parallel {display: flex;align-items: stretch;justify-content: center;background-color: white;position: relative;}#sk-container-id-3 div.sk-item::before, #sk-container-id-3 div.sk-parallel-item::before {content: \"\";position: absolute;border-left: 1px solid gray;box-sizing: border-box;top: 0;bottom: 0;left: 50%;z-index: -1;}#sk-container-id-3 div.sk-parallel-item {display: flex;flex-direction: column;z-index: 1;position: relative;background-color: white;}#sk-container-id-3 div.sk-parallel-item:first-child::after {align-self: flex-end;width: 50%;}#sk-container-id-3 div.sk-parallel-item:last-child::after {align-self: flex-start;width: 50%;}#sk-container-id-3 div.sk-parallel-item:only-child::after {width: 0;}#sk-container-id-3 div.sk-dashed-wrapped {border: 1px dashed gray;margin: 0 0.4em 0.5em 0.4em;box-sizing: border-box;padding-bottom: 0.4em;background-color: white;}#sk-container-id-3 div.sk-label label {font-family: monospace;font-weight: bold;display: inline-block;line-height: 1.2em;}#sk-container-id-3 div.sk-label-container {text-align: center;}#sk-container-id-3 div.sk-container {/* jupyter's `normalize.less` sets `[hidden] { display: none; }` but bootstrap.min.css set `[hidden] { display: none !important; }` so we also need the `!important` here to be able to override the default hidden behavior on the sphinx rendered scikit-learn.org. See: https://github.com/scikit-learn/scikit-learn/issues/21755 */display: inline-block !important;position: relative;}#sk-container-id-3 div.sk-text-repr-fallback {display: none;}</style><div id=\"sk-container-id-3\" class=\"sk-top-container\"><div class=\"sk-text-repr-fallback\"><pre>DecisionTreeRegressor(max_depth=7)</pre><b>In a Jupyter environment, please rerun this cell to show the HTML representation or trust the notebook. <br />On GitHub, the HTML representation is unable to render, please try loading this page with nbviewer.org.</b></div><div class=\"sk-container\" hidden><div class=\"sk-item\"><div class=\"sk-estimator sk-toggleable\"><input class=\"sk-toggleable__control sk-hidden--visually\" id=\"sk-estimator-id-3\" type=\"checkbox\" checked><label for=\"sk-estimator-id-3\" class=\"sk-toggleable__label sk-toggleable__label-arrow\">DecisionTreeRegressor</label><div class=\"sk-toggleable__content\"><pre>DecisionTreeRegressor(max_depth=7)</pre></div></div></div></div></div>"
      ],
      "text/plain": [
       "DecisionTreeRegressor(max_depth=7)"
      ]
     },
     "execution_count": 98,
     "metadata": {},
     "output_type": "execute_result"
    }
   ],
   "source": [
    "DT=DecisionTreeRegressor(max_depth=7)\n",
    "DT.fit(X_train,Y_train)"
   ]
  },
  {
   "cell_type": "code",
   "execution_count": 111,
   "metadata": {},
   "outputs": [
    {
     "data": {
      "text/plain": [
       "array([81.])"
      ]
     },
     "execution_count": 111,
     "metadata": {},
     "output_type": "execute_result"
    }
   ],
   "source": [
    "#predicting train\n",
    "train_preds=DT.predict(X_train)\n",
    "#predicting on test\n",
    "test_preds=DT.predict(X_test)\n",
    "DT.predict([[84.6,178.1,4.97,28.69,0.91,26.7,7.7]])"
   ]
  },
  {
   "cell_type": "code",
   "execution_count": 112,
   "metadata": {},
   "outputs": [
    {
     "data": {
      "text/plain": [
       "'Satisfactory'"
      ]
     },
     "execution_count": 112,
     "metadata": {},
     "output_type": "execute_result"
    }
   ],
   "source": [
    " get_AQI_bucket(DT.predict([[84.6,178.1,4.97,28.69,0.91,26.7,7.7]]))"
   ]
  },
  {
   "cell_type": "code",
   "execution_count": 101,
   "metadata": {
    "scrolled": true
   },
   "outputs": [
    {
     "name": "stdout",
     "output_type": "stream",
     "text": [
      "RMSE TrainingData =  5.31577652063348\n",
      "RMSE TestData =  9.634427775063486\n",
      "--------------------------------------------------\n",
      "RSquared value on train: 0.991753990403407\n",
      "RSquared value on test: 0.9704381018429264\n"
     ]
    }
   ],
   "source": [
    "RMSE_train=(np.sqrt(metrics.mean_squared_error(Y_train,train_preds)))\n",
    "RMSE_test=(np.sqrt(metrics.mean_squared_error(Y_test,test_preds)))\n",
    "print(\"RMSE TrainingData = \",str(RMSE_train))\n",
    "print(\"RMSE TestData = \",str(RMSE_test))\n",
    "print('-'*50)\n",
    "print('RSquared value on train:',DT.score(X_train, Y_train))\n",
    "print('RSquared value on test:',DT.score(X_test, Y_test))"
   ]
  },
  {
   "cell_type": "markdown",
   "metadata": {},
   "source": [
    "# Random Forest Regressor"
   ]
  },
  {
   "cell_type": "code",
   "execution_count": 102,
   "metadata": {},
   "outputs": [],
   "source": [
    "RF=RandomForestRegressor().fit(X_train,Y_train)"
   ]
  },
  {
   "cell_type": "code",
   "execution_count": null,
   "metadata": {},
   "outputs": [],
   "source": [
    "#predicting train\n",
    "train_preds1=RF.predict(X_train)\n",
    "#predicting on test\n",
    "test_preds1=RF.predict(X_test)"
   ]
  },
  {
   "cell_type": "code",
   "execution_count": 113,
   "metadata": {},
   "outputs": [
    {
     "data": {
      "text/plain": [
       "array([79.52])"
      ]
     },
     "execution_count": 113,
     "metadata": {},
     "output_type": "execute_result"
    }
   ],
   "source": [
    "RF.predict([[84.6,178.1,4.97,28.696.7,7.7]])"
   ]
  },
  {
   "cell_type": "code",
   "execution_count": 114,
   "metadata": {},
   "outputs": [
    {
     "data": {
      "text/plain": [
       "'Satisfactory'"
      ]
     },
     "execution_count": 114,
     "metadata": {},
     "output_type": "execute_result"
    }
   ],
   "source": [
    " get_AQI_bucket(RF.predict([[84.6,178.1,4.97,28.69,0.91,26.7,7.7]]))"
   ]
  },
  {
   "cell_type": "code",
   "execution_count": 105,
   "metadata": {},
   "outputs": [
    {
     "name": "stdout",
     "output_type": "stream",
     "text": [
      "RMSE TrainingData =  2.848432830444179\n",
      "RMSE TestData =  4.68398824673188\n",
      "--------------------------------------------------\n",
      "RSquared value on train: 0.9976323234535751\n",
      "RSquared value on test: 0.9930126570597682\n"
     ]
    }
   ],
   "source": [
    "RMSE_train=(np.sqrt(metrics.mean_squared_error(Y_train,train_preds1)))\n",
    "RMSE_test=(np.sqrt(metrics.mean_squared_error(Y_test,test_preds1)))\n",
    "print(\"RMSE TrainingData = \",str(RMSE_train))\n",
    "print(\"RMSE TestData = \",str(RMSE_test))\n",
    "print('-'*50)\n",
    "print('RSquared value on train:',RF.score(X_train, Y_train))\n",
    "print('RSquared value on test:',RF.score(X_test, Y_test))"
   ]
  },
  {
   "cell_type": "markdown",
   "metadata": {},
   "source": [
    "# Support vector regressor"
   ]
  },
  {
   "cell_type": "code",
   "execution_count": 96,
   "metadata": {},
   "outputs": [],
   "source": [
    "from sklearn.svm import SVR\n",
    "LR_SVR=SVR().fit(X_train,Y_train)"
   ]
  },
  {
   "cell_type": "code",
   "execution_count": 115,
   "metadata": {},
   "outputs": [
    {
     "data": {
      "text/plain": [
       "array([79.52])"
      ]
     },
     "execution_count": 115,
     "metadata": {},
     "output_type": "execute_result"
    }
   ],
   "source": [
    "#predicting train\n",
    "train_preds1=LR_SVR.predict(X_train)\n",
    "#predicting on test\n",
    "test_preds1=LR_SVR.predict(X_test)\n",
    "RF.predict([[84.6,178.1,4.97,28.69,0.91,26.7,7.7]])"
   ]
  },
  {
   "cell_type": "code",
   "execution_count": 116,
   "metadata": {},
   "outputs": [
    {
     "data": {
      "text/plain": [
       "'Moderate'"
      ]
     },
     "execution_count": 116,
     "metadata": {},
     "output_type": "execute_result"
    }
   ],
   "source": [
    " get_AQI_bucket(LR_SVR.predict([[84.6,178.1,4.97,28.69,0.91,26.7,7.7]]))"
   ]
  },
  {
   "cell_type": "code",
   "execution_count": 108,
   "metadata": {},
   "outputs": [
    {
     "name": "stdout",
     "output_type": "stream",
     "text": [
      "RMSE TrainingData =  22.915756245092542\n",
      "RMSE TestData =  18.37834686179637\n",
      "--------------------------------------------------\n",
      "RSquared value on train: 0.8467576530308762\n",
      "RSquared value on test: 0.8924294588300564\n"
     ]
    }
   ],
   "source": [
    "RMSE_train=(np.sqrt(metrics.mean_squared_error(Y_train,train_preds1)))\n",
    "RMSE_test=(np.sqrt(metrics.mean_squared_error(Y_test,test_preds1)))\n",
    "print(\"RMSE TrainingData = \",str(RMSE_train))\n",
    "print(\"RMSE TestData = \",str(RMSE_test))\n",
    "print('-'*50)\n",
    "print('RSquared value on train:',LR_SVR.score(X_train, Y_train))\n",
    "print('RSquared value on test:',LR_SVR.score(X_test, Y_test))"
   ]
  },
  {
   "cell_type": "markdown",
   "metadata": {},
   "source": [
    "# Making Data frame of all the Regressor model accuracy "
   ]
  },
  {
   "cell_type": "code",
   "execution_count": 60,
   "metadata": {},
   "outputs": [],
   "source": [
    "# mdl is the list of all the model used . After that is is called one by one and to get Rsquared ,MAE and RMSE value of each model\n",
    "mdl=[LR,DT,RF,LR_SVR]\n",
    "df1=[]  # basically it is first forming dictanory\n",
    "for m in mdl:\n",
    "    temp={\"Model\":m,\n",
    "         \"R2\":r2_score(Y_test,m.predict(X_test)),\n",
    "         \"MAE\":mean_absolute_error(Y_test,m.predict(X_test)),\n",
    "         \"RMSE\":np.sqrt(mean_squared_error(Y_test,m.predict(X_test)))}\n",
    "    df1.append(temp)"
   ]
  },
  {
   "cell_type": "code",
   "execution_count": 61,
   "metadata": {},
   "outputs": [],
   "source": [
    "# setting Model column and giving name of each model\n",
    "md=[\"Linear Regression\",'Decision Tree Regressor','Random Forest Regressor',\"SVM\"]\n",
    "for i in range(0,4):\n",
    "    df1[i]['Model']=md[i]"
   ]
  },
  {
   "cell_type": "code",
   "execution_count": 62,
   "metadata": {},
   "outputs": [],
   "source": [
    "df1=pd.DataFrame(df1)"
   ]
  },
  {
   "cell_type": "code",
   "execution_count": 63,
   "metadata": {},
   "outputs": [
    {
     "data": {
      "text/html": [
       "<div>\n",
       "<style scoped>\n",
       "    .dataframe tbody tr th:only-of-type {\n",
       "        vertical-align: middle;\n",
       "    }\n",
       "\n",
       "    .dataframe tbody tr th {\n",
       "        vertical-align: top;\n",
       "    }\n",
       "\n",
       "    .dataframe thead th {\n",
       "        text-align: right;\n",
       "    }\n",
       "</style>\n",
       "<table border=\"1\" class=\"dataframe\">\n",
       "  <thead>\n",
       "    <tr style=\"text-align: right;\">\n",
       "      <th></th>\n",
       "      <th>Model</th>\n",
       "      <th>R2</th>\n",
       "      <th>MAE</th>\n",
       "      <th>RMSE</th>\n",
       "    </tr>\n",
       "  </thead>\n",
       "  <tbody>\n",
       "    <tr>\n",
       "      <th>3</th>\n",
       "      <td>SVM</td>\n",
       "      <td>0.922675</td>\n",
       "      <td>7.830612</td>\n",
       "      <td>14.582773</td>\n",
       "    </tr>\n",
       "    <tr>\n",
       "      <th>0</th>\n",
       "      <td>Linear Regression</td>\n",
       "      <td>0.935644</td>\n",
       "      <td>9.183467</td>\n",
       "      <td>13.303735</td>\n",
       "    </tr>\n",
       "    <tr>\n",
       "      <th>1</th>\n",
       "      <td>Decision Tree Regressor</td>\n",
       "      <td>0.953719</td>\n",
       "      <td>6.031156</td>\n",
       "      <td>11.281864</td>\n",
       "    </tr>\n",
       "    <tr>\n",
       "      <th>2</th>\n",
       "      <td>Random Forest Regressor</td>\n",
       "      <td>0.983338</td>\n",
       "      <td>2.533134</td>\n",
       "      <td>6.769360</td>\n",
       "    </tr>\n",
       "  </tbody>\n",
       "</table>\n",
       "</div>"
      ],
      "text/plain": [
       "                     Model        R2       MAE       RMSE\n",
       "3                      SVM  0.922675  7.830612  14.582773\n",
       "0        Linear Regression  0.935644  9.183467  13.303735\n",
       "1  Decision Tree Regressor  0.953719  6.031156  11.281864\n",
       "2  Random Forest Regressor  0.983338  2.533134   6.769360"
      ]
     },
     "execution_count": 63,
     "metadata": {},
     "output_type": "execute_result"
    }
   ],
   "source": [
    "df1=df1.sort_values(\"R2\",ascending=True)\n",
    "df1"
   ]
  },
  {
   "cell_type": "code",
   "execution_count": 64,
   "metadata": {},
   "outputs": [],
   "source": [
    "# to save csv file of df1\n",
    "df1.to_csv('regressor.csv')"
   ]
  },
  {
   "cell_type": "code",
   "execution_count": 65,
   "metadata": {},
   "outputs": [
    {
     "data": {
      "text/plain": [
       "([0, 1, 2, 3],\n",
       " [Text(0, 0, 'SVM'),\n",
       "  Text(1, 0, 'Linear Regression'),\n",
       "  Text(2, 0, 'Decision Tree Regressor'),\n",
       "  Text(3, 0, 'Random Forest Regressor')])"
      ]
     },
     "execution_count": 65,
     "metadata": {},
     "output_type": "execute_result"
    },
    {
     "data": {
      "image/png": "[encoded data removed]",
      "text/plain": [
       "<Figure size 600x600 with 1 Axes>"
      ]
     },
     "metadata": {},
     "output_type": "display_data"
    }
   ],
   "source": [
    "plt.figure(figsize=(2,2),dpi=300)\n",
    "plt.bar(df1['Model'],df1[\"R2\"], width=.1)\n",
    "plt.title(\"R2 of Different ML models\",fontsize=4)\n",
    "plt.xlabel(\"ML Model\",fontsize=5)\n",
    "plt.ylabel(\"Value of R2\",fontsize=5)\n",
    "plt.xticks(rotation=90)"
   ]
  },
  {
   "cell_type": "code",
   "execution_count": null,
   "metadata": {},
   "outputs": [],
   "source": []
  },
  {
   "cell_type": "code",
   "execution_count": null,
   "metadata": {},
   "outputs": [],
   "source": []
  },
  {
   "cell_type": "code",
   "execution_count": null,
   "metadata": {},
   "outputs": [],
   "source": []
  },
  {
   "cell_type": "markdown",
   "metadata": {},
   "source": [
    "# Classification Algorithms"
   ]
  },
  {
   "cell_type": "code",
   "execution_count": 66,
   "metadata": {},
   "outputs": [],
   "source": [
    "from sklearn.linear_model import LogisticRegression\n",
    "from sklearn.tree import DecisionTreeClassifier\n",
    "from sklearn.ensemble import RandomForestClassifier\n",
    "from sklearn.neighbors import KNeighborsClassifier"
   ]
  },
  {
   "cell_type": "markdown",
   "metadata": {},
   "source": [
    "*Here we want to  predict \"AQI_bucket_calculated\" column, which is contain catagorical data.. Therefore we again split the dataset"
   ]
  },
  {
   "cell_type": "code",
   "execution_count": 67,
   "metadata": {},
   "outputs": [],
   "source": [
    "X2 = df[['SO2_Index', 'NO2_index', 'CO_index', 'PM2_5_index',\n",
    "       'PM10_index', 'Ozone_index', 'NH3_index']]\n",
    "Y2 = df['AQI_bucket_calculated']\n",
    "# Splitting the data into independent and dependent columns for classification "
   ]
  },
  {
   "cell_type": "code",
   "execution_count": 68,
   "metadata": {},
   "outputs": [],
   "source": [
    "X_train2, X_test2, Y_train2, Y_test2 = train_test_split(X2, Y2, test_size=0.33)\n",
    "# Splitting the data into training and testing data "
   ]
  },
  {
   "cell_type": "markdown",
   "metadata": {},
   "source": [
    "# Logistic Regression"
   ]
  },
  {
   "cell_type": "code",
   "execution_count": 69,
   "metadata": {},
   "outputs": [
    {
     "name": "stdout",
     "output_type": "stream",
     "text": [
      "Model accuracy on train is:  0.8985507246376812\n",
      "Model accuracy on test is:  0.8848758465011287\n",
      "--------------------------------------------------\n",
      "KappaScore is:  0.8364023432125763\n"
     ]
    }
   ],
   "source": [
    "#fit the model on train data \n",
    "log_reg = LogisticRegression(max_iter=1000).fit(X_train2, Y_train2)\n",
    "\n",
    "#predict on train \n",
    "train_preds2 = log_reg.predict(X_train2)\n",
    "#accuracy on train\n",
    "print(\"Model accuracy on train is: \", accuracy_score(Y_train2, train_preds2))\n",
    "\n",
    "#predict on test\n",
    "test_preds2 = log_reg.predict(X_test2)\n",
    "#accuracy on test\n",
    "print(\"Model accuracy on test is: \", accuracy_score(Y_test2, test_preds2))\n",
    "print('-'*50)\n",
    "\n",
    "# Kappa Score.\n",
    "print('KappaScore is: ', metrics.cohen_kappa_score(Y_test2,test_preds2))"
   ]
  },
  {
   "cell_type": "code",
   "execution_count": 70,
   "metadata": {},
   "outputs": [
    {
     "data": {
      "text/plain": [
       "array(['Satisfactory'], dtype=object)"
      ]
     },
     "execution_count": 70,
     "metadata": {},
     "output_type": "execute_result"
    }
   ],
   "source": [
    "log_reg.predict([[77,327,55,78,2,100,323]])"
   ]
  },
  {
   "cell_type": "code",
   "execution_count": null,
   "metadata": {},
   "outputs": [],
   "source": []
  },
  {
   "cell_type": "code",
   "execution_count": 71,
   "metadata": {},
   "outputs": [
    {
     "data": {
      "text/plain": [
       "array(['Moderate'], dtype=object)"
      ]
     },
     "execution_count": 71,
     "metadata": {},
     "output_type": "execute_result"
    }
   ],
   "source": [
    "log_reg.predict([[100,50,7,181,92,100,2]]) "
   ]
  },
  {
   "cell_type": "markdown",
   "metadata": {},
   "source": [
    "# Hyper Parameter Tuning for Decision Tree Using GridSearch CV"
   ]
  },
  {
   "cell_type": "code",
   "execution_count": 72,
   "metadata": {},
   "outputs": [],
   "source": [
    "from sklearn.model_selection import GridSearchCV"
   ]
  },
  {
   "cell_type": "code",
   "execution_count": 73,
   "metadata": {},
   "outputs": [],
   "source": [
    "def dtree_grid_search(X2,Y2,nfolds):\n",
    "    #create a dictionary of all values we want to test\n",
    "    param_grid=[{'criterion':['gini','entropy'],\n",
    "                'max_features':['auto',None ],\n",
    "                 'max_depth':[5,6,8,10,11],\n",
    "                  'min_samples_leaf':[5,6,7,10,11],\n",
    "                  'min_samples_split':[5,8,9,10,11]}]\n",
    "    #decision tree model\n",
    "    dtree_model=DecisionTreeClassifier()\n",
    "    dtree_gscv= GridSearchCV(dtree_model,param_grid,cv=nfolds)\n",
    "    #fit model to data\n",
    "    dtree_gscv.fit(X2,Y2)\n",
    "    return dtree_gscv.best_params_"
   ]
  },
  {
   "cell_type": "code",
   "execution_count": 74,
   "metadata": {},
   "outputs": [
    {
     "data": {
      "text/plain": [
       "{'criterion': 'entropy',\n",
       " 'max_depth': 5,\n",
       " 'max_features': None,\n",
       " 'min_samples_leaf': 5,\n",
       " 'min_samples_split': 5}"
      ]
     },
     "execution_count": 74,
     "metadata": {},
     "output_type": "execute_result"
    }
   ],
   "source": [
    "get_par= dtree_grid_search(X_train2,Y_train2,5)\n",
    "get_par"
   ]
  },
  {
   "cell_type": "code",
   "execution_count": 75,
   "metadata": {},
   "outputs": [],
   "source": [
    "#model training using the hyperparameter\n",
    "decision_tree=DecisionTreeClassifier(random_state=52,max_depth=5,criterion='entropy',max_features=None,\n",
    "                                     min_samples_split=10,min_samples_leaf=5)"
   ]
  },
  {
   "cell_type": "markdown",
   "metadata": {},
   "source": [
    "# Hyper Parameter Tuning for Random Forest Using GridSearch CV"
   ]
  },
  {
   "cell_type": "code",
   "execution_count": 76,
   "metadata": {},
   "outputs": [],
   "source": [
    "def ran_grid_search(X2,Y2,nfolds):\n",
    "    #create a dictionary of all values we want to test\n",
    "    param_grid=[{'criterion':['gini','entropy'],# measures split quality\n",
    "                 'n_estimators': [10,50,100,250],# number tree to grow\n",
    "                 'max_depth':[6,8,10,12], # max nodes in each tree\n",
    "                  'min_samples_leaf':[5,6,7,8], # sample required in each leaf\n",
    "                  'min_samples_split':[5,8,9,12]}] # sample required to split node\n",
    "    #decision tree model\n",
    "    rfor_model=RandomForestClassifier()\n",
    "    rfor_gscv= GridSearchCV(rfor_model,param_grid,cv=nfolds)\n",
    "    #fit model to data\n",
    "    rfor_gscv.fit(X2,Y2)\n",
    "    return rfor_gscv.best_params_"
   ]
  },
  {
   "cell_type": "code",
   "execution_count": 77,
   "metadata": {},
   "outputs": [
    {
     "data": {
      "text/plain": [
       "{'criterion': 'entropy',\n",
       " 'max_depth': 10,\n",
       " 'min_samples_leaf': 5,\n",
       " 'min_samples_split': 5,\n",
       " 'n_estimators': 10}"
      ]
     },
     "execution_count": 77,
     "metadata": {},
     "output_type": "execute_result"
    }
   ],
   "source": [
    "best_par= ran_grid_search(X_train2,Y_train2,5)\n",
    "best_par"
   ]
  },
  {
   "cell_type": "code",
   "execution_count": 78,
   "metadata": {},
   "outputs": [],
   "source": [
    "#model training using the hyperparameter\n",
    "ran_forest=RandomForestClassifier(random_state=52,bootstrap=False,max_features=None,n_estimators=100,max_depth=10,criterion='entropy',min_samples_split=9,min_samples_leaf=5)"
   ]
  },
  {
   "cell_type": "code",
   "execution_count": null,
   "metadata": {},
   "outputs": [],
   "source": []
  },
  {
   "cell_type": "markdown",
   "metadata": {},
   "source": [
    "# Decision Tree Classifier"
   ]
  },
  {
   "cell_type": "code",
   "execution_count": 79,
   "metadata": {},
   "outputs": [
    {
     "name": "stdout",
     "output_type": "stream",
     "text": [
      "Model accuracy on train is:  0.9821627647714605\n",
      "Model accuracy on test is:  0.9661399548532731\n",
      "--------------------------------------------------\n",
      "KappaScore is:  0.9518833905374289\n"
     ]
    }
   ],
   "source": [
    "# fit the model on train data \n",
    "DT2 = decision_tree.fit(X_train2,Y_train2)\n",
    "\n",
    "#predict on train \n",
    "train_preds3 = DT2.predict(X_train2)\n",
    "#accuracy on train\n",
    "print(\"Model accuracy on train is: \", accuracy_score(Y_train2, train_preds3))\n",
    "\n",
    "#predict on test\n",
    "test_preds3 = DT2.predict(X_test2)\n",
    "#accuracy on test\n",
    "print(\"Model accuracy on test is: \", accuracy_score(Y_test2, test_preds3))\n",
    "print('-'*50)\n",
    "\n",
    "# Kappa Score\n",
    "print('KappaScore is: ', metrics.cohen_kappa_score(Y_test2,test_preds3))\n"
   ]
  },
  {
   "cell_type": "code",
   "execution_count": 80,
   "metadata": {},
   "outputs": [
    {
     "data": {
      "text/plain": [
       "array(['Moderate'], dtype=object)"
      ]
     },
     "execution_count": 80,
     "metadata": {},
     "output_type": "execute_result"
    }
   ],
   "source": [
    "DT2.predict([[100,50,7,181,92,100,2]]) "
   ]
  },
  {
   "cell_type": "markdown",
   "metadata": {},
   "source": [
    "# Random Forest Classifier"
   ]
  },
  {
   "cell_type": "code",
   "execution_count": 81,
   "metadata": {},
   "outputs": [
    {
     "name": "stdout",
     "output_type": "stream",
     "text": [
      "Model accuracy on train is:  0.9855072463768116\n",
      "Model accuracy on test is:  0.963882618510158\n",
      "--------------------------------------------------\n",
      "KappaScore is:  0.9487023607914659\n"
     ]
    }
   ],
   "source": [
    "#fit the model on train data \n",
    "RF=ran_forest.fit(X_train2,Y_train2)\n",
    "#predict on train \n",
    "train_preds4 = RF.predict(X_train2)\n",
    "#accuracy on train\n",
    "print(\"Model accuracy on train is: \", accuracy_score(Y_train2, train_preds4))\n",
    "\n",
    "#predict on test\n",
    "test_preds4 = RF.predict(X_test2)\n",
    "#accuracy on test\n",
    "print(\"Model accuracy on test is: \", accuracy_score(Y_test2, test_preds4))\n",
    "print('-'*50)\n",
    "\n",
    "# Kappa Score\n",
    "print('KappaScore is: ', metrics.cohen_kappa_score(Y_test2,test_preds4))"
   ]
  },
  {
   "cell_type": "code",
   "execution_count": 82,
   "metadata": {},
   "outputs": [
    {
     "data": {
      "text/plain": [
       "array(['Moderate'], dtype=object)"
      ]
     },
     "execution_count": 82,
     "metadata": {},
     "output_type": "execute_result"
    }
   ],
   "source": [
    "RF.predict([[100,50,7,181,92,100,2]]) "
   ]
  },
  {
   "cell_type": "markdown",
   "metadata": {},
   "source": [
    "# K-Nearest Neighbours"
   ]
  },
  {
   "cell_type": "code",
   "execution_count": 83,
   "metadata": {},
   "outputs": [
    {
     "name": "stdout",
     "output_type": "stream",
     "text": [
      "Model accuracy on train is:  0.9587513935340022\n",
      "Model accuracy on test is:  0.9300225733634312\n",
      "--------------------------------------------------\n",
      "KappaScore is:  0.900706399531477\n"
     ]
    }
   ],
   "source": [
    "#fit the model on train data \n",
    "KNN = KNeighborsClassifier().fit(X_train2,Y_train2)\n",
    "#predict on train \n",
    "train_preds5 = KNN.predict(X_train2)\n",
    "#accuracy on train\n",
    "print(\"Model accuracy on train is: \", accuracy_score(Y_train2, train_preds5))\n",
    "\n",
    "#predict on test\n",
    "test_preds5 = KNN.predict(X_test2)\n",
    "#accuracy on test\n",
    "print(\"Model accuracy on test is: \", accuracy_score(Y_test2, test_preds5))\n",
    "print('-'*50)\n",
    "\n",
    "# Kappa Score\n",
    "print('KappaScore is: ', metrics.cohen_kappa_score(Y_test2,test_preds5))"
   ]
  },
  {
   "cell_type": "code",
   "execution_count": 84,
   "metadata": {
    "scrolled": true
   },
   "outputs": [
    {
     "data": {
      "text/plain": [
       "array(['Moderate'], dtype=object)"
      ]
     },
     "execution_count": 84,
     "metadata": {},
     "output_type": "execute_result"
    }
   ],
   "source": [
    "KNN.predict([[100,50,7,181,92,100,2]]) "
   ]
  },
  {
   "cell_type": "markdown",
   "metadata": {},
   "source": [
    "# *A voting classifier is a machine learning estimator that trains various base models or estimators and predicts on the basis of aggregating the findings of each base estimator like\"logistic regressor and random forest etc\""
   ]
  },
  {
   "cell_type": "code",
   "execution_count": 85,
   "metadata": {},
   "outputs": [
    {
     "name": "stdout",
     "output_type": "stream",
     "text": [
      "['Moderate' 'Moderate' 'Satisfactory' 'Good' 'Satisfactory' 'Moderate'\n",
      " 'Satisfactory' 'Satisfactory' 'Good' 'Satisfactory' 'Satisfactory' 'Good'\n",
      " 'Good' 'Good' 'Moderate' 'Good' 'Good' 'Good' 'Moderate' 'Good'\n",
      " 'Satisfactory' 'Satisfactory' 'Good' 'Satisfactory' 'Moderate'\n",
      " 'Satisfactory' 'Moderate' 'Moderate' 'Good' 'Satisfactory' 'Moderate'\n",
      " 'Moderate' 'Moderate' 'Good' 'Good' 'Satisfactory' 'Moderate'\n",
      " 'Satisfactory' 'Satisfactory' 'Moderate' 'Poor' 'Moderate' 'Good'\n",
      " 'Satisfactory' 'Poor' 'Satisfactory' 'Good' 'Good' 'Good' 'Satisfactory'\n",
      " 'Satisfactory' 'Satisfactory' 'Satisfactory' 'Satisfactory' 'Moderate'\n",
      " 'Moderate' 'Moderate' 'Good' 'Satisfactory' 'Satisfactory' 'Satisfactory'\n",
      " 'Satisfactory' 'Good' 'Good' 'Satisfactory' 'Moderate' 'Moderate'\n",
      " 'Satisfactory' 'Moderate' 'Good' 'Good' 'Satisfactory' 'Moderate' 'Good'\n",
      " 'Poor' 'Satisfactory' 'Good' 'Satisfactory' 'Satisfactory' 'Satisfactory'\n",
      " 'Moderate' 'Moderate' 'Moderate' 'Moderate' 'Moderate' 'Good' 'Moderate'\n",
      " 'Satisfactory' 'Moderate' 'Satisfactory' 'Satisfactory' 'Good' 'Poor'\n",
      " 'Satisfactory' 'Satisfactory' 'Moderate' 'Poor' 'Moderate' 'Satisfactory'\n",
      " 'Satisfactory' 'Moderate' 'Good' 'Good' 'Moderate' 'Moderate' 'Good'\n",
      " 'Moderate' 'Satisfactory' 'Good' 'Satisfactory' 'Good' 'Satisfactory'\n",
      " 'Good' 'Satisfactory' 'Satisfactory' 'Good' 'Good' 'Good' 'Moderate'\n",
      " 'Moderate' 'Satisfactory' 'Good' 'Satisfactory' 'Good' 'Good'\n",
      " 'Satisfactory' 'Satisfactory' 'Moderate' 'Poor' 'Poor' 'Good'\n",
      " 'Satisfactory' 'Moderate' 'Moderate' 'Good' 'Moderate' 'Good' 'Poor'\n",
      " 'Moderate' 'Moderate' 'Satisfactory' 'Good' 'Good' 'Satisfactory'\n",
      " 'Satisfactory' 'Moderate' 'Satisfactory' 'Satisfactory' 'Good' 'Good'\n",
      " 'Moderate' 'Satisfactory' 'Poor' 'Good' 'Good' 'Moderate' 'Good' 'Good'\n",
      " 'Satisfactory' 'Satisfactory' 'Moderate' 'Poor' 'Good' 'Moderate' 'Good'\n",
      " 'Good' 'Satisfactory' 'Poor' 'Good' 'Moderate' 'Satisfactory' 'Moderate'\n",
      " 'Satisfactory' 'Moderate' 'Satisfactory' 'Good' 'Moderate' 'Satisfactory'\n",
      " 'Moderate' 'Satisfactory' 'Satisfactory' 'Moderate' 'Poor' 'Satisfactory'\n",
      " 'Satisfactory' 'Moderate' 'Moderate' 'Satisfactory' 'Moderate' 'Good'\n",
      " 'Good' 'Good' 'Good' 'Moderate' 'Good' 'Satisfactory' 'Moderate' 'Good'\n",
      " 'Good' 'Good' 'Moderate' 'Good' 'Satisfactory' 'Good' 'Moderate'\n",
      " 'Moderate' 'Moderate' 'Satisfactory' 'Satisfactory' 'Good' 'Good'\n",
      " 'Moderate' 'Good' 'Satisfactory' 'Moderate' 'Satisfactory' 'Moderate'\n",
      " 'Good' 'Good' 'Moderate' 'Good' 'Moderate' 'Satisfactory' 'Moderate'\n",
      " 'Moderate' 'Satisfactory' 'Very Poor' 'Satisfactory' 'Satisfactory'\n",
      " 'Good' 'Moderate' 'Good' 'Satisfactory' 'Satisfactory' 'Poor'\n",
      " 'Satisfactory' 'Satisfactory' 'Moderate' 'Satisfactory' 'Satisfactory'\n",
      " 'Satisfactory' 'Good' 'Poor' 'Moderate' 'Satisfactory' 'Good' 'Good'\n",
      " 'Good' 'Moderate' 'Moderate' 'Poor' 'Moderate' 'Satisfactory'\n",
      " 'Satisfactory' 'Moderate' 'Satisfactory' 'Good' 'Satisfactory'\n",
      " 'Satisfactory' 'Moderate' 'Good' 'Moderate' 'Moderate' 'Good' 'Moderate'\n",
      " 'Satisfactory' 'Good' 'Satisfactory' 'Moderate' 'Good' 'Good' 'Good'\n",
      " 'Good' 'Satisfactory' 'Poor' 'Poor' 'Moderate' 'Satisfactory' 'Moderate'\n",
      " 'Good' 'Satisfactory' 'Satisfactory' 'Moderate' 'Moderate' 'Good'\n",
      " 'Satisfactory' 'Moderate' 'Moderate' 'Satisfactory' 'Moderate' 'Moderate'\n",
      " 'Moderate' 'Good' 'Good' 'Moderate' 'Satisfactory' 'Satisfactory' 'Good'\n",
      " 'Satisfactory' 'Satisfactory' 'Moderate' 'Good' 'Moderate' 'Good'\n",
      " 'Moderate' 'Moderate' 'Good' 'Moderate' 'Satisfactory' 'Satisfactory'\n",
      " 'Moderate' 'Satisfactory' 'Good' 'Good' 'Moderate' 'Good' 'Good'\n",
      " 'Moderate' 'Good' 'Moderate' 'Satisfactory' 'Satisfactory' 'Satisfactory'\n",
      " 'Satisfactory' 'Satisfactory' 'Good' 'Satisfactory' 'Good' 'Moderate'\n",
      " 'Satisfactory' 'Good' 'Satisfactory' 'Moderate' 'Moderate' 'Satisfactory'\n",
      " 'Satisfactory' 'Good' 'Good' 'Good' 'Moderate' 'Moderate' 'Poor'\n",
      " 'Satisfactory' 'Satisfactory' 'Good' 'Satisfactory' 'Moderate' 'Moderate'\n",
      " 'Moderate' 'Good' 'Good' 'Satisfactory' 'Good' 'Moderate' 'Satisfactory'\n",
      " 'Satisfactory' 'Poor' 'Good' 'Moderate' 'Moderate' 'Satisfactory'\n",
      " 'Moderate' 'Satisfactory' 'Moderate' 'Moderate' 'Satisfactory' 'Moderate'\n",
      " 'Good' 'Moderate' 'Poor' 'Poor' 'Good' 'Satisfactory' 'Moderate' 'Good'\n",
      " 'Good' 'Moderate' 'Moderate' 'Poor' 'Satisfactory' 'Satisfactory'\n",
      " 'Satisfactory' 'Good' 'Satisfactory' 'Moderate' 'Moderate' 'Good'\n",
      " 'Moderate' 'Satisfactory' 'Satisfactory' 'Satisfactory' 'Poor' 'Moderate'\n",
      " 'Good' 'Satisfactory' 'Satisfactory' 'Satisfactory' 'Good' 'Satisfactory'\n",
      " 'Good' 'Moderate' 'Satisfactory' 'Good' 'Moderate' 'Satisfactory' 'Good'\n",
      " 'Satisfactory' 'Good' 'Moderate' 'Satisfactory' 'Good' 'Satisfactory'\n",
      " 'Good' 'Good' 'Good' 'Good' 'Moderate' 'Satisfactory' 'Good' 'Moderate'\n",
      " 'Satisfactory' 'Satisfactory' 'Moderate' 'Poor' 'Poor' 'Satisfactory'\n",
      " 'Satisfactory' 'Moderate' 'Poor' 'Satisfactory' 'Satisfactory' 'Moderate'\n",
      " 'Satisfactory' 'Good' 'Moderate' 'Good' 'Good' 'Moderate' 'Satisfactory'\n",
      " 'Moderate' 'Satisfactory' 'Satisfactory' 'Good']\n"
     ]
    }
   ],
   "source": [
    "from sklearn.ensemble import VotingClassifier\n",
    "log_clf = LogisticRegression()\n",
    "deci_clf=DecisionTreeClassifier()\n",
    "rnd_clf = RandomForestClassifier()\n",
    "kner_clf=KNeighborsClassifier()\n",
    "voting_clf = VotingClassifier(\n",
    " estimators=[('lr', log_clf),('DecisionTree',deci_clf), ('rf', rnd_clf),('KNeighbors',kner_clf)],\n",
    " voting='hard')\n",
    "voting_clf.fit(X_train2, Y_train2)\n",
    "predictions=voting_clf.predict( X_test2)\n",
    "# predictions.sort()\n",
    "print(predictions)\n"
   ]
  },
  {
   "cell_type": "markdown",
   "metadata": {},
   "source": [
    "# Here we use 5 fold cross_val_score, to see the average result of all the above  classifier at a place"
   ]
  },
  {
   "cell_type": "code",
   "execution_count": 86,
   "metadata": {},
   "outputs": [
    {
     "name": "stdout",
     "output_type": "stream",
     "text": [
      "[0.6844816883923028, 0.9832960893854749, 0.963221601489758, 0.9219801365611422]\n"
     ]
    }
   ],
   "source": [
    "from sklearn.model_selection import cross_val_score\n",
    "c=[]\n",
    "c.append(cross_val_score(log_clf,X_train2, Y_train2,scoring='accuracy',cv=5).mean())\n",
    "c.append(cross_val_score(deci_clf,X_train2, Y_train2,scoring='accuracy',cv=5).mean())\n",
    "c.append(cross_val_score(rnd_clf,X_train2, Y_train2,scoring='accuracy',cv=5).mean())\n",
    "c.append(cross_val_score(kner_clf,X_train2, Y_train2,scoring='accuracy',cv=5).mean())\n",
    "print(c)\n",
    "dicc={\"log_reg\":c[0],\"dec_cl\":c[1],\"Random_frst\":c[2],\"K_nn\":c[3]}"
   ]
  },
  {
   "cell_type": "code",
   "execution_count": 87,
   "metadata": {},
   "outputs": [
    {
     "data": {
      "text/plain": [
       "{'log_reg': 0.6844816883923028,\n",
       " 'dec_cl': 0.9832960893854749,\n",
       " 'Random_frst': 0.963221601489758,\n",
       " 'K_nn': 0.9219801365611422}"
      ]
     },
     "execution_count": 87,
     "metadata": {},
     "output_type": "execute_result"
    }
   ],
   "source": [
    "dicc"
   ]
  },
  {
   "cell_type": "code",
   "execution_count": 88,
   "metadata": {},
   "outputs": [],
   "source": [
    "c=pd.DataFrame(c)\n"
   ]
  },
  {
   "cell_type": "code",
   "execution_count": 89,
   "metadata": {},
   "outputs": [],
   "source": [
    "# setting Model column and giving name of each model\n",
    "md=[\"Logistic classifier\",'Decision classifier','Random forest','KNN']\n",
    "md=pd.DataFrame(md)\n",
    "c=[md,c]\n",
    "c=c=pd.concat(c,axis=1)\n",
    "# c.rename(index={0:\"Logistic classifier\",1:'Decision classifier',2:'Random forest',3:'KNN'})"
   ]
  },
  {
   "cell_type": "code",
   "execution_count": 90,
   "metadata": {},
   "outputs": [],
   "source": [
    "c.columns = ['Model', \"Kappa score\"]\n",
    "c=pd.DataFrame(c)"
   ]
  },
  {
   "cell_type": "code",
   "execution_count": 92,
   "metadata": {},
   "outputs": [],
   "source": [
    "# to save csv file of c \n",
    "c.to_csv('classifier.csv')"
   ]
  },
  {
   "cell_type": "code",
   "execution_count": 91,
   "metadata": {},
   "outputs": [
    {
     "data": {
      "text/plain": [
       "([0, 1, 2, 3],\n",
       " [Text(0, 0, 'Logistic classifier'),\n",
       "  Text(1, 0, 'Decision classifier'),\n",
       "  Text(2, 0, 'Random forest'),\n",
       "  Text(3, 0, 'KNN')])"
      ]
     },
     "execution_count": 91,
     "metadata": {},
     "output_type": "execute_result"
    },
    {
     "data": {
      "image/png": "[encoded data removed]",
      "text/plain": [
       "<Figure size 360x360 with 1 Axes>"
      ]
     },
     "metadata": {},
     "output_type": "display_data"
    }
   ],
   "source": [
    "plt.figure(figsize=(12,12),dpi=30)\n",
    "plt.bar(c['Model'],c[\"Kappa score\"], width=.1)\n",
    "plt.title(\"R2 of Different ML models\",fontsize=14)\n",
    "plt.xlabel(\"ML Model\",fontsize=15)\n",
    "plt.ylabel(\"Value of R2\",fontsize=15)\n",
    "plt.xticks(rotation=90)"
   ]
  },
  {
   "cell_type": "markdown",
   "metadata": {},
   "source": [
    "# We see that the desicion tree classifier is best model in our given data "
   ]
  },
  {
   "cell_type": "code",
   "execution_count": 1,
   "metadata": {},
   "outputs": [
    {
     "name": "stdout",
     "output_type": "stream",
     "text": [
      "Collecting sweetvizNote: you may need to restart the kernel to use updated packages.\n"
     ]
    },
    {
     "name": "stderr",
     "output_type": "stream",
     "text": [
      "\n",
      "[notice] A new release of pip is available: 23.0.1 -> 23.1\n",
      "[notice] To update, run: python.exe -m pip install --upgrade pip\n"
     ]
    },
    {
     "name": "stdout",
     "output_type": "stream",
     "text": [
      "\n",
      "  Downloading sweetviz-2.1.4-py3-none-any.whl (15.1 MB)\n",
      "     ---------------------------------------- 0.0/15.1 MB ? eta -:--:--\n",
      "     - -------------------------------------- 0.4/15.1 MB 12.2 MB/s eta 0:00:02\n",
      "     ----- ---------------------------------- 2.0/15.1 MB 24.9 MB/s eta 0:00:01\n",
      "     -------- ------------------------------- 3.1/15.1 MB 28.5 MB/s eta 0:00:01\n",
      "     -------- ------------------------------- 3.1/15.1 MB 28.5 MB/s eta 0:00:01\n",
      "     -------- ------------------------------- 3.1/15.1 MB 28.5 MB/s eta 0:00:01\n",
      "     -------- ------------------------------- 3.1/15.1 MB 28.5 MB/s eta 0:00:01\n",
      "     -------- ------------------------------- 3.1/15.1 MB 28.5 MB/s eta 0:00:01\n",
      "     -------- ------------------------------- 3.1/15.1 MB 28.5 MB/s eta 0:00:01\n",
      "     -------- ------------------------------- 3.1/15.1 MB 28.5 MB/s eta 0:00:01\n",
      "     -------- ------------------------------- 3.1/15.1 MB 28.5 MB/s eta 0:00:01\n",
      "     --------- ------------------------------ 3.7/15.1 MB 7.2 MB/s eta 0:00:02\n",
      "     ------------- -------------------------- 5.1/15.1 MB 9.1 MB/s eta 0:00:02\n",
      "     ----------------- ---------------------- 6.5/15.1 MB 11.0 MB/s eta 0:00:01\n",
      "     --------------------- ------------------ 8.1/15.1 MB 12.3 MB/s eta 0:00:01\n",
      "     -------------------------- ------------ 10.1/15.1 MB 14.4 MB/s eta 0:00:01\n",
      "     ------------------------------- ------- 12.4/15.1 MB 15.2 MB/s eta 0:00:01\n",
      "     --------------------------------------  14.9/15.1 MB 40.9 MB/s eta 0:00:01\n",
      "     --------------------------------------  15.1/15.1 MB 40.9 MB/s eta 0:00:01\n",
      "     --------------------------------------  15.1/15.1 MB 40.9 MB/s eta 0:00:01\n",
      "     --------------------------------------- 15.1/15.1 MB 29.8 MB/s eta 0:00:00\n",
      "Requirement already satisfied: matplotlib>=3.1.3 in c:\\users\\sourav\\appdata\\local\\programs\\python\\python310\\lib\\site-packages (from sweetviz) (3.6.3)\n",
      "Requirement already satisfied: jinja2>=2.11.1 in c:\\users\\sourav\\appdata\\local\\programs\\python\\python310\\lib\\site-packages (from sweetviz) (3.1.2)\n",
      "Collecting importlib-resources>=1.2.0\n",
      "  Downloading importlib_resources-5.12.0-py3-none-any.whl (36 kB)\n",
      "Requirement already satisfied: tqdm>=4.43.0 in c:\\users\\sourav\\appdata\\local\\programs\\python\\python310\\lib\\site-packages (from sweetviz) (4.64.1)\n",
      "Requirement already satisfied: numpy>=1.16.0 in c:\\users\\sourav\\appdata\\local\\programs\\python\\python310\\lib\\site-packages (from sweetviz) (1.23.5)\n",
      "Requirement already satisfied: pandas!=1.0.0,!=1.0.1,!=1.0.2,>=0.25.3 in c:\\users\\sourav\\appdata\\local\\programs\\python\\python310\\lib\\site-packages (from sweetviz) (1.5.3)\n",
      "Requirement already satisfied: scipy>=1.3.2 in c:\\users\\sourav\\appdata\\local\\programs\\python\\python310\\lib\\site-packages (from sweetviz) (1.9.3)\n",
      "Requirement already satisfied: MarkupSafe>=2.0 in c:\\users\\sourav\\appdata\\local\\programs\\python\\python310\\lib\\site-packages (from jinja2>=2.11.1->sweetviz) (2.1.2)\n",
      "Requirement already satisfied: pillow>=6.2.0 in c:\\users\\sourav\\appdata\\local\\programs\\python\\python310\\lib\\site-packages (from matplotlib>=3.1.3->sweetviz) (9.4.0)\n",
      "Requirement already satisfied: python-dateutil>=2.7 in c:\\users\\sourav\\appdata\\local\\programs\\python\\python310\\lib\\site-packages (from matplotlib>=3.1.3->sweetviz) (2.8.2)\n",
      "Requirement already satisfied: pyparsing>=2.2.1 in c:\\users\\sourav\\appdata\\local\\programs\\python\\python310\\lib\\site-packages (from matplotlib>=3.1.3->sweetviz) (3.0.9)\n",
      "Requirement already satisfied: contourpy>=1.0.1 in c:\\users\\sourav\\appdata\\local\\programs\\python\\python310\\lib\\site-packages (from matplotlib>=3.1.3->sweetviz) (1.0.7)\n",
      "Requirement already satisfied: kiwisolver>=1.0.1 in c:\\users\\sourav\\appdata\\local\\programs\\python\\python310\\lib\\site-packages (from matplotlib>=3.1.3->sweetviz) (1.4.4)\n",
      "Requirement already satisfied: fonttools>=4.22.0 in c:\\users\\sourav\\appdata\\local\\programs\\python\\python310\\lib\\site-packages (from matplotlib>=3.1.3->sweetviz) (4.38.0)\n",
      "Requirement already satisfied: cycler>=0.10 in c:\\users\\sourav\\appdata\\local\\programs\\python\\python310\\lib\\site-packages (from matplotlib>=3.1.3->sweetviz) (0.11.0)\n",
      "Requirement already satisfied: packaging>=20.0 in c:\\users\\sourav\\appdata\\local\\programs\\python\\python310\\lib\\site-packages (from matplotlib>=3.1.3->sweetviz) (23.0)\n",
      "Requirement already satisfied: pytz>=2020.1 in c:\\users\\sourav\\appdata\\local\\programs\\python\\python310\\lib\\site-packages (from pandas!=1.0.0,!=1.0.1,!=1.0.2,>=0.25.3->sweetviz) (2022.7.1)\n",
      "Requirement already satisfied: colorama in c:\\users\\sourav\\appdata\\local\\programs\\python\\python310\\lib\\site-packages (from tqdm>=4.43.0->sweetviz) (0.4.6)\n",
      "Requirement already satisfied: six>=1.5 in c:\\users\\sourav\\appdata\\local\\programs\\python\\python310\\lib\\site-packages (from python-dateutil>=2.7->matplotlib>=3.1.3->sweetviz) (1.16.0)\n",
      "Installing collected packages: importlib-resources, sweetviz\n",
      "Successfully installed importlib-resources-5.12.0 sweetviz-2.1.4\n"
     ]
    }
   ],
   "source": [
    "pip install sweetviz"
   ]
  },
  {
   "cell_type": "code",
   "execution_count": 23,
   "metadata": {},
   "outputs": [],
   "source": [
    "import sweetviz as sv\n",
    "\n"
   ]
  },
  {
   "cell_type": "code",
   "execution_count": 24,
   "metadata": {},
   "outputs": [
    {
     "name": "stderr",
     "output_type": "stream",
     "text": [
      "C:\\Users\\sourav\\AppData\\Local\\Programs\\Python\\Python310\\lib\\site-packages\\sweetviz\\dataframe_report.py:74: FutureWarning: iteritems is deprecated and will be removed in a future version. Use .items instead.\n",
      "  all_source_names = [cur_name for cur_name, cur_series in source_df.iteritems()]\n",
      "C:\\Users\\sourav\\AppData\\Local\\Programs\\Python\\Python310\\lib\\site-packages\\sweetviz\\dataframe_report.py:109: FutureWarning: iteritems is deprecated and will be removed in a future version. Use .items instead.\n",
      "  filtered_series_names_in_source = [cur_name for cur_name, cur_series in source_df.iteritems()\n"
     ]
    },
    {
     "data": {
      "application/vnd.jupyter.widget-view+json": {
       "model_id": "4a4599f11e4642a3b23f34380c5fabe6",
       "version_major": 2,
       "version_minor": 0
      },
      "text/plain": [
       "                                             |                                             | [  0%]   00:00 ->…"
      ]
     },
     "metadata": {},
     "output_type": "display_data"
    },
    {
     "name": "stderr",
     "output_type": "stream",
     "text": [
      "C:\\Users\\sourav\\AppData\\Local\\Programs\\Python\\Python310\\lib\\site-packages\\sweetviz\\series_analyzer_text.py:19: FutureWarning: iteritems is deprecated and will be removed in a future version. Use .items instead.\n",
      "  for item in to_process.source_counts[\"value_counts_without_nan\"].iteritems():\n",
      "C:\\Users\\sourav\\AppData\\Local\\Programs\\Python\\Python310\\lib\\site-packages\\sweetviz\\series_analyzer_numeric.py:25: FutureWarning: The 'mad' method is deprecated and will be removed in a future version. To compute the same result, you may do `(df - df.mean()).abs().mean()`.\n",
      "  stats[\"mad\"] = series.mad()\n",
      "C:\\Users\\sourav\\AppData\\Local\\Programs\\Python\\Python310\\lib\\site-packages\\sweetviz\\series_analyzer_numeric.py:25: FutureWarning: The 'mad' method is deprecated and will be removed in a future version. To compute the same result, you may do `(df - df.mean()).abs().mean()`.\n",
      "  stats[\"mad\"] = series.mad()\n",
      "C:\\Users\\sourav\\AppData\\Local\\Programs\\Python\\Python310\\lib\\site-packages\\sweetviz\\series_analyzer_numeric.py:25: FutureWarning: The 'mad' method is deprecated and will be removed in a future version. To compute the same result, you may do `(df - df.mean()).abs().mean()`.\n",
      "  stats[\"mad\"] = series.mad()\n",
      "C:\\Users\\sourav\\AppData\\Local\\Programs\\Python\\Python310\\lib\\site-packages\\sweetviz\\series_analyzer_numeric.py:25: FutureWarning: The 'mad' method is deprecated and will be removed in a future version. To compute the same result, you may do `(df - df.mean()).abs().mean()`.\n",
      "  stats[\"mad\"] = series.mad()\n",
      "C:\\Users\\sourav\\AppData\\Local\\Programs\\Python\\Python310\\lib\\site-packages\\sweetviz\\series_analyzer_numeric.py:25: FutureWarning: The 'mad' method is deprecated and will be removed in a future version. To compute the same result, you may do `(df - df.mean()).abs().mean()`.\n",
      "  stats[\"mad\"] = series.mad()\n",
      "C:\\Users\\sourav\\AppData\\Local\\Programs\\Python\\Python310\\lib\\site-packages\\sweetviz\\series_analyzer_numeric.py:25: FutureWarning: The 'mad' method is deprecated and will be removed in a future version. To compute the same result, you may do `(df - df.mean()).abs().mean()`.\n",
      "  stats[\"mad\"] = series.mad()\n",
      "C:\\Users\\sourav\\AppData\\Local\\Programs\\Python\\Python310\\lib\\site-packages\\sweetviz\\series_analyzer_numeric.py:25: FutureWarning: The 'mad' method is deprecated and will be removed in a future version. To compute the same result, you may do `(df - df.mean()).abs().mean()`.\n",
      "  stats[\"mad\"] = series.mad()\n"
     ]
    },
    {
     "name": "stdout",
     "output_type": "stream",
     "text": [
      "Report SWEETVIZ_REPORT.html was generated! NOTEBOOK/COLAB USERS: the web browser MAY not pop up, regardless, the report IS saved in your notebook/colab files.\n"
     ]
    }
   ],
   "source": [
    "my_report = sv.analyze(df)\n",
    "my_report.show_html()"
   ]
  },
  {
   "cell_type": "code",
   "execution_count": null,
   "metadata": {},
   "outputs": [],
   "source": []
  },
  {
   "cell_type": "code",
   "execution_count": null,
   "metadata": {},
   "outputs": [],
   "source": []
  }
 ],
 "metadata": {
  "kernelspec": {
   "display_name": "Python 3 (ipykernel)",
   "language": "python",
   "name": "python3"
  },
  "language_info": {
   "codemirror_mode": {
    "name": "ipython",
    "version": 3
   },
   "file_extension": ".py",
   "mimetype": "text/x-python",
   "name": "python",
   "nbconvert_exporter": "python",
   "pygments_lexer": "ipython3",
   "version": "3.10.11"
  }
 },
 "nbformat": 4,
 "nbformat_minor": 4
}
